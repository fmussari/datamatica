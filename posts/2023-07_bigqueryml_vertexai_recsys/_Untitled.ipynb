{
 "cells": [
  {
   "cell_type": "code",
   "execution_count": null,
   "id": "f2b5fe56",
   "metadata": {},
   "outputs": [
    {
     "name": "stdout",
     "output_type": "stream",
     "text": [
      "2023-07_collab_filter_miniai   bqml_vertex_recsys__part2.qmd  pipeline.PNG\r\n",
      "Untitled.ipynb\t\t       commitments.PNG\t\t      reservations.PNG\r\n",
      "bqml_vertex_recsys__part1.qmd  creds\r\n"
     ]
    }
   ],
   "source": [
    "! ls"
   ]
  },
  {
   "cell_type": "code",
   "execution_count": null,
   "id": "ada1e162",
   "metadata": {},
   "outputs": [
    {
     "name": "stdout",
     "output_type": "stream",
     "text": [
      "env: GOOGLE_APPLICATION_CREDENTIALS=./creds/pythonapi-205723-43fb3e6400c5.json\n"
     ]
    }
   ],
   "source": [
    "%env GOOGLE_APPLICATION_CREDENTIALS ./creds/pythonapi-205723-43fb3e6400c5.json"
   ]
  },
  {
   "cell_type": "code",
   "execution_count": null,
   "id": "58d34368",
   "metadata": {},
   "outputs": [
    {
     "name": "stdout",
     "output_type": "stream",
     "text": [
      "<google.oauth2.service_account.Credentials object> pythonapi-205723\n"
     ]
    }
   ],
   "source": [
    "import google.auth\n",
    "credentials, project_id = google.auth.default()\n",
    "print(credentials, project_id)"
   ]
  },
  {
   "cell_type": "code",
   "execution_count": null,
   "id": "6a346b30",
   "metadata": {},
   "outputs": [
    {
     "name": "stdout",
     "output_type": "stream",
     "text": [
      "\u001b[1;31mERROR:\u001b[0m (gcloud.projects.list) There was a problem refreshing your current auth tokens: ('invalid_grant: Bad Request', {'error': 'invalid_grant', 'error_description': 'Bad Request'})\r\n",
      "Please run:\r\n",
      "\r\n",
      "  $ gcloud auth login\r\n",
      "\r\n",
      "to obtain new credentials.\r\n",
      "\r\n",
      "If you have already logged in with a different account, run:\r\n",
      "\r\n",
      "  $ gcloud config set account ACCOUNT\r\n",
      "\r\n",
      "to select an already authenticated account to use.\r\n"
     ]
    }
   ],
   "source": [
    "! gcloud projects list"
   ]
  },
  {
   "cell_type": "code",
   "execution_count": null,
   "id": "0a3a5ce0",
   "metadata": {},
   "outputs": [
    {
     "name": "stdout",
     "output_type": "stream",
     "text": [
      "\u001b[1;31mERROR:\u001b[0m (gcloud.config.set) There was a problem refreshing your current auth tokens: ('invalid_grant: Bad Request', {'error': 'invalid_grant', 'error_description': 'Bad Request'})\r\n",
      "Please run:\r\n",
      "\r\n",
      "  $ gcloud auth login\r\n",
      "\r\n",
      "to obtain new credentials.\r\n",
      "\r\n",
      "If you have already logged in with a different account, run:\r\n",
      "\r\n",
      "  $ gcloud config set account ACCOUNT\r\n",
      "\r\n",
      "to select an already authenticated account to use.\r\n"
     ]
    }
   ],
   "source": [
    "! gcloud config set project {project_id}"
   ]
  },
  {
   "cell_type": "code",
   "execution_count": null,
   "id": "52e7ade1",
   "metadata": {},
   "outputs": [],
   "source": [
    "from google.cloud import bigquery"
   ]
  },
  {
   "cell_type": "code",
   "execution_count": null,
   "id": "568dcc16",
   "metadata": {},
   "outputs": [],
   "source": [
    "client = bigquery.Client(project=project_id)"
   ]
  },
  {
   "cell_type": "code",
   "execution_count": null,
   "id": "a98d3af5",
   "metadata": {},
   "outputs": [
    {
     "data": {
      "text/html": [
       "<div>\n",
       "<style scoped>\n",
       "    .dataframe tbody tr th:only-of-type {\n",
       "        vertical-align: middle;\n",
       "    }\n",
       "\n",
       "    .dataframe tbody tr th {\n",
       "        vertical-align: top;\n",
       "    }\n",
       "\n",
       "    .dataframe thead th {\n",
       "        text-align: right;\n",
       "    }\n",
       "</style>\n",
       "<table border=\"1\" class=\"dataframe\">\n",
       "  <thead>\n",
       "    <tr style=\"text-align: right;\">\n",
       "      <th></th>\n",
       "      <th>movie_id</th>\n",
       "      <th>movie_title</th>\n",
       "      <th>genre</th>\n",
       "    </tr>\n",
       "  </thead>\n",
       "  <tbody>\n",
       "    <tr>\n",
       "      <th>0</th>\n",
       "      <td>632</td>\n",
       "      <td>Land and Freedom (Tierra y libertad) (1995)</td>\n",
       "      <td>War</td>\n",
       "    </tr>\n",
       "    <tr>\n",
       "      <th>1</th>\n",
       "      <td>665</td>\n",
       "      <td>Underground (1995)</td>\n",
       "      <td>War</td>\n",
       "    </tr>\n",
       "    <tr>\n",
       "      <th>2</th>\n",
       "      <td>760</td>\n",
       "      <td>Stalingrad (1993)</td>\n",
       "      <td>War</td>\n",
       "    </tr>\n",
       "    <tr>\n",
       "      <th>3</th>\n",
       "      <td>777</td>\n",
       "      <td>Pharaoh's Army (1995)</td>\n",
       "      <td>War</td>\n",
       "    </tr>\n",
       "    <tr>\n",
       "      <th>4</th>\n",
       "      <td>1450</td>\n",
       "      <td>Prisoner of the Mountains (Kavkazsky Plennik) ...</td>\n",
       "      <td>War</td>\n",
       "    </tr>\n",
       "  </tbody>\n",
       "</table>\n",
       "</div>"
      ],
      "text/plain": [
       "   movie_id                                        movie_title genre\n",
       "0       632        Land and Freedom (Tierra y libertad) (1995)   War\n",
       "1       665                                 Underground (1995)   War\n",
       "2       760                                  Stalingrad (1993)   War\n",
       "3       777                              Pharaoh's Army (1995)   War\n",
       "4      1450  Prisoner of the Mountains (Kavkazsky Plennik) ...   War"
      ]
     },
     "execution_count": null,
     "metadata": {},
     "output_type": "execute_result"
    }
   ],
   "source": [
    "movies_df = client.query('''\n",
    "  SELECT *\n",
    "  FROM `movielens.movie_titles`\n",
    "''').to_dataframe()\n",
    "movies_df.head()"
   ]
  },
  {
   "cell_type": "code",
   "execution_count": null,
   "id": "b29b464c",
   "metadata": {},
   "outputs": [
    {
     "name": "stdout",
     "output_type": "stream",
     "text": [
      "\r\n"
     ]
    }
   ],
   "source": [
    "! echo $CRUNID"
   ]
  },
  {
   "cell_type": "code",
   "execution_count": null,
   "id": "0c8b24e6",
   "metadata": {},
   "outputs": [
    {
     "name": "stdout",
     "output_type": "stream",
     "text": [
      "lmi5oe6dvq\r\n"
     ]
    }
   ],
   "source": [
    "! echo $ENDPOINT_ID"
   ]
  },
  {
   "cell_type": "code",
   "execution_count": null,
   "id": "a3784de8",
   "metadata": {},
   "outputs": [
    {
     "name": "stdout",
     "output_type": "stream",
     "text": [
      "{\r\n",
      "    \"predictions\": [\r\n",
      "        {\r\n",
      "            \"predicted_item_id\": [\"3382\", \"3920\", \"2178\", \"662\", \"469\", \"199\", \"215\", \"2073\", \"881\", \"3132\", \"1900\", \"1615\", \"3141\", \"2928\", \"445\", \"973\", \"3605\", \"766\", \"935\", \"1841\", \"2330\", \"944\", \"2314\", \"3447\", \"2171\", \"3327\", \"2419\", \"2351\", \"557\", \"3720\", \"156\", \"2066\", \"2475\", \"2970\", \"26\", \"2360\", \"3018\", \"2272\", \"2506\", \"3670\", \"1631\", \"414\", \"2165\", \"1177\", \"2264\", \"743\", \"2725\", \"1934\", \"2710\", \"3275\"],\r\n",
      "            \"predicted_rating\": [7.1595457186221525, 6.931200454403859, 6.7487105522542379, 6.6099371431826093, 6.3368375925279663, 6.3162291916598949, 6.2034087300038294, 6.1908018877869777, 6.095065519595515, 6.0748385283824344, 6.0707896719918022, 6.0115152056191317, 5.9950883198035312, 5.9266960142259579, 5.8977393292303706, 5.8963543166167049, 5.8879213166109317, 5.8651216371567951, 5.8157813717342961, 5.7918400837633026, 5.7728366859651743, 5.7459233895973343, 5.7286289144902627, 5.7236862593334399, 5.6735891385114323, 5.6712837959564055, 5.6344651298840862, 5.6144777548802312, 5.6136065773986719, 5.5966244955484585, 5.5826125214031448, 5.5438993473737597, 5.5405328509132108, 5.5156535458862912, 5.5060371378140998, 5.4983916934699879, 5.4779312652757479, 5.4381644519356804, 5.436539915444734, 5.4274984607954586, 5.4162018042063238, 5.4131954911985822, 5.4112950178511134, 5.3977833272890878, 5.3924309392602101, 5.3921355023131454, 5.3795566101479775, 5.3784815662419794, 5.3724805166998593, 5.3716275159116167]\r\n",
      "        }\r\n",
      "    ]\r\n",
      "}"
     ]
    }
   ],
   "source": [
    "! curl --header \"Content-Type: application/json\" \\\n",
    "  --request POST \\\n",
    "  --data '{\"instances\": [{\"user_id\": 1}]}' \\\n",
    "  https://recommender-model-lmi5oe6dvq-uc.a.run.app/v1/models/recommender_model:predict"
   ]
  },
  {
   "cell_type": "code",
   "execution_count": null,
   "id": "da9b67b1",
   "metadata": {},
   "outputs": [
    {
     "name": "stdout",
     "output_type": "stream",
     "text": [
      "{\r\n",
      "    \"predictions\": [\r\n",
      "        {\r\n",
      "            \"predicted_rating\": [7.1595457186221525, 6.931200454403859, 6.7487105522542379, 6.6099371431826093, 6.3368375925279663, 6.3162291916598949, 6.2034087300038294, 6.1908018877869777, 6.095065519595515, 6.0748385283824344, 6.0707896719918022, 6.0115152056191317, 5.9950883198035312, 5.9266960142259579, 5.8977393292303706, 5.8963543166167049, 5.8879213166109317, 5.8651216371567951, 5.8157813717342961, 5.7918400837633026, 5.7728366859651743, 5.7459233895973343, 5.7286289144902627, 5.7236862593334399, 5.6735891385114323, 5.6712837959564055, 5.6344651298840862, 5.6144777548802312, 5.6136065773986719, 5.5966244955484585, 5.5826125214031448, 5.5438993473737597, 5.5405328509132108, 5.5156535458862912, 5.5060371378140998, 5.4983916934699879, 5.4779312652757479, 5.4381644519356804, 5.436539915444734, 5.4274984607954586, 5.4162018042063238, 5.4131954911985822, 5.4112950178511134, 5.3977833272890878, 5.3924309392602101, 5.3921355023131454, 5.3795566101479775, 5.3784815662419794, 5.3724805166998593, 5.3716275159116167],\r\n",
      "            \"predicted_item_id\": [\"3382\", \"3920\", \"2178\", \"662\", \"469\", \"199\", \"215\", \"2073\", \"881\", \"3132\", \"1900\", \"1615\", \"3141\", \"2928\", \"445\", \"973\", \"3605\", \"766\", \"935\", \"1841\", \"2330\", \"944\", \"2314\", \"3447\", \"2171\", \"3327\", \"2419\", \"2351\", \"557\", \"3720\", \"156\", \"2066\", \"2475\", \"2970\", \"26\", \"2360\", \"3018\", \"2272\", \"2506\", \"3670\", \"1631\", \"414\", \"2165\", \"1177\", \"2264\", \"743\", \"2725\", \"1934\", \"2710\", \"3275\"]\r\n",
      "        }\r\n",
      "    ]\r\n",
      "}"
     ]
    }
   ],
   "source": [
    "! curl --header \"Content-Type: application/json\" \\\n",
    "  --request POST \\\n",
    "  --data '{\"instances\": [{\"user_id\": 1}]}' \\\n",
    "  https://recommender-model-${ENDPOINT_ID}-uc.a.run.app/v1/models/recommender_model:predict"
   ]
  },
  {
   "cell_type": "code",
   "execution_count": null,
   "id": "d2a9bcf4",
   "metadata": {},
   "outputs": [
    {
     "name": "stdout",
     "output_type": "stream",
     "text": [
      "/home/fmussari/mambaforge/envs/fastaiv3/bin/python\r\n"
     ]
    }
   ],
   "source": [
    "!which python"
   ]
  },
  {
   "cell_type": "code",
   "execution_count": null,
   "id": "11cdcffe",
   "metadata": {},
   "outputs": [],
   "source": [
    "endpoint_predictions = ! curl --header \"Content-Type: application/json\" \\\n",
    "  --request POST \\\n",
    "  --data '{\"instances\": [{\"user_id\": 1}]}' \\\n",
    "  https://recommender-model-${ENDPOINT_ID}-uc.a.run.app/v1/models/recommender_model:predict"
   ]
  },
  {
   "cell_type": "code",
   "execution_count": null,
   "id": "56ef8c69",
   "metadata": {},
   "outputs": [],
   "source": [
    "import json"
   ]
  },
  {
   "cell_type": "code",
   "execution_count": null,
   "id": "317111ec",
   "metadata": {},
   "outputs": [
    {
     "data": {
      "text/plain": [
       "{'predictions': [{'predicted_rating': [7.1595457186221525,\n",
       "    6.931200454403859,\n",
       "    6.748710552254238,\n",
       "    6.609937143182609,\n",
       "    6.336837592527966,\n",
       "    6.316229191659895,\n",
       "    6.203408730003829,\n",
       "    6.190801887786978,\n",
       "    6.095065519595515,\n",
       "    6.074838528382434,\n",
       "    6.070789671991802,\n",
       "    6.011515205619132,\n",
       "    5.995088319803531,\n",
       "    5.926696014225958,\n",
       "    5.897739329230371,\n",
       "    5.896354316616705,\n",
       "    5.887921316610932,\n",
       "    5.865121637156795,\n",
       "    5.815781371734296,\n",
       "    5.791840083763303,\n",
       "    5.772836685965174,\n",
       "    5.745923389597334,\n",
       "    5.728628914490263,\n",
       "    5.72368625933344,\n",
       "    5.673589138511432,\n",
       "    5.6712837959564055,\n",
       "    5.634465129884086,\n",
       "    5.614477754880231,\n",
       "    5.613606577398672,\n",
       "    5.5966244955484585,\n",
       "    5.582612521403145,\n",
       "    5.54389934737376,\n",
       "    5.540532850913211,\n",
       "    5.515653545886291,\n",
       "    5.5060371378141,\n",
       "    5.498391693469988,\n",
       "    5.477931265275748,\n",
       "    5.43816445193568,\n",
       "    5.436539915444734,\n",
       "    5.427498460795459,\n",
       "    5.416201804206324,\n",
       "    5.413195491198582,\n",
       "    5.411295017851113,\n",
       "    5.397783327289088,\n",
       "    5.39243093926021,\n",
       "    5.392135502313145,\n",
       "    5.3795566101479775,\n",
       "    5.378481566241979,\n",
       "    5.372480516699859,\n",
       "    5.371627515911617],\n",
       "   'predicted_item_id': ['3382',\n",
       "    '3920',\n",
       "    '2178',\n",
       "    '662',\n",
       "    '469',\n",
       "    '199',\n",
       "    '215',\n",
       "    '2073',\n",
       "    '881',\n",
       "    '3132',\n",
       "    '1900',\n",
       "    '1615',\n",
       "    '3141',\n",
       "    '2928',\n",
       "    '445',\n",
       "    '973',\n",
       "    '3605',\n",
       "    '766',\n",
       "    '935',\n",
       "    '1841',\n",
       "    '2330',\n",
       "    '944',\n",
       "    '2314',\n",
       "    '3447',\n",
       "    '2171',\n",
       "    '3327',\n",
       "    '2419',\n",
       "    '2351',\n",
       "    '557',\n",
       "    '3720',\n",
       "    '156',\n",
       "    '2066',\n",
       "    '2475',\n",
       "    '2970',\n",
       "    '26',\n",
       "    '2360',\n",
       "    '3018',\n",
       "    '2272',\n",
       "    '2506',\n",
       "    '3670',\n",
       "    '1631',\n",
       "    '414',\n",
       "    '2165',\n",
       "    '1177',\n",
       "    '2264',\n",
       "    '743',\n",
       "    '2725',\n",
       "    '1934',\n",
       "    '2710',\n",
       "    '3275']}]}"
      ]
     },
     "execution_count": null,
     "metadata": {},
     "output_type": "execute_result"
    }
   ],
   "source": [
    "json.loads(\"\".join(endpoint_predictions[9:]))"
   ]
  },
  {
   "cell_type": "code",
   "execution_count": null,
   "id": "d97796ef",
   "metadata": {},
   "outputs": [],
   "source": []
  }
 ],
 "metadata": {
  "kernelspec": {
   "display_name": "Python 3 (ipykernel)",
   "language": "python",
   "name": "python3"
  }
 },
 "nbformat": 4,
 "nbformat_minor": 5
}
