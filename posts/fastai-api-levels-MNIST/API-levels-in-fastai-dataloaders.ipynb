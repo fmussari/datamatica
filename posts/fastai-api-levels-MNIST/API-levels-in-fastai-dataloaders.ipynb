{
 "cells": [
  {
   "cell_type": "markdown",
   "id": "8a5e99ea",
   "metadata": {},
   "source": [
    "---\n",
    "title: Exploring fastai API levels to create Data Loaders  \n",
    "author: \"Francisco Mussari\"  \n",
    "date: 2023-02-02  \n",
    "image: \"fastai API levels.PNG\"  \n",
    "categories: [fastai, deeplearning, dataloaders, API, transforms,  Walk with fastai]  \n",
    "format:\n",
    "  html:\n",
    "    toc: true\n",
    "    toc-depth: 3\n",
    "    \n",
    "---"
   ]
  },
  {
   "cell_type": "markdown",
   "id": "d5074e1d",
   "metadata": {},
   "source": [
    "## Intro\n",
    "In the first lesson of the course [Walk with fastai, the missing pieces for success](https://muellerzr.github.io/fastblog/2022/10/22/Walkwithfastai.html), [Zachary Mueller](https://twitter.com/TheZachMueller) explained to us the three levels he sees in fastai APIs. This is different to Jeremy Howard's consideration, who see two levels.  \n",
    "\n",
    "By the second lesson we had made use of those levels with different datasets.  \n",
    "\n",
    "In this post we are going to explore the three levels with [MNIST](https://en.wikipedia.org/wiki/MNIST_database) dataset, and in the process we will also go step by step in some fastai pieces that were not obvious for me in my beginnings."
   ]
  },
  {
   "cell_type": "markdown",
   "id": "131bfc22",
   "metadata": {},
   "source": [
    "## Importing fastai library and data"
   ]
  },
  {
   "cell_type": "code",
   "execution_count": null,
   "id": "172b70ea",
   "metadata": {},
   "outputs": [],
   "source": [
    "from fastai.vision.all import *"
   ]
  },
  {
   "cell_type": "code",
   "execution_count": null,
   "id": "9ab1a633",
   "metadata": {},
   "outputs": [
    {
     "data": {
      "text/plain": [
       "(Path('/home/fmussari/.fastai/data/mnist_png'),\n",
       " (#2) [Path('/home/fmussari/.fastai/data/mnist_png/training'),Path('/home/fmussari/.fastai/data/mnist_png/testing')])"
      ]
     },
     "execution_count": null,
     "metadata": {},
     "output_type": "execute_result"
    }
   ],
   "source": [
    "path = untar_data(URLs.MNIST); path, path.ls()"
   ]
  },
  {
   "cell_type": "code",
   "execution_count": null,
   "id": "078b5918",
   "metadata": {},
   "outputs": [
    {
     "data": {
      "text/plain": [
       "(#10) [Path('/home/fmussari/.fastai/data/mnist_png/training/4'),Path('/home/fmussari/.fastai/data/mnist_png/training/7'),Path('/home/fmussari/.fastai/data/mnist_png/training/9'),Path('/home/fmussari/.fastai/data/mnist_png/training/5'),Path('/home/fmussari/.fastai/data/mnist_png/training/8'),Path('/home/fmussari/.fastai/data/mnist_png/training/0'),Path('/home/fmussari/.fastai/data/mnist_png/training/2'),Path('/home/fmussari/.fastai/data/mnist_png/training/1'),Path('/home/fmussari/.fastai/data/mnist_png/training/6'),Path('/home/fmussari/.fastai/data/mnist_png/training/3')]"
      ]
     },
     "execution_count": null,
     "metadata": {},
     "output_type": "execute_result"
    }
   ],
   "source": [
    "(path/'training').ls()"
   ]
  },
  {
   "cell_type": "markdown",
   "id": "4dc59ad4",
   "metadata": {},
   "source": [
    "We can see that the data is stored in **training** and **testing** folders.  \n",
    "Each image is then stored in folders that represent its labels: `0`, `1`, `2`, ... `9`."
   ]
  },
  {
   "cell_type": "markdown",
   "id": "9ab32352",
   "metadata": {},
   "source": [
    "## File names and transforms"
   ]
  },
  {
   "cell_type": "code",
   "execution_count": null,
   "id": "ad839198",
   "metadata": {},
   "outputs": [
    {
     "data": {
      "text/plain": [
       "(#70000) [Path('/home/fmussari/.fastai/data/mnist_png/training/4/47823.png'),Path('/home/fmussari/.fastai/data/mnist_png/training/4/45709.png'),Path('/home/fmussari/.fastai/data/mnist_png/training/4/49105.png'),Path('/home/fmussari/.fastai/data/mnist_png/training/4/746.png'),Path('/home/fmussari/.fastai/data/mnist_png/training/4/13451.png'),Path('/home/fmussari/.fastai/data/mnist_png/training/4/54187.png'),Path('/home/fmussari/.fastai/data/mnist_png/training/4/30554.png'),Path('/home/fmussari/.fastai/data/mnist_png/training/4/30886.png'),Path('/home/fmussari/.fastai/data/mnist_png/training/4/52580.png'),Path('/home/fmussari/.fastai/data/mnist_png/training/4/38515.png')...]"
      ]
     },
     "execution_count": null,
     "metadata": {},
     "output_type": "execute_result"
    }
   ],
   "source": [
    "fnames = get_image_files(path)\n",
    "fnames"
   ]
  },
  {
   "cell_type": "markdown",
   "id": "095f6742",
   "metadata": {},
   "source": [
    "### Item and Batch transforms"
   ]
  },
  {
   "cell_type": "code",
   "execution_count": null,
   "id": "a14a8921",
   "metadata": {},
   "outputs": [],
   "source": [
    "item_tfms = [CropPad(34), RandomCrop(size=28), ToTensor()]\n",
    "batch_tfms = [IntToFloatTensor(), Normalize()]"
   ]
  },
  {
   "cell_type": "markdown",
   "id": "e5c54a94",
   "metadata": {},
   "source": [
    "#### Transforms in action\n",
    "Here we are going to explore what each transform does."
   ]
  },
  {
   "cell_type": "code",
   "execution_count": null,
   "id": "90886d0b",
   "metadata": {},
   "outputs": [
    {
     "data": {
      "image/png": "[encoded data removed]",
      "text/plain": [
       "PILImageBW mode=L size=28x28"
      ]
     },
     "execution_count": null,
     "metadata": {},
     "output_type": "execute_result"
    }
   ],
   "source": [
    "im = PILImageBW.create(fnames[0])\n",
    "im"
   ]
  },
  {
   "cell_type": "code",
   "execution_count": null,
   "id": "6d0dfbf9",
   "metadata": {},
   "outputs": [
    {
     "data": {
      "image/png": "[encoded data removed]",
      "text/plain": [
       "PILImageBW mode=L size=50x50"
      ]
     },
     "execution_count": null,
     "metadata": {},
     "output_type": "execute_result"
    }
   ],
   "source": [
    "CropPad(50)(im)"
   ]
  },
  {
   "cell_type": "code",
   "execution_count": null,
   "id": "04267acf",
   "metadata": {},
   "outputs": [
    {
     "data": {
      "image/png": "[encoded data removed]",
      "text/plain": [
       "PILImageBW mode=L size=28x28"
      ]
     },
     "execution_count": null,
     "metadata": {},
     "output_type": "execute_result"
    }
   ],
   "source": [
    "RandomCrop(size=28)(CropPad(50)(im))"
   ]
  },
  {
   "cell_type": "markdown",
   "id": "84c5a10d",
   "metadata": {},
   "source": [
    "Applying the first two sequentially with `reduce`:"
   ]
  },
  {
   "cell_type": "code",
   "execution_count": null,
   "id": "4b48b16d",
   "metadata": {},
   "outputs": [
    {
     "data": {
      "image/png": "[encoded data removed]",
      "text/plain": [
       "PILImageBW mode=L size=28x28"
      ]
     },
     "execution_count": null,
     "metadata": {},
     "output_type": "execute_result"
    }
   ],
   "source": [
    "from functools import reduce\n",
    "reduce(lambda t,f: f(t), item_tfms[:2], im)"
   ]
  },
  {
   "cell_type": "markdown",
   "id": "ad8d06b5",
   "metadata": {},
   "source": [
    "Or with a for loop:"
   ]
  },
  {
   "cell_type": "code",
   "execution_count": null,
   "id": "e7edde54",
   "metadata": {},
   "outputs": [
    {
     "data": {
      "image/png": "[encoded data removed]",
      "text/plain": [
       "PILImageBW mode=L size=28x28"
      ]
     },
     "execution_count": null,
     "metadata": {},
     "output_type": "execute_result"
    }
   ],
   "source": [
    "im0 = im\n",
    "for tfm in item_tfms[:2]:\n",
    "    im0 = tfm(im0)\n",
    "im0"
   ]
  },
  {
   "cell_type": "markdown",
   "id": "460b2f94",
   "metadata": {},
   "source": [
    "What about applying also `ToTensor()`"
   ]
  },
  {
   "cell_type": "code",
   "execution_count": null,
   "id": "2190967d",
   "metadata": {},
   "outputs": [
    {
     "data": {
      "text/plain": [
       "torch.Size([1, 28, 28])"
      ]
     },
     "execution_count": null,
     "metadata": {},
     "output_type": "execute_result"
    }
   ],
   "source": [
    "reduce(lambda t,f: f(t), item_tfms, im).shape"
   ]
  },
  {
   "cell_type": "markdown",
   "id": "e02f695b",
   "metadata": {},
   "source": [
    "## High Level API\n",
    "For this level we are going to use `ImageDataLoaders`, let's explore some of its methods:"
   ]
  },
  {
   "cell_type": "code",
   "execution_count": null,
   "id": "4f435406",
   "metadata": {},
   "outputs": [
    {
     "name": "stdout",
     "output_type": "stream",
     "text": [
      "['from_csv', 'from_dblock', 'from_df', 'from_dsets', 'from_folder', 'from_lists', 'from_name_func', 'from_name_re', 'from_path_func', 'from_path_re']\n"
     ]
    }
   ],
   "source": [
    "print([f for f in dir(ImageDataLoaders) if f[:4]=='from'])"
   ]
  },
  {
   "cell_type": "markdown",
   "id": "20eed618",
   "metadata": {},
   "source": [
    "For this dataset `from_folder` method is the way to go."
   ]
  },
  {
   "cell_type": "code",
   "execution_count": null,
   "id": "e79a8674",
   "metadata": {},
   "outputs": [
    {
     "name": "stdout",
     "output_type": "stream",
     "text": [
      "Help on method from_folder in module fastai.vision.data:\n",
      "\n",
      "from_folder(path, train='train', valid='valid', valid_pct=None, seed=None, vocab=None, item_tfms=None, batch_tfms=None, img_cls=<class 'fastai.vision.core.PILImage'>, *, bs: 'int' = 64, val_bs: 'int' = None, shuffle: 'bool' = True, device=None) method of builtins.type instance\n",
      "    Create from imagenet style dataset in `path` with `train` and `valid` subfolders (or provide `valid_pct`)\n",
      "\n"
     ]
    }
   ],
   "source": [
    "help(ImageDataLoaders.from_folder)"
   ]
  },
  {
   "cell_type": "markdown",
   "id": "27b614c5",
   "metadata": {},
   "source": [
    "### Data Loaders"
   ]
  },
  {
   "cell_type": "code",
   "execution_count": null,
   "id": "9f852091",
   "metadata": {},
   "outputs": [],
   "source": [
    "dls = ImageDataLoaders.from_folder(\n",
    "    path, train='training', valid='testing',\n",
    "    item_tfms=item_tfms,\n",
    "    batch_tfms=batch_tfms\n",
    ")"
   ]
  },
  {
   "cell_type": "code",
   "execution_count": null,
   "id": "5ee5aa33",
   "metadata": {},
   "outputs": [
    {
     "data": {
      "text/plain": [
       "fastai.data.core.DataLoaders"
      ]
     },
     "execution_count": null,
     "metadata": {},
     "output_type": "execute_result"
    }
   ],
   "source": [
    "type(dls)"
   ]
  },
  {
   "cell_type": "code",
   "execution_count": null,
   "id": "7c189d89",
   "metadata": {},
   "outputs": [
    {
     "data": {
      "image/png": "[encoded data removed]",
      "text/plain": [
       "<Figure size 288x288 with 9 Axes>"
      ]
     },
     "metadata": {
      "needs_background": "light"
     },
     "output_type": "display_data"
    }
   ],
   "source": [
    "dls.show_batch(figsize=(4,4))"
   ]
  },
  {
   "cell_type": "code",
   "execution_count": null,
   "id": "3fc40c32",
   "metadata": {},
   "outputs": [
    {
     "data": {
      "text/plain": [
       "64"
      ]
     },
     "execution_count": null,
     "metadata": {},
     "output_type": "execute_result"
    }
   ],
   "source": [
    "dls.bs #default batch size"
   ]
  },
  {
   "cell_type": "code",
   "execution_count": null,
   "id": "57544d9b",
   "metadata": {},
   "outputs": [
    {
     "name": "stdout",
     "output_type": "stream",
     "text": [
      "{'0': 0, '1': 1, '2': 2, '3': 3, '4': 4, '5': 5, '6': 6, '7': 7, '8': 8, '9': 9}\n"
     ]
    }
   ],
   "source": [
    "print(dls.vocab.o2i)"
   ]
  },
  {
   "cell_type": "code",
   "execution_count": null,
   "id": "835eed4d",
   "metadata": {},
   "outputs": [
    {
     "data": {
      "text/plain": [
       "((#60000) [(PILImage mode=RGB size=28x28, TensorCategory(4)),(PILImage mode=RGB size=28x28, TensorCategory(4)),(PILImage mode=RGB size=28x28, TensorCategory(4)),(PILImage mode=RGB size=28x28, TensorCategory(4)),(PILImage mode=RGB size=28x28, TensorCategory(4)),(PILImage mode=RGB size=28x28, TensorCategory(4)),(PILImage mode=RGB size=28x28, TensorCategory(4)),(PILImage mode=RGB size=28x28, TensorCategory(4)),(PILImage mode=RGB size=28x28, TensorCategory(4)),(PILImage mode=RGB size=28x28, TensorCategory(4))...],\n",
       " (#10000) [(PILImage mode=RGB size=28x28, TensorCategory(4)),(PILImage mode=RGB size=28x28, TensorCategory(4)),(PILImage mode=RGB size=28x28, TensorCategory(4)),(PILImage mode=RGB size=28x28, TensorCategory(4)),(PILImage mode=RGB size=28x28, TensorCategory(4)),(PILImage mode=RGB size=28x28, TensorCategory(4)),(PILImage mode=RGB size=28x28, TensorCategory(4)),(PILImage mode=RGB size=28x28, TensorCategory(4)),(PILImage mode=RGB size=28x28, TensorCategory(4)),(PILImage mode=RGB size=28x28, TensorCategory(4))...])"
      ]
     },
     "execution_count": null,
     "metadata": {},
     "output_type": "execute_result"
    }
   ],
   "source": [
    "dls.train_ds, dls.valid_ds"
   ]
  },
  {
   "cell_type": "markdown",
   "id": "d14c270a",
   "metadata": {},
   "source": [
    "## Mid Level API\n",
    "With the mid level API we define blocks according to the problem. In this case we have image inputs and categories to predict."
   ]
  },
  {
   "cell_type": "markdown",
   "id": "8d52776a",
   "metadata": {},
   "source": [
    "### `blocks`"
   ]
  },
  {
   "cell_type": "code",
   "execution_count": null,
   "id": "a4db87bc",
   "metadata": {},
   "outputs": [],
   "source": [
    "blocks = (ImageBlock(cls=PILImageBW), CategoryBlock)"
   ]
  },
  {
   "cell_type": "markdown",
   "id": "dcae2898",
   "metadata": {},
   "source": [
    "#### `GrandparentSplitter` and `parent_label`"
   ]
  },
  {
   "cell_type": "markdown",
   "id": "27f8cfbb",
   "metadata": {},
   "source": [
    "It was transparent to us in the high level API, but what `from_folder` method used to split the dataset into train and valid was `GrandparentSplitter`. Lets see how it works:"
   ]
  },
  {
   "cell_type": "code",
   "execution_count": null,
   "id": "d93998c1",
   "metadata": {},
   "outputs": [],
   "source": [
    "splitter = GrandparentSplitter(train_name='training', valid_name='testing')"
   ]
  },
  {
   "cell_type": "markdown",
   "id": "00ad2dbb",
   "metadata": {},
   "source": [
    "Let's create a tiny subset of `fnames`, having **training** and **testing** samples, and see how `splitter` works:"
   ]
  },
  {
   "cell_type": "code",
   "execution_count": null,
   "id": "ae25b1d9",
   "metadata": {},
   "outputs": [
    {
     "data": {
      "text/plain": [
       "(#4) [Path('/home/fmussari/.fastai/data/mnist_png/training/4/47823.png'),Path('/home/fmussari/.fastai/data/mnist_png/training/4/45709.png'),Path('/home/fmussari/.fastai/data/mnist_png/testing/3/7829.png'),Path('/home/fmussari/.fastai/data/mnist_png/testing/3/2300.png')]"
      ]
     },
     "execution_count": null,
     "metadata": {},
     "output_type": "execute_result"
    }
   ],
   "source": [
    "sub_fnames = fnames[:2] + fnames[-2:]\n",
    "sub_fnames"
   ]
  },
  {
   "cell_type": "code",
   "execution_count": null,
   "id": "c97d81ad",
   "metadata": {},
   "outputs": [
    {
     "data": {
      "text/plain": [
       "([0, 1], [2, 3])"
      ]
     },
     "execution_count": null,
     "metadata": {},
     "output_type": "execute_result"
    }
   ],
   "source": [
    "splitter(sub_fnames)"
   ]
  },
  {
   "cell_type": "markdown",
   "id": "5f82f68d",
   "metadata": {},
   "source": [
    "We can see it is returnin a tuple with two list of indices, one for training, and one for validations, according to the folder the images are located in."
   ]
  },
  {
   "cell_type": "code",
   "execution_count": null,
   "id": "c8f9e31c",
   "metadata": {},
   "outputs": [
    {
     "data": {
      "text/plain": [
       "(60000, 10000)"
      ]
     },
     "execution_count": null,
     "metadata": {},
     "output_type": "execute_result"
    }
   ],
   "source": [
    "t, v = splitter(fnames)\n",
    "len(t), len(v)"
   ]
  },
  {
   "cell_type": "markdown",
   "id": "498e1b05",
   "metadata": {},
   "source": [
    "The high level API also used the `parent_label` function under the hood. It returns the label from the parent folder of each image."
   ]
  },
  {
   "cell_type": "code",
   "execution_count": null,
   "id": "2d33287a",
   "metadata": {},
   "outputs": [
    {
     "data": {
      "text/plain": [
       "('4', '3')"
      ]
     },
     "execution_count": null,
     "metadata": {},
     "output_type": "execute_result"
    }
   ],
   "source": [
    "parent_label(sub_fnames[0]), parent_label(sub_fnames[2])"
   ]
  },
  {
   "cell_type": "code",
   "execution_count": null,
   "id": "84166ce4",
   "metadata": {},
   "outputs": [
    {
     "data": {
      "image/png": "[encoded data removed]",
      "text/plain": [
       "PILImageBW mode=L size=28x28"
      ]
     },
     "execution_count": null,
     "metadata": {},
     "output_type": "execute_result"
    }
   ],
   "source": [
    "PILImageBW.create(sub_fnames[2])"
   ]
  },
  {
   "cell_type": "markdown",
   "id": "290e080f",
   "metadata": {},
   "source": [
    "### `DataBlock`"
   ]
  },
  {
   "cell_type": "code",
   "execution_count": null,
   "id": "a383d328",
   "metadata": {},
   "outputs": [],
   "source": [
    "dblock = DataBlock(\n",
    "    blocks=blocks,\n",
    "    get_items=get_image_files, \n",
    "    splitter=splitter,\n",
    "    get_y=parent_label,\n",
    "    item_tfms=item_tfms,\n",
    "    batch_tfms=batch_tfms\n",
    ")"
   ]
  },
  {
   "cell_type": "code",
   "execution_count": null,
   "id": "d4c4f86d",
   "metadata": {},
   "outputs": [
    {
     "data": {
      "text/plain": [
       "fastai.data.block.DataBlock"
      ]
     },
     "execution_count": null,
     "metadata": {},
     "output_type": "execute_result"
    }
   ],
   "source": [
    "type(dblock)"
   ]
  },
  {
   "cell_type": "markdown",
   "id": "bb610085",
   "metadata": {},
   "source": [
    "### Data Loaders"
   ]
  },
  {
   "cell_type": "code",
   "execution_count": null,
   "id": "96c8125f",
   "metadata": {},
   "outputs": [],
   "source": [
    "dls = dblock.dataloaders(path, bs=64)"
   ]
  },
  {
   "cell_type": "code",
   "execution_count": null,
   "id": "cf726dac",
   "metadata": {},
   "outputs": [
    {
     "data": {
      "image/png": "[encoded data removed]",
      "text/plain": [
       "<Figure size 288x288 with 9 Axes>"
      ]
     },
     "metadata": {
      "needs_background": "light"
     },
     "output_type": "display_data"
    }
   ],
   "source": [
    "dls.show_batch(figsize=(4,4))"
   ]
  },
  {
   "cell_type": "code",
   "execution_count": null,
   "id": "2e83269e",
   "metadata": {},
   "outputs": [
    {
     "data": {
      "text/plain": [
       "64"
      ]
     },
     "execution_count": null,
     "metadata": {},
     "output_type": "execute_result"
    }
   ],
   "source": [
    "dls.bs"
   ]
  },
  {
   "cell_type": "code",
   "execution_count": null,
   "id": "bd8f2eeb",
   "metadata": {},
   "outputs": [
    {
     "name": "stdout",
     "output_type": "stream",
     "text": [
      "{'0': 0, '1': 1, '2': 2, '3': 3, '4': 4, '5': 5, '6': 6, '7': 7, '8': 8, '9': 9}\n"
     ]
    }
   ],
   "source": [
    "print(dls.vocab.o2i)"
   ]
  },
  {
   "cell_type": "code",
   "execution_count": null,
   "id": "cc02d9fc",
   "metadata": {},
   "outputs": [
    {
     "data": {
      "text/plain": [
       "((#60000) [(PILImageBW mode=L size=28x28, TensorCategory(4)),(PILImageBW mode=L size=28x28, TensorCategory(4)),(PILImageBW mode=L size=28x28, TensorCategory(4)),(PILImageBW mode=L size=28x28, TensorCategory(4)),(PILImageBW mode=L size=28x28, TensorCategory(4)),(PILImageBW mode=L size=28x28, TensorCategory(4)),(PILImageBW mode=L size=28x28, TensorCategory(4)),(PILImageBW mode=L size=28x28, TensorCategory(4)),(PILImageBW mode=L size=28x28, TensorCategory(4)),(PILImageBW mode=L size=28x28, TensorCategory(4))...],\n",
       " (#10000) [(PILImageBW mode=L size=28x28, TensorCategory(4)),(PILImageBW mode=L size=28x28, TensorCategory(4)),(PILImageBW mode=L size=28x28, TensorCategory(4)),(PILImageBW mode=L size=28x28, TensorCategory(4)),(PILImageBW mode=L size=28x28, TensorCategory(4)),(PILImageBW mode=L size=28x28, TensorCategory(4)),(PILImageBW mode=L size=28x28, TensorCategory(4)),(PILImageBW mode=L size=28x28, TensorCategory(4)),(PILImageBW mode=L size=28x28, TensorCategory(4)),(PILImageBW mode=L size=28x28, TensorCategory(4))...])"
      ]
     },
     "execution_count": null,
     "metadata": {},
     "output_type": "execute_result"
    }
   ],
   "source": [
    "dls.train_ds, dls.valid_ds"
   ]
  },
  {
   "cell_type": "markdown",
   "id": "31628cc3",
   "metadata": {},
   "source": [
    "## Low Level API"
   ]
  },
  {
   "cell_type": "markdown",
   "id": "8984da16",
   "metadata": {},
   "source": [
    "We already created a `splitter`, lets now split the data."
   ]
  },
  {
   "cell_type": "code",
   "execution_count": null,
   "id": "90494cbf",
   "metadata": {},
   "outputs": [
    {
     "data": {
      "text/plain": [
       "(60000, 10000)"
      ]
     },
     "execution_count": null,
     "metadata": {},
     "output_type": "execute_result"
    }
   ],
   "source": [
    "splits=splitter(fnames)\n",
    "len(splits[0]), len(splits[1])"
   ]
  },
  {
   "cell_type": "markdown",
   "id": "e64482a6",
   "metadata": {},
   "source": [
    "### Datasets"
   ]
  },
  {
   "cell_type": "code",
   "execution_count": null,
   "id": "2df3c941",
   "metadata": {},
   "outputs": [],
   "source": [
    "dsrc = Datasets(\n",
    "    items=fnames,\n",
    "    tfms=[[PILImageBW.create], [parent_label, Categorize]],\n",
    "    splits=splits\n",
    ")"
   ]
  },
  {
   "cell_type": "code",
   "execution_count": null,
   "id": "d41b8042",
   "metadata": {},
   "outputs": [
    {
     "data": {
      "text/plain": [
       "fastai.data.core.Datasets"
      ]
     },
     "execution_count": null,
     "metadata": {},
     "output_type": "execute_result"
    }
   ],
   "source": [
    "type(dsrc)"
   ]
  },
  {
   "cell_type": "code",
   "execution_count": null,
   "id": "91497c57",
   "metadata": {},
   "outputs": [
    {
     "data": {
      "image/png": "[encoded data removed]",
      "text/plain": [
       "<Figure size 72x72 with 1 Axes>"
      ]
     },
     "metadata": {
      "needs_background": "light"
     },
     "output_type": "display_data"
    }
   ],
   "source": [
    "show_at(dsrc.train, 3);"
   ]
  },
  {
   "cell_type": "markdown",
   "id": "87287d0d",
   "metadata": {},
   "source": [
    "#### Exploring what each `tfms` does"
   ]
  },
  {
   "cell_type": "code",
   "execution_count": null,
   "id": "aa3376e3",
   "metadata": {},
   "outputs": [
    {
     "data": {
      "image/png": "[encoded data removed]",
      "text/plain": [
       "PILImageBW mode=L size=28x28"
      ]
     },
     "execution_count": null,
     "metadata": {},
     "output_type": "execute_result"
    }
   ],
   "source": [
    "PILImageBW.create(fnames[0])"
   ]
  },
  {
   "cell_type": "code",
   "execution_count": null,
   "id": "c472a9ef",
   "metadata": {},
   "outputs": [
    {
     "data": {
      "text/plain": [
       "'4'"
      ]
     },
     "execution_count": null,
     "metadata": {},
     "output_type": "execute_result"
    }
   ],
   "source": [
    "l = parent_label(fnames[0])\n",
    "l"
   ]
  },
  {
   "cell_type": "code",
   "execution_count": null,
   "id": "e8269086",
   "metadata": {},
   "outputs": [
    {
     "data": {
      "text/plain": [
       "Categorize -- {'vocab': ['4'], 'sort': True, 'add_na': False}:\n",
       "encodes: (Tabular,object) -> encodes\n",
       "(object,object) -> encodes\n",
       "decodes: (Tabular,object) -> decodes\n",
       "(object,object) -> decodes"
      ]
     },
     "execution_count": null,
     "metadata": {},
     "output_type": "execute_result"
    }
   ],
   "source": [
    "Categorize(l)"
   ]
  },
  {
   "cell_type": "markdown",
   "id": "522e441f",
   "metadata": {},
   "source": [
    "### Data Loaders"
   ]
  },
  {
   "cell_type": "code",
   "execution_count": null,
   "id": "b1a118a1",
   "metadata": {},
   "outputs": [],
   "source": [
    "dls = dsrc.dataloaders(\n",
    "    bs=128,\n",
    "    after_item=item_tfms,\n",
    "    after_batch=batch_tfms\n",
    ")"
   ]
  },
  {
   "cell_type": "code",
   "execution_count": null,
   "id": "73efd82b",
   "metadata": {},
   "outputs": [
    {
     "data": {
      "image/png": "[encoded data removed]",
      "text/plain": [
       "<Figure size 288x288 with 9 Axes>"
      ]
     },
     "metadata": {
      "needs_background": "light"
     },
     "output_type": "display_data"
    }
   ],
   "source": [
    "dls.show_batch(figsize=(4,4))"
   ]
  },
  {
   "cell_type": "code",
   "execution_count": null,
   "id": "93910f21",
   "metadata": {},
   "outputs": [
    {
     "data": {
      "text/plain": [
       "128"
      ]
     },
     "execution_count": null,
     "metadata": {},
     "output_type": "execute_result"
    }
   ],
   "source": [
    "dls.bs"
   ]
  },
  {
   "cell_type": "code",
   "execution_count": null,
   "id": "f7283491",
   "metadata": {},
   "outputs": [
    {
     "name": "stdout",
     "output_type": "stream",
     "text": [
      "{'0': 0, '1': 1, '2': 2, '3': 3, '4': 4, '5': 5, '6': 6, '7': 7, '8': 8, '9': 9}\n"
     ]
    }
   ],
   "source": [
    "print(dls.vocab.o2i)"
   ]
  },
  {
   "cell_type": "code",
   "execution_count": null,
   "id": "22663d93",
   "metadata": {},
   "outputs": [
    {
     "data": {
      "text/plain": [
       "((#60000) [(PILImageBW mode=L size=28x28, TensorCategory(4)),(PILImageBW mode=L size=28x28, TensorCategory(4)),(PILImageBW mode=L size=28x28, TensorCategory(4)),(PILImageBW mode=L size=28x28, TensorCategory(4)),(PILImageBW mode=L size=28x28, TensorCategory(4)),(PILImageBW mode=L size=28x28, TensorCategory(4)),(PILImageBW mode=L size=28x28, TensorCategory(4)),(PILImageBW mode=L size=28x28, TensorCategory(4)),(PILImageBW mode=L size=28x28, TensorCategory(4)),(PILImageBW mode=L size=28x28, TensorCategory(4))...],\n",
       " (#10000) [(PILImageBW mode=L size=28x28, TensorCategory(4)),(PILImageBW mode=L size=28x28, TensorCategory(4)),(PILImageBW mode=L size=28x28, TensorCategory(4)),(PILImageBW mode=L size=28x28, TensorCategory(4)),(PILImageBW mode=L size=28x28, TensorCategory(4)),(PILImageBW mode=L size=28x28, TensorCategory(4)),(PILImageBW mode=L size=28x28, TensorCategory(4)),(PILImageBW mode=L size=28x28, TensorCategory(4)),(PILImageBW mode=L size=28x28, TensorCategory(4)),(PILImageBW mode=L size=28x28, TensorCategory(4))...])"
      ]
     },
     "execution_count": null,
     "metadata": {},
     "output_type": "execute_result"
    }
   ],
   "source": [
    "dls.train_ds, dls.valid_ds"
   ]
  },
  {
   "cell_type": "markdown",
   "id": "93adda34",
   "metadata": {},
   "source": [
    "## Conclusion\n",
    "\n",
    "- We ended with the same `DataLoaders` in three different ways.\n",
    "- As Zachary puts it, the higher the level of the API, the lesser the flexibility, but also less complexity.\n",
    "- He also pointed out that the mid level API is made with the building blocks of the framework."
   ]
  }
 ],
 "metadata": {
  "kernelspec": {
   "display_name": "Python 3 (ipykernel)",
   "language": "python",
   "name": "python3"
  }
 },
 "nbformat": 4,
 "nbformat_minor": 5
}
