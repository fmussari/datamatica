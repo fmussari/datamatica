{
 "cells": [
  {
   "cell_type": "markdown",
   "id": "0694e5ac",
   "metadata": {},
   "source": [
    "---\n",
    "title: Building a Full-Text Search Engine for fastai youtube channel  \n",
    "author: \"Francisco Mussari\"  \n",
    "date: 2022-12-04  \n",
    "categories: [deeplearning, full-text search, SQLite, pytube, youtube-transcript-api]  \n",
    "format:\n",
    "  html:\n",
    "    toc: true\n",
    "    toc-depth: 3\n",
    "    \n",
    "---\n",
    "\n",
    "Part 1. Create the service and upload the pictures"
   ]
  },
  {
   "cell_type": "markdown",
   "id": "44fdbb12",
   "metadata": {},
   "source": [
    "## Introduction"
   ]
  },
  {
   "cell_type": "markdown",
   "id": "14ecd7ad",
   "metadata": {},
   "source": [
    "In this post we are going to get the transcriptions of YouTube videos from one or more given Playlists. Here we are going to do it with [fastai](https://www.youtube.com/@howardjeremyp/playlists) channel, but it applies to any given playlists (if the videos have transcriptions).  \n",
    "\n",
    "After we get the transcriptions, we are going to build a search engine with [SQLite](https://sqlite.org/index.html)'s full-text search functionality provided by its [FTS5](https://sqlite.org/fts5.html) extension."
   ]
  },
  {
   "cell_type": "markdown",
   "id": "b9a9cb9a",
   "metadata": {},
   "source": [
    "### References\n",
    "If you want to get deeper, I encourage you to read these articles:  \n",
    "- [Useful Full Text Search (FTS) queries with sqlite in Python 3.7](https://saraswatmks.github.io/2020/04/sqlite-fts-search-queries.html)\n",
    "- [Fast Autocomplete Search for Your Website](https://simonwillison.net/2018/Dec/19/fast-autocomplete-search/)\n",
    "- [YouTube Transcript/Subtitle API (including automatically generated subtitles and subtitle translations)](https://github.com/jdepoix/youtube-transcript-api#youtube-transcriptsubtitle-api-including-automatically-generated-subtitles-and-subtitle-translations)"
   ]
  },
  {
   "cell_type": "markdown",
   "id": "19e97d6c",
   "metadata": {},
   "source": [
    "## Get YouTube Transcriptions"
   ]
  },
  {
   "cell_type": "markdown",
   "id": "ec331c8c",
   "metadata": {},
   "source": [
    "### Install and Import Libraries\n",
    "\n",
    "We need to first install the libraries we need (**pytube** and **youtube-transcript-api**).  \n",
    "We can use `pip`:  \n",
    "```\n",
    "$ pip install pytube\n",
    "$ pip install youtube_transcript_api\n",
    "```\n",
    "Or `conda`:\n",
    "```\n",
    "$ conda install -c conda-forge pytube\n",
    "$ conda install -c conda-forge youtube-transcript-api\n",
    "```"
   ]
  },
  {
   "cell_type": "code",
   "execution_count": null,
   "id": "8690a2f1",
   "metadata": {},
   "outputs": [],
   "source": [
    "from youtube_transcript_api import YouTubeTranscriptApi\n",
    "from pytube import YouTube, Playlist\n",
    "\n",
    "import sqlite3"
   ]
  },
  {
   "cell_type": "markdown",
   "id": "9ffcdcce",
   "metadata": {},
   "source": [
    "### YouTube Playlists\n",
    "Let's create a list of YouTube playlist ids. We can get them browsing YouTube playlist. The **id** is in the **url** which has the following format:  \n",
    "`https://www.youtube.com/playlist?list={PLAYLIST_ID}`"
   ]
  },
  {
   "cell_type": "code",
   "execution_count": null,
   "id": "6e60b25e",
   "metadata": {},
   "outputs": [],
   "source": [
    "base_pl = 'https://www.youtube.com/playlist?list='\n",
    "base_yt = 'https://youtu.be/'\n",
    "\n",
    "yt_pl_ids = [\n",
    "    'PLfYUBJiXbdtSgU6S_3l6pX-4hQYKNJZFU', # fast.ai APL Study Group #2022\n",
    "    'PLfYUBJiXbdtSvpQjSnJJ_PmDQB_VyT5iU', # Practical Deep Learning for Coders 2022\n",
    "    'PLfYUBJiXbdtSLBPJ1GMx-sQWf6iNhb8mM', # fast.ai live coding & tutorials #2022\n",
    "    'PLfYUBJiXbdtRL3FMB3GoWHRI8ieU6FhfM', # Practical Deep Learning for Coders (2020)\n",
    "    'PLfYUBJiXbdtTIdtE1U8qgyxo4Jy2Y91uj', # Deep Learning from the Foundations #2019\n",
    "    'PLfYUBJiXbdtSWRCYUHh-ThVCC39bp5yiq', # fastai v2 code walk-thrus #2019\n",
    "    'PLfYUBJiXbdtSIJb-Qd3pw0cqCbkGeS0xn', # Practical Deep Learning for Coders 2019\n",
    "    'PLfYUBJiXbdtSyktd8A_x0JNd6lxDcZE96', # Introduction to Machine Learning for Coders\n",
    "    'PLfYUBJiXbdtTttBGq-u2zeY1OTjs5e-Ia', # Cutting Edge Deep Learning for Coders 2 #2018\n",
    "    'PLfYUBJiXbdtS2UQRzyrxmyVHoGW0gmLSM', # Practical Deep Learning For Coders 2018\n",
    "]"
   ]
  },
  {
   "cell_type": "markdown",
   "id": "650e88b4",
   "metadata": {},
   "source": [
    "### Get Transcriptions\n",
    "\n",
    "Let's explore the methods:"
   ]
  },
  {
   "cell_type": "code",
   "execution_count": null,
   "id": "84ead057",
   "metadata": {},
   "outputs": [],
   "source": [
    "playlist = Playlist('https://www.youtube.com/playlist?list=PLfYUBJiXbdtSvpQjSnJJ_PmDQB_VyT5iU')\n",
    "print(playlist.title)\n",
    "video = YouTube(playlist[0])\n",
    "print(video.title)\n",
    "print(playlist[0])\n",
    "video_id = playlist[0].split('=')[1]\n",
    "script = YouTubeTranscriptApi.get_transcript(video_id, languages=('en',))\n",
    "print(script[0])"
   ]
  },
  {
   "cell_type": "markdown",
   "id": "342d4810",
   "metadata": {},
   "source": [
    "#### Download all transcriptions\n",
    "Now we are going to download all the transcriptions. Let's create three dictionaries to store the data: \n",
    "- `playlists` to store each playlist as `{playlist_id: playlist_name}`\n",
    "- `videos` to store videos as `{video_id: video_name}`\n",
    "- `database` to store all captions as `{playlist_id: {video_id: {'start': caption}}`."
   ]
  },
  {
   "cell_type": "code",
   "execution_count": null,
   "id": "8d083d2b",
   "metadata": {},
   "outputs": [],
   "source": [
    "playlists = dict()\n",
    "videos = dict()\n",
    "database = dict()\n",
    "\n",
    "for pl_id in yt_pl_ids:\n",
    "    playlist = Playlist(base_pl + pl_id)\n",
    "    print(playlist.title)\n",
    "    playlists[pl_id] = playlist.title\n",
    "    database[pl_id] = dict()\n",
    "\n",
    "    for video in playlist:\n",
    "        video_id = video.split(\"=\")[1]\n",
    "        videos[video_id] = YouTube(video).title\n",
    "        database[pl_id][video_id] = dict()\n",
    "        # Manually created transcripts are returned first\n",
    "        script = YouTubeTranscriptApi.get_transcript(video_id, languages=('en',))\n",
    "\n",
    "        for txt in script:\n",
    "            database[pl_id][video_id][txt['start']] = txt['text']"
   ]
  },
  {
   "cell_type": "markdown",
   "id": "9011049e",
   "metadata": {},
   "source": [
    "## Building the Search Engine"
   ]
  },
  {
   "cell_type": "markdown",
   "id": "219179f5",
   "metadata": {},
   "source": [
    "### Formatting the data to facilitate insertion into SQLite"
   ]
  },
  {
   "cell_type": "code",
   "execution_count": null,
   "id": "90ad7d33",
   "metadata": {},
   "outputs": [],
   "source": [
    "# https://stackoverflow.com/a/60932565/10013187\n",
    "records = [\n",
    "    (level1, level2, level3, leaf)\n",
    "    for level1, level2_dict in database.items()\n",
    "    for level2, level3_dict in level2_dict.items()\n",
    "    for level3, leaf in level3_dict.items()\n",
    "]\n",
    "print(\"(playlist_id, video_id, start, text)\")\n",
    "print(records[100])"
   ]
  },
  {
   "cell_type": "markdown",
   "id": "73799ebb",
   "metadata": {},
   "source": [
    "### Creating the database"
   ]
  },
  {
   "cell_type": "code",
   "execution_count": null,
   "id": "a9e883f7",
   "metadata": {},
   "outputs": [],
   "source": [
    "db = sqlite3.connect('fastai_yt.db')\n",
    "cur = db.cursor()"
   ]
  },
  {
   "cell_type": "code",
   "execution_count": null,
   "id": "acc41aad",
   "metadata": {},
   "outputs": [],
   "source": [
    "# virtual table configured to allow full-text search\n",
    "cur.execute('CREATE VIRTUAL TABLE transcriptions_fts USING fts5(playlist_id, video_id, start, text, tokenize=\"porter unicode61\");')\n",
    "\n",
    "# dimension like tables\n",
    "cur.execute('CREATE TABLE playlist (playlist_id, playlist_name);')\n",
    "cur.execute('CREATE TABLE video (video_id, video_name);')"
   ]
  },
  {
   "cell_type": "code",
   "execution_count": null,
   "id": "fb5f06e5",
   "metadata": {},
   "outputs": [],
   "source": [
    "# bulk index records\n",
    "cur.executemany('INSERT INTO transcriptions_fts (playlist_id, video_id, start, text) values (?,?,?,?);', records)\n",
    "cur.executemany('INSERT INTO playlist (playlist_id, playlist_name) values (?,?);', playlists.items())\n",
    "cur.executemany('INSERT INTO video (video_id, video_name) values (?,?);', videos.items())\n",
    "db.commit()"
   ]
  },
  {
   "cell_type": "code",
   "execution_count": null,
   "id": "032b0b04",
   "metadata": {},
   "outputs": [],
   "source": [
    "cur.execute('SELECT start, text FROM transcriptions_fts WHERE video_id=\"8SF_h3xF3cE\" LIMIT 5').fetchall()"
   ]
  },
  {
   "cell_type": "code",
   "execution_count": null,
   "id": "030d575f",
   "metadata": {},
   "outputs": [],
   "source": []
  }
 ],
 "metadata": {
  "kernelspec": {
   "display_name": "Python 3 (ipykernel)",
   "language": "python",
   "name": "python3"
  }
 },
 "nbformat": 4,
 "nbformat_minor": 5
}
