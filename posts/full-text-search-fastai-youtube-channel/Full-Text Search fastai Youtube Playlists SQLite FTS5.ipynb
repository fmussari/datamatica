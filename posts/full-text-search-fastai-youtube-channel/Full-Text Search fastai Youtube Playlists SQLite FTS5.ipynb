{
 "cells": [
  {
   "cell_type": "markdown",
   "id": "03377a5e",
   "metadata": {},
   "source": [
    "---\n",
    "title: Building a Full-Text Search Engine for fastai YouTube channel  \n",
    "author: \"Francisco Mussari\"  \n",
    "date: 2022-12-04  \n",
    "categories: [deeplearning, full-text search, SQLite, pytube, youtube-transcript-api]  \n",
    "format:\n",
    "  html:\n",
    "    toc: true\n",
    "    toc-depth: 3\n",
    "    \n",
    "---\n",
    "\n",
    "Part 1. Create the service and upload the pictures"
   ]
  },
  {
   "cell_type": "markdown",
   "id": "a49e3f71",
   "metadata": {},
   "source": [
    "## Introduction"
   ]
  },
  {
   "cell_type": "markdown",
   "id": "763d35f1",
   "metadata": {},
   "source": [
    "In this post we are going to get the transcriptions of YouTube videos from one or more given Playlists. Here we are going to do it with [fastai](https://www.youtube.com/@howardjeremyp/playlists) channel, but it applies to any given playlists (if the videos have transcriptions).  \n",
    "\n",
    "After we get the transcriptions, we are going to build a search engine with [SQLite](https://sqlite.org/index.html)'s full-text search functionality provided by its [FTS5](https://sqlite.org/fts5.html) extension."
   ]
  },
  {
   "cell_type": "markdown",
   "id": "991a2a8a",
   "metadata": {},
   "source": [
    "### References\n",
    "If you want to get deeper, I encourage you to read these articles:  \n",
    "\n",
    "- [Useful Full Text Search (FTS) queries with sqlite in Python 3.7](https://saraswatmks.github.io/2020/04/sqlite-fts-search-queries.html)  \n",
    "\n",
    "- [Fast Autocomplete Search for Your Website](https://simonwillison.net/2018/Dec/19/fast-autocomplete-search/)  \n",
    "\n",
    "- [YouTube Transcript/Subtitle API (including automatically generated subtitles and subtitle translations)](https://github.com/jdepoix/youtube-transcript-api#youtube-transcriptsubtitle-api-including-automatically-generated-subtitles-and-subtitle-translations)"
   ]
  },
  {
   "cell_type": "markdown",
   "id": "2416d5ee",
   "metadata": {},
   "source": [
    "## Get YouTube Transcriptions"
   ]
  },
  {
   "cell_type": "markdown",
   "id": "faf3e785",
   "metadata": {},
   "source": [
    "### Install and Import Libraries\n",
    "\n",
    "We need to first install the libraries we need (**pytube** and **youtube-transcript-api**).  \n",
    "We can use `pip`:  \n",
    "```\n",
    "$ pip install pytube\n",
    "$ pip install youtube_transcript_api\n",
    "```\n",
    "Or `conda`:\n",
    "```\n",
    "$ conda install -c conda-forge pytube\n",
    "$ conda install -c conda-forge youtube-transcript-api\n",
    "```"
   ]
  },
  {
   "cell_type": "code",
   "execution_count": null,
   "id": "907602e2",
   "metadata": {},
   "outputs": [],
   "source": [
    "from youtube_transcript_api import YouTubeTranscriptApi\n",
    "from pytube import YouTube, Playlist\n",
    "\n",
    "import sqlite3"
   ]
  },
  {
   "cell_type": "markdown",
   "id": "0bae9267",
   "metadata": {},
   "source": [
    "### YouTube Playlists\n",
    "Let's create a list of YouTube playlist ids. We can get them browsing YouTube playlist. The **id** is in the **url** which has the following format:  \n",
    "`https://www.youtube.com/playlist?list={PLAYLIST_ID}`"
   ]
  },
  {
   "cell_type": "code",
   "execution_count": null,
   "id": "b4c47db5",
   "metadata": {},
   "outputs": [],
   "source": [
    "base_pl = 'https://www.youtube.com/playlist?list='\n",
    "base_yt = 'https://youtu.be/'\n",
    "\n",
    "yt_pl_ids = [\n",
    "    'PLfYUBJiXbdtSgU6S_3l6pX-4hQYKNJZFU', # fast.ai APL Study Group #2022\n",
    "    'PLfYUBJiXbdtSvpQjSnJJ_PmDQB_VyT5iU', # Practical Deep Learning for Coders 2022\n",
    "    'PLfYUBJiXbdtSLBPJ1GMx-sQWf6iNhb8mM', # fast.ai live coding & tutorials #2022\n",
    "    'PLfYUBJiXbdtRL3FMB3GoWHRI8ieU6FhfM', # Practical Deep Learning for Coders (2020)\n",
    "    'PLfYUBJiXbdtTIdtE1U8qgyxo4Jy2Y91uj', # Deep Learning from the Foundations #2019\n",
    "    'PLfYUBJiXbdtSWRCYUHh-ThVCC39bp5yiq', # fastai v2 code walk-thrus #2019\n",
    "    'PLfYUBJiXbdtSIJb-Qd3pw0cqCbkGeS0xn', # Practical Deep Learning for Coders 2019\n",
    "    'PLfYUBJiXbdtSyktd8A_x0JNd6lxDcZE96', # Introduction to Machine Learning for Coders\n",
    "    'PLfYUBJiXbdtTttBGq-u2zeY1OTjs5e-Ia', # Cutting Edge Deep Learning for Coders 2 #2018\n",
    "    'PLfYUBJiXbdtS2UQRzyrxmyVHoGW0gmLSM', # Practical Deep Learning For Coders 2018\n",
    "]"
   ]
  },
  {
   "cell_type": "markdown",
   "id": "04eabd76",
   "metadata": {},
   "source": [
    "### Get Transcriptions\n",
    "\n",
    "Let's explore the methods:"
   ]
  },
  {
   "cell_type": "code",
   "execution_count": null,
   "id": "3bb362f9",
   "metadata": {},
   "outputs": [
    {
     "name": "stdout",
     "output_type": "stream",
     "text": [
      "Practical Deep Learning for Coders 2022\n",
      "Lesson 1: Practical Deep Learning for Coders 2022\n",
      "https://www.youtube.com/watch?v=8SF_h3xF3cE\n",
      "{'text': 'Welcome to Practical Deep Learning for coders,\\xa0\\nlesson one. This is version five of this course,\\xa0\\xa0', 'start': 2.0, 'duration': 8.0}\n"
     ]
    }
   ],
   "source": [
    "playlist = Playlist('https://www.youtube.com/playlist?list=PLfYUBJiXbdtSvpQjSnJJ_PmDQB_VyT5iU')\n",
    "print(playlist.title)\n",
    "video = YouTube(playlist[0])\n",
    "print(video.title)\n",
    "print(playlist[0])\n",
    "video_id = playlist[0].split('=')[1]\n",
    "script = YouTubeTranscriptApi.get_transcript(video_id, languages=('en',))\n",
    "print(script[0])"
   ]
  },
  {
   "cell_type": "markdown",
   "id": "9827716d",
   "metadata": {},
   "source": [
    "#### Download all transcriptions\n",
    "Now we are going to download all the transcriptions. Let's create three dictionaries to store the data: \n",
    "- `playlists` to store each playlist as `{playlist_id: playlist_name}`\n",
    "- `videos` to store videos as `{video_id: video_name}`\n",
    "- `database` to store all captions as `{playlist_id: {video_id: {'start': caption}}`."
   ]
  },
  {
   "cell_type": "code",
   "execution_count": null,
   "id": "affb7173",
   "metadata": {},
   "outputs": [
    {
     "name": "stdout",
     "output_type": "stream",
     "text": [
      "fast.ai APL Study Group\n",
      "Practical Deep Learning for Coders 2022\n",
      "fast.ai live coding & tutorials\n",
      "Practical Deep Learning for Coders (2020)\n",
      "Deep Learning from the Foundations\n",
      "fastai v2 code walk-thrus\n",
      "Practical Deep Learning for Coders 2019\n",
      "Introduction to Machine Learning for Coders\n",
      "Cutting Edge Deep Learning for Coders 2\n",
      "Practical Deep Learning For Coders 2018\n"
     ]
    }
   ],
   "source": [
    "playlists = dict()\n",
    "videos = dict()\n",
    "database = dict()\n",
    "\n",
    "for pl_id in yt_pl_ids:\n",
    "    playlist = Playlist(base_pl + pl_id)\n",
    "    print(playlist.title)\n",
    "    playlists[pl_id] = playlist.title\n",
    "    database[pl_id] = dict()\n",
    "\n",
    "    for video in playlist:\n",
    "        video_id = video.split(\"=\")[1]\n",
    "        videos[video_id] = YouTube(video).title\n",
    "        database[pl_id][video_id] = dict()\n",
    "        # Manually created transcripts are returned first\n",
    "        script = YouTubeTranscriptApi.get_transcript(video_id, languages=('en',))\n",
    "\n",
    "        for txt in script:\n",
    "            database[pl_id][video_id][txt['start']] = txt['text']"
   ]
  },
  {
   "cell_type": "markdown",
   "id": "c4f5430e",
   "metadata": {},
   "source": [
    "## Building the Search Engine"
   ]
  },
  {
   "cell_type": "markdown",
   "id": "cbb5b843",
   "metadata": {},
   "source": [
    "### Formatting the data to facilitate insertion into SQLite"
   ]
  },
  {
   "cell_type": "code",
   "execution_count": null,
   "id": "a87bcfb4",
   "metadata": {},
   "outputs": [
    {
     "name": "stdout",
     "output_type": "stream",
     "text": [
      "(playlist_id, video_id, start, text)\n",
      "('PLfYUBJiXbdtSgU6S_3l6pX-4hQYKNJZFU', 'CGpR2ILao5M', 294.18, 'gonna go watch them or anything all')\n"
     ]
    }
   ],
   "source": [
    "# https://stackoverflow.com/a/60932565/10013187\n",
    "records = [\n",
    "    (level1, level2, level3, leaf)\n",
    "    for level1, level2_dict in database.items()\n",
    "    for level2, level3_dict in level2_dict.items()\n",
    "    for level3, leaf in level3_dict.items()\n",
    "]\n",
    "print(\"(playlist_id, video_id, start, text)\")\n",
    "print(records[100])"
   ]
  },
  {
   "cell_type": "markdown",
   "id": "09f9467b",
   "metadata": {},
   "source": [
    "### Creating the database"
   ]
  },
  {
   "cell_type": "code",
   "execution_count": null,
   "id": "b8e63628",
   "metadata": {},
   "outputs": [],
   "source": [
    "db = sqlite3.connect('fastai_yt.db')\n",
    "cur = db.cursor()"
   ]
  },
  {
   "cell_type": "code",
   "execution_count": null,
   "id": "72c8529b",
   "metadata": {},
   "outputs": [
    {
     "data": {
      "text/plain": [
       "<sqlite3.Cursor>"
      ]
     },
     "execution_count": null,
     "metadata": {},
     "output_type": "execute_result"
    }
   ],
   "source": [
    "# virtual table configured to allow full-text search\n",
    "cur.execute('CREATE VIRTUAL TABLE transcriptions_fts USING fts5(playlist_id, video_id, start, text, tokenize=\"porter unicode61\");')\n",
    "\n",
    "# dimension like tables\n",
    "cur.execute('CREATE TABLE playlist (playlist_id, playlist_name);')\n",
    "cur.execute('CREATE TABLE video (video_id, video_name);')"
   ]
  },
  {
   "cell_type": "code",
   "execution_count": null,
   "id": "91d0c11d",
   "metadata": {},
   "outputs": [],
   "source": [
    "# bulk index records\n",
    "cur.executemany('INSERT INTO transcriptions_fts (playlist_id, video_id, start, text) values (?,?,?,?);', records)\n",
    "cur.executemany('INSERT INTO playlist (playlist_id, playlist_name) values (?,?);', playlists.items())\n",
    "cur.executemany('INSERT INTO video (video_id, video_name) values (?,?);', videos.items())\n",
    "db.commit()"
   ]
  },
  {
   "cell_type": "code",
   "execution_count": null,
   "id": "e3643cf5",
   "metadata": {},
   "outputs": [
    {
     "data": {
      "text/plain": [
       "[(2.0,\n",
       "  'Welcome to Practical Deep Learning for coders,\\xa0\\nlesson one. This is version five of this course,\\xa0\\xa0'),\n",
       " (11.44,\n",
       "  \"and it's the first new one we've done\\xa0\\nin two years. So, we've got a lot of\\xa0\\xa0\"),\n",
       " (15.12,\n",
       "  \"cool things to cover! It's amazing how much has\\xa0\\nchanged. Here is an xkcd from the end of 2015.\\xa0\\xa0\"),\n",
       " (28.0,\n",
       "  'Who here has seen xkcd comics before?\\xa0\\n…Pretty much everybody. Not surprising.\\xa0\\xa0'),\n",
       " (35.36,\n",
       "  \"So the basic joke here is… I'll let you\\xa0\\nread it, and then I'll come back to it.\")]"
      ]
     },
     "execution_count": null,
     "metadata": {},
     "output_type": "execute_result"
    }
   ],
   "source": [
    "cur.execute('SELECT start, text FROM transcriptions_fts WHERE video_id=\"8SF_h3xF3cE\" LIMIT 5').fetchall()"
   ]
  },
  {
   "cell_type": "markdown",
   "id": "9ad1d255",
   "metadata": {},
   "source": [
    "[fastai_yt.db](./fastai_yt.db). Once we have the database populated, we can use it in any application we want without the need to get the transcriptions from YouTube. "
   ]
  },
  {
   "cell_type": "markdown",
   "id": "1600a6c6",
   "metadata": {},
   "source": [
    "## Search queries"
   ]
  },
  {
   "cell_type": "code",
   "execution_count": null,
   "id": "dad3a6e9",
   "metadata": {},
   "outputs": [],
   "source": [
    "def print_search_results(res):\n",
    "    for each in res:\n",
    "        print()\n",
    "        print(playlists[each[0]], \"->\", videos[each[1]])\n",
    "        print(f'\"... {each[4]}...\"')\n",
    "        print('https://youtu.be/' + each[1] + \"?t=\" + str(int(each[2])))\n",
    "\n",
    "def get_query(q, limit):\n",
    "    search_in = 'text'\n",
    "    if 'text:' in q: search_in = 'transcriptions_fts'\n",
    "    return f\"\"\"\n",
    "    SELECT *, HIGHLIGHT(transcriptions_fts, 3, '[', ']')\n",
    "    FROM transcriptions_fts WHERE {search_in} MATCH '{q}' ORDER BY rank\n",
    "    LIMIT \"{limit}\" \n",
    "    \"\"\""
   ]
  },
  {
   "cell_type": "markdown",
   "id": "1b6941aa",
   "metadata": {},
   "source": [
    "### Search for a word"
   ]
  },
  {
   "cell_type": "code",
   "execution_count": null,
   "id": "168e5f43",
   "metadata": {},
   "outputs": [
    {
     "name": "stdout",
     "output_type": "stream",
     "text": [
      "\n",
      "fast.ai live coding & tutorials -> Live coding 3\n",
      "\"... going to install python and [fastcore]...\"\n",
      "https://youtu.be/B6BQiIgiEks?t=820\n",
      "\n",
      "fast.ai live coding & tutorials -> Live coding 3\n",
      "\"... but for a library like [fastcore]...\"\n",
      "https://youtu.be/B6BQiIgiEks?t=2818\n",
      "\n",
      "fast.ai live coding & tutorials -> Live coding 3\n",
      "\"... use the latest version of [fastcore]...\"\n",
      "https://youtu.be/B6BQiIgiEks?t=2975\n",
      "\n",
      "fast.ai live coding & tutorials -> Live coding 3\n",
      "\"... no module named [fastcore] is actually...\"\n",
      "https://youtu.be/B6BQiIgiEks?t=3617\n",
      "\n",
      "fast.ai live coding & tutorials -> Live coding 2\n",
      "\"... fastgen so [fastchan] is a channel that...\"\n",
      "https://youtu.be/0pWjZByJ3Lk?t=3720\n"
     ]
    }
   ],
   "source": [
    "q = 'fastc*'\n",
    "res = cur.execute(get_query(q, limit=5)).fetchall()\n",
    "print_search_results(res)"
   ]
  },
  {
   "cell_type": "code",
   "execution_count": null,
   "id": "b151cf11",
   "metadata": {},
   "outputs": [
    {
     "name": "stdout",
     "output_type": "stream",
     "text": [
      "\n",
      "fastai v2 code walk-thrus -> fastai v2 walk-thru #9\n",
      "\"... [delegated] down to that so [delegates] down...\"\n",
      "https://youtu.be/bBqFVBpOZoY?t=2462\n",
      "\n",
      "Deep Learning from the Foundations -> Lesson 9 (2019) - How to train your model\n",
      "\"... [delegate] get attribute to the other...\"\n",
      "https://youtu.be/AcA8HAYh7IE?t=6435\n",
      "\n",
      "fastai v2 code walk-thrus -> fastai v2 walk-thru #9\n",
      "\"... [delegate] everything Sodor in Python...\"\n",
      "https://youtu.be/bBqFVBpOZoY?t=2304\n",
      "\n",
      "Deep Learning from the Foundations -> Lesson 13 (2019) - Basics of Swift for Deep Learning\n",
      "\"... default [delegates] is probably going to...\"\n",
      "https://youtu.be/3TqN_M1L4ts?t=6750\n",
      "\n",
      "fastai v2 code walk-thrus -> fastai v2 walk-thru #2\n",
      "\"... this [delegates] decorator and what the...\"\n",
      "https://youtu.be/yEe5ZUMLEys?t=4756\n"
     ]
    }
   ],
   "source": [
    "q = 'deleg*'\n",
    "res = cur.execute(get_query(q, limit=5)).fetchall()\n",
    "print_search_results(res)"
   ]
  },
  {
   "cell_type": "markdown",
   "id": "82ce84e6",
   "metadata": {},
   "source": [
    "### Faceted Search\n",
    "We can limit the search to specific playlists in a [faceted](https://en.wikipedia.org/wiki/Faceted_search) like search."
   ]
  },
  {
   "cell_type": "code",
   "execution_count": null,
   "id": "1b1ebac3",
   "metadata": {},
   "outputs": [
    {
     "data": {
      "text/plain": [
       "{'PLfYUBJiXbdtSgU6S_3l6pX-4hQYKNJZFU': 'fast.ai APL Study Group',\n",
       " 'PLfYUBJiXbdtSvpQjSnJJ_PmDQB_VyT5iU': 'Practical Deep Learning for Coders 2022',\n",
       " 'PLfYUBJiXbdtSLBPJ1GMx-sQWf6iNhb8mM': 'fast.ai live coding & tutorials',\n",
       " 'PLfYUBJiXbdtRL3FMB3GoWHRI8ieU6FhfM': 'Practical Deep Learning for Coders (2020)',\n",
       " 'PLfYUBJiXbdtTIdtE1U8qgyxo4Jy2Y91uj': 'Deep Learning from the Foundations',\n",
       " 'PLfYUBJiXbdtSWRCYUHh-ThVCC39bp5yiq': 'fastai v2 code walk-thrus',\n",
       " 'PLfYUBJiXbdtSIJb-Qd3pw0cqCbkGeS0xn': 'Practical Deep Learning for Coders 2019',\n",
       " 'PLfYUBJiXbdtSyktd8A_x0JNd6lxDcZE96': 'Introduction to Machine Learning for Coders',\n",
       " 'PLfYUBJiXbdtTttBGq-u2zeY1OTjs5e-Ia': 'Cutting Edge Deep Learning for Coders 2',\n",
       " 'PLfYUBJiXbdtS2UQRzyrxmyVHoGW0gmLSM': 'Practical Deep Learning For Coders 2018'}"
      ]
     },
     "execution_count": null,
     "metadata": {},
     "output_type": "execute_result"
    }
   ],
   "source": [
    "playlists"
   ]
  },
  {
   "cell_type": "code",
   "execution_count": null,
   "id": "6cd2e389",
   "metadata": {},
   "outputs": [],
   "source": [
    "pl_lst = list(playlists.keys())"
   ]
  },
  {
   "cell_type": "code",
   "execution_count": null,
   "id": "72f48932",
   "metadata": {},
   "outputs": [
    {
     "name": "stdout",
     "output_type": "stream",
     "text": [
      "\n",
      "Practical Deep Learning for Coders 2022 -> Lesson 6: Practical Deep Learning for Coders 2022\n",
      "\"... but my [fastcore] library has a [parallel] sub module \n",
      "which can basically do anything that you can do  ...\"\n",
      "https://youtu.be/AdhG64NF76E?t=3799\n",
      "\n",
      "fast.ai live coding & tutorials -> Live coding 3\n",
      "\"... going to install python and [fastcore]...\"\n",
      "https://youtu.be/B6BQiIgiEks?t=820\n",
      "\n",
      "fast.ai live coding & tutorials -> Live coding 3\n",
      "\"... but for a library like [fastcore]...\"\n",
      "https://youtu.be/B6BQiIgiEks?t=2818\n",
      "\n",
      "fast.ai live coding & tutorials -> Live coding 3\n",
      "\"... use the latest version of [fastcore]...\"\n",
      "https://youtu.be/B6BQiIgiEks?t=2975\n",
      "\n",
      "fast.ai live coding & tutorials -> Live coding 3\n",
      "\"... no module named [fastcore] is actually...\"\n",
      "https://youtu.be/B6BQiIgiEks?t=3617\n",
      "\n",
      "fast.ai live coding & tutorials -> Live coding 8\n",
      "\"... [parallel]...\"\n",
      "https://youtu.be/-Scs4gbwWXg?t=1155\n",
      "\n",
      "fast.ai live coding & tutorials -> Live coding 8\n",
      "\"... [parallel]...\"\n",
      "https://youtu.be/-Scs4gbwWXg?t=1160\n",
      "\n",
      "fast.ai live coding & tutorials -> Live coding 3\n",
      "\"... and import [fastcore] it can't find it...\"\n",
      "https://youtu.be/B6BQiIgiEks?t=3401\n",
      "\n",
      "fast.ai live coding & tutorials -> Live coding 8\n",
      "\"... for [parallel]...\"\n",
      "https://youtu.be/-Scs4gbwWXg?t=1049\n",
      "\n",
      "fast.ai live coding & tutorials -> Live coding 15\n",
      "\"... somewhat in [parallel]...\"\n",
      "https://youtu.be/6JGoes9_bPs?t=5589\n"
     ]
    }
   ],
   "source": [
    "# Search in playlist 'Practical Deep Learning for Coders 2022' or\n",
    "# 'fast.ai live coding & tutorials'\n",
    "q = f\"\"\"\n",
    "(text: fastcore OR paral*) AND \n",
    "(playlist_id: \"{pl_lst[1]}\" OR \"{pl_lst[2]}\")\n",
    "\"\"\"\n",
    "res = cur.execute(get_query(q, limit=10)).fetchall()\n",
    "\n",
    "print_search_results(res)"
   ]
  }
 ],
 "metadata": {
  "kernelspec": {
   "display_name": "Python 3 (ipykernel)",
   "language": "python",
   "name": "python3"
  }
 },
 "nbformat": 4,
 "nbformat_minor": 5
}
