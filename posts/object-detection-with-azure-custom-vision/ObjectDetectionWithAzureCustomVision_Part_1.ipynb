{
 "cells": [
  {
   "cell_type": "markdown",
   "id": "50da3568",
   "metadata": {},
   "source": [
    "---\n",
    "title: Object Detection with Azure Custom Vision - Part 1  \n",
    "author: \"Francisco Mussari\"  \n",
    "date: 2022-10-08  \n",
    "categories: [computer-vision, deeplearning, azure, custom-vision, object-detection]  \n",
    "\n",
    "---\n",
    "\n",
    "Building an Object Detection with Azure Custom Vision - Part 1"
   ]
  },
  {
   "cell_type": "markdown",
   "id": "20aa3f1c",
   "metadata": {},
   "source": [
    "![](test-url-Iteration2.png)"
   ]
  },
  {
   "cell_type": "markdown",
   "id": "ede89600",
   "metadata": {},
   "source": [
    "## Introduction\n",
    "\n",
    "I was introduced to deep learning with fastai's top-down approach. That means that in the first week I was able to train a model\n",
    "As part of fast.ai great deep learning course I was able to easily train and put into production a classifier of telecommunication tower elements."
   ]
  },
  {
   "cell_type": "markdown",
   "id": "234ff045",
   "metadata": {},
   "source": [
    "## References\n",
    "\n",
    "- Microsoft Learn Excersice: [Detect Objects in Images with Custom Vision](https://microsoftlearning.github.io/AI-102-AIEngineer/Instructions/18-object-detection.html)\n",
    "- Custom Vision Documentation: [Quickstart: Create an object detection project with the Custom Vision client library](https://docs.microsoft.com/en-us/azure/cognitive-services/custom-vision-service/quickstarts/object-detection?tabs=visual-studio&pivots=programming-language-python)\n",
    "- REST API Endpoint: [Custom Vision REST API reference - Azure Cognitive Services](https://docs.microsoft.com/en-us/rest/api/custom-vision/)\n",
    "- APIs Documentation: [Custom_Vision_Training_3.3](https://southcentralus.dev.cognitive.microsoft.com/docs/services/Custom_Vision_Training_3.3)\n",
    "- Azure SDK for Python: [Azure Cognitive Services Computer Vision SDK for Python](https://docs.microsoft.com/en-us/python/api/overview/azure/cognitiveservices-vision-computervision-readme?view=azure-python)\n",
    "- Source Code: [Azure/azure-sdk-for-python](https://github.com/Azure/azure-sdk-for-python/blob/main/sdk/cognitiveservices/azure-cognitiveservices-vision-customvision/azure/cognitiveservices/vision/customvision/training/operations/_custom_vision_training_client_operations.py)"
   ]
  },
  {
   "cell_type": "markdown",
   "id": "0a14d756",
   "metadata": {},
   "source": [
    "## Install and Import Libraries"
   ]
  },
  {
   "cell_type": "markdown",
   "id": "73c70dcf",
   "metadata": {},
   "source": [
    "After installing Custom Vision's Python SDK and python-dotenv  \n",
    "`! pip install azure-cognitiveservices-vision-customvision==3.1.0`  \n",
    "`! pip install python-dotenv`"
   ]
  },
  {
   "cell_type": "code",
   "execution_count": null,
   "id": "c9113efe",
   "metadata": {},
   "outputs": [],
   "source": [
    "from azure.cognitiveservices.vision.customvision.training import CustomVisionTrainingClient\n",
    "from azure.cognitiveservices.vision.customvision.training.models import ImageFileCreateBatch, ImageFileCreateEntry, Region\n",
    "from msrest.authentication import ApiKeyCredentials\n",
    "import time\n",
    "import json\n",
    "import os\n",
    "\n",
    "import pandas as pd\n",
    "from pathlib import Path\n",
    "\n",
    "from PIL import Image\n",
    "from PIL import UnidentifiedImageError"
   ]
  },
  {
   "cell_type": "code",
   "execution_count": null,
   "id": "1611c4a5",
   "metadata": {},
   "outputs": [],
   "source": []
  },
  {
   "cell_type": "code",
   "execution_count": null,
   "id": "d2bdb4e9",
   "metadata": {},
   "outputs": [],
   "source": [
    "# Borrowed from fastai library\n",
    "def verify_image(fn):\n",
    "    \"Confirm that `fn` can be opened\"\n",
    "    try:\n",
    "        im = Image.open(fn)\n",
    "        im.draft(im.mode, (32,32))\n",
    "        im.load()\n",
    "        return True\n",
    "    except: return False\n",
    "    #except PIL.UnidentifiedImageError:"
   ]
  },
  {
   "cell_type": "code",
   "execution_count": null,
   "id": "f0e292ad",
   "metadata": {},
   "outputs": [],
   "source": [
    "def Upload_Images_1by1(picture_names: list) -> list('dict'):\n",
    "    \"\"\"Upload the pictures from a list of paths,\n",
    "    one by one to keep track of the relation between\n",
    "    local image name and Azure image id.\n",
    "    And to track the ones that python fails opening\n",
    "    \"\"\"\n",
    "    print(\"Uploading images...\")\n",
    "\n",
    "    processed_ids = []\n",
    "    processed_status = []\n",
    "\n",
    "    for pic_name in picture_names:\n",
    "        pic_path = pictures_path / pic_name\n",
    "\n",
    "        if verify_image(pic_path):\n",
    "            with open(pic_path, mode=\"rb\") as image_data:\n",
    "                image_entry = ImageFileCreateEntry(name=pic_name, contents=image_data.read())\n",
    "            \n",
    "            # Upload the list of (1) images as a batch\n",
    "            upload_result = training_client.create_images_from_files(\n",
    "                custom_vision_project.id, \n",
    "                # Creates an ImageFileCreateBatch from a list of (1) ImageFileCreateEntry\n",
    "                ImageFileCreateBatch(images=[image_entry])\n",
    "            )\n",
    "            # Check for failure\n",
    "            if not upload_result.is_batch_successful:\n",
    "                pic_status = upload_result.images[0].status\n",
    "                pic_id = None\n",
    "            else:\n",
    "                pic_status = upload_result.images[0].status\n",
    "                pic_id = upload_result.images[0].image.id\n",
    "        else:\n",
    "            pic_status = \"ReadError\" # Equivalente to SDK `ErrorSource`\n",
    "            pic_id = None\n",
    "        \n",
    "        processed_status.append(pic_status)\n",
    "        processed_ids.append(pic_id)\n",
    "        print(pic_name, \"//\", pic_id, \"//\", pic_status)\n",
    "    \n",
    "    return [{\"image_name\": image_name, \"image_id\": image_id, \"image_status\": image_status} \n",
    "            for image_name, image_id, image_status in \n",
    "            zip(picture_names, processed_ids, processed_status)]"
   ]
  },
  {
   "cell_type": "code",
   "execution_count": null,
   "id": "128aec85",
   "metadata": {},
   "outputs": [],
   "source": []
  },
  {
   "cell_type": "code",
   "execution_count": null,
   "id": "382845f3",
   "metadata": {},
   "outputs": [],
   "source": []
  }
 ],
 "metadata": {
  "kernelspec": {
   "display_name": "Python 3 (ipykernel)",
   "language": "python",
   "name": "python3"
  }
 },
 "nbformat": 4,
 "nbformat_minor": 5
}
