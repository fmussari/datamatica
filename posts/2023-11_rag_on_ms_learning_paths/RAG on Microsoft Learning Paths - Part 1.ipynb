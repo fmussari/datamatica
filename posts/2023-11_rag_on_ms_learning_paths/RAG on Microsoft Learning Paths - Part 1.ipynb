{
 "cells": [
  {
   "cell_type": "markdown",
   "id": "a66ae2fb",
   "metadata": {},
   "source": [
    "---\n",
    "title: RAG on Microsoft Learning Paths - Part 1. Web Scraping and Supabase   \n",
    "author: \"Francisco Mussari\"  \n",
    "date: 2023-11-15  \n",
    "image: \"ERD.svg\"  \n",
    "categories: [RAG, LLM, Embeddings, Power BI, SQLAlchemy, PostgreSQL, Supabase, BeautifulSoup]  \n",
    "format:\n",
    "  html:\n",
    "    toc: true\n",
    "    toc-depth: 3\n",
    "    \n",
    "---"
   ]
  },
  {
   "cell_type": "markdown",
   "id": "de5a0955",
   "metadata": {},
   "source": [
    "## Overview\n",
    "\n",
    "**Retrieval Augmented Generation** (RAG) provides **Large Language Models** (LLMs) context and access to a knowledge base, leading to more precise answers and fewer hallucinations.  \n",
    "  \n",
    "In this blog series we'll go in a journey with RAG and Microsoft Learning Paths (Power BI) to explore what could be achieved.\n",
    "\n",
    "First up, let's tackle the data preparation phase.  \n",
    "\n",
    "In **Part 1** we'll ditch the idea of starting with a set of pre-processed documents and instead build our own data pipeline from scratch. This involves creating a database model, scraping Microsoft Modules, storing them in Supabase (PostgreSQL), and managing the database using SQLAlchemy Object Relational Mapper (ORM).  \n",
    "  \n",
    "Don't worry if some of these terms are new; you're not alone!\""
   ]
  },
  {
   "cell_type": "markdown",
   "id": "31f1f4a5",
   "metadata": {},
   "source": [
    "## References\n",
    "\n",
    "- [SQLAlchemy Unified Tutorial](https://docs.sqlalchemy.org/en/20/tutorial/index.html#sqlalchemy-unified-tutorial)\n",
    "- [ORM Quick Start](https://docs.sqlalchemy.org/en/20/orm/quickstart.html#orm-quick-start)"
   ]
  },
  {
   "cell_type": "markdown",
   "id": "c729cb65",
   "metadata": {},
   "source": [
    "## Import libraries"
   ]
  },
  {
   "cell_type": "code",
   "execution_count": null,
   "id": "1acac886",
   "metadata": {},
   "outputs": [],
   "source": [
    "import os\n",
    "import time\n",
    "from dotenv import load_dotenv\n",
    "\n",
    "from urllib.request import Request, urlopen\n",
    "from bs4 import BeautifulSoup as bs"
   ]
  },
  {
   "cell_type": "code",
   "execution_count": null,
   "id": "a4199699",
   "metadata": {},
   "outputs": [],
   "source": [
    "from sqlalchemy import create_engine\n",
    "from sqlalchemy.orm import Session\n",
    "\n",
    "from typing import List, Tuple, Dict\n",
    "from typing import Optional\n",
    "from sqlalchemy import ForeignKey\n",
    "from sqlalchemy import String\n",
    "from sqlalchemy.orm import DeclarativeBase\n",
    "from sqlalchemy.orm import Mapped\n",
    "from sqlalchemy.orm import mapped_column\n",
    "from sqlalchemy.orm import relationship"
   ]
  },
  {
   "cell_type": "code",
   "execution_count": null,
   "id": "2e51ccc2",
   "metadata": {},
   "outputs": [],
   "source": [
    "from sqlalchemy import Text, Boolean"
   ]
  },
  {
   "cell_type": "markdown",
   "id": "5d784c54",
   "metadata": {},
   "source": [
    "## Credentials"
   ]
  },
  {
   "cell_type": "code",
   "execution_count": null,
   "id": "cdcbc745",
   "metadata": {},
   "outputs": [],
   "source": [
    "load_dotenv()\n",
    "\n",
    "supabase_host = os.environ.get('SUPABASE_HOST')\n",
    "supabase_pass = os.environ.get('SUPABASE_PASS')"
   ]
  },
  {
   "cell_type": "markdown",
   "id": "3bb89004",
   "metadata": {},
   "source": [
    "## Data Model's Entity Relationship Diagram (ERD)\n",
    "\n",
    "Imagine we're building a roadmap to guide someone's journey towards becoming a **Microsoft Certified: Power BI Data Analyst Associate**.  \n",
    "  \n",
    "The recommended path involves completing a series of **Learning Paths**, each filled with **Modules** containing **Chapters**. Some Chapters might have **Knowledge Checks** to assess your understanding, consisting of single-selection **Questions** with multiple **Answers**, only one of which is correct.  \n",
    "  \n",
    "To represent this structure, let's create a model that looks like this:"
   ]
  },
  {
   "cell_type": "markdown",
   "id": "cec8da89",
   "metadata": {},
   "source": [
    "<img src=\"ERD.svg\" align=\"center\"/>  "
   ]
  },
  {
   "cell_type": "markdown",
   "id": "f2424761",
   "metadata": {},
   "source": [
    "Fig 1. Model's ERD. (Created with https://dbdiagram.io/)"
   ]
  },
  {
   "cell_type": "markdown",
   "id": "4a15f590",
   "metadata": {},
   "source": [
    "## Creating the Object Relational Mapping"
   ]
  },
  {
   "cell_type": "markdown",
   "id": "0231f7e1",
   "metadata": {},
   "source": [
    "Let's now move from the diagram to the database itself with SQLAlchemy. We can use the free version of Supabase."
   ]
  },
  {
   "cell_type": "code",
   "execution_count": null,
   "id": "9118ce2f",
   "metadata": {},
   "outputs": [],
   "source": [
    "DB_CONNECTION = f'postgresql://postgres:{supabase_pass}@{supabase_host}:5432/postgres'\n",
    "engine = create_engine(DB_CONNECTION, echo=False)"
   ]
  },
  {
   "cell_type": "code",
   "execution_count": null,
   "id": "8e533012",
   "metadata": {},
   "outputs": [],
   "source": [
    "class Base(DeclarativeBase):\n",
    "    pass\n",
    "\n",
    "class Exam(Base):\n",
    "    __tablename__ = \"exam\"\n",
    "    \n",
    "    id: Mapped[int] = mapped_column(primary_key=True)\n",
    "    code: Mapped[str] = mapped_column(Text())\n",
    "    description: Mapped[str] = mapped_column(Text())\n",
    "    url: Mapped[str] = mapped_column(Text())\n",
    "        \n",
    "    learning_paths: Mapped[List[\"LearningPath\"]] = relationship(\n",
    "        back_populates=\"exam\", cascade=\"all, delete-orphan\"\n",
    "    )\n",
    "        \n",
    "    def __repr__(self) -> str:\n",
    "        return f\"Exam(code={self.code!r}, description={self.description!r}, url={self.url!r})\"\n",
    "\n",
    "class LearningPath(Base):\n",
    "    __tablename__ = \"learning_path\"\n",
    "    \n",
    "    id: Mapped[int] = mapped_column(primary_key=True)\n",
    "    title: Mapped[str] = mapped_column(Text())\n",
    "    summary: Mapped[str] = mapped_column(Text())\n",
    "    url: Mapped[str] = mapped_column(Text())\n",
    "    \n",
    "    exam_id: Mapped[int] = mapped_column(ForeignKey(\"exam.id\"))\n",
    "    \n",
    "    exam: Mapped[\"Exam\"] = relationship(back_populates=\"learning_paths\")\n",
    "    modules: Mapped[List[\"Module\"]] = relationship(\n",
    "        back_populates=\"learning_path\", cascade=\"all, delete-orphan\"\n",
    "    )\n",
    "    \n",
    "    def __repr__(self) -> str:\n",
    "        return f\"LearningPath(title={self.title!r}, url={self.url!r})\"\n",
    "\n",
    "class Module(Base):\n",
    "    __tablename__ = \"module\"\n",
    "    \n",
    "    id: Mapped[int] = mapped_column(primary_key=True)\n",
    "    title: Mapped[str] = mapped_column(Text())\n",
    "    summary: Mapped[str] = mapped_column(Text())\n",
    "    url: Mapped[str] = mapped_column(Text())\n",
    "    \n",
    "    path_id: Mapped[int] = mapped_column(ForeignKey(\"learning_path.id\"))\n",
    "        \n",
    "    learning_path: Mapped[\"LearningPath\"] = relationship(back_populates=\"modules\")\n",
    "    chapters: Mapped[List[\"Chapter\"]] = relationship(\n",
    "        back_populates=\"module\", cascade=\"all, delete-orphan\"\n",
    "    )\n",
    "    \n",
    "    def __repr__(self) -> str:\n",
    "        return f\"Module(title={self.title!r}, url={self.url!r})\"\n",
    "\n",
    "class Chapter(Base):\n",
    "    __tablename__ = \"chapter\"\n",
    "    \n",
    "    id: Mapped[int] = mapped_column(primary_key=True)\n",
    "    title: Mapped[str] = mapped_column(Text())\n",
    "    content: Mapped[str] = mapped_column(Text())\n",
    "    url: Mapped[str] = mapped_column(Text())\n",
    "    is_check: Mapped[str] = mapped_column(Boolean())\n",
    "    \n",
    "    module_id: Mapped[int] = mapped_column(ForeignKey(\"module.id\"))\n",
    "        \n",
    "    module: Mapped[\"Module\"] = relationship(back_populates=\"chapters\")\n",
    "    questions: Mapped[List[\"Question\"]] = relationship(\n",
    "        back_populates=\"chapter\", cascade=\"all, delete-orphan\"\n",
    "    )\n",
    "    \n",
    "    def __repr__(self) -> str:\n",
    "        return f\"Chapter(title={self.title!r}, url={self.url!r})\"\n",
    "\n",
    "class Question(Base):\n",
    "    __tablename__ = \"question\"\n",
    "    \n",
    "    id: Mapped[int] = mapped_column(primary_key=True)\n",
    "    question: Mapped[str] = mapped_column(Text())\n",
    "    \n",
    "    chapter_id: Mapped[int] = mapped_column(ForeignKey(\"chapter.id\"))\n",
    "    \n",
    "    chapter: Mapped[\"Chapter\"] = relationship(back_populates=\"questions\")\n",
    "    answers: Mapped[List[\"Answer\"]] = relationship(\n",
    "        back_populates=\"question\", cascade=\"all, delete-orphan\"\n",
    "    )\n",
    "    \n",
    "    def __repr__(self) -> str:\n",
    "        return f\"Question(question={self.question!r})\"\n",
    "\n",
    "class Answer(Base):\n",
    "    __tablename__ = \"answer\"\n",
    "    \n",
    "    id: Mapped[int] = mapped_column(primary_key=True)\n",
    "    answer: Mapped[str] = mapped_column(Text())\n",
    "    is_correct: Mapped[str] = mapped_column(Boolean())\n",
    "    \n",
    "    question_id: Mapped[int] = mapped_column(ForeignKey(\"question.id\"))\n",
    "    \n",
    "    question: Mapped[\"Question\"] = relationship(back_populates=\"answers\")\n",
    "    \n",
    "    def __repr__(self) -> str:\n",
    "        return f\"Answer(answer={self.answer!r}, is_correct={self.is_correct!r})\""
   ]
  },
  {
   "cell_type": "code",
   "execution_count": null,
   "id": "33988c05",
   "metadata": {},
   "outputs": [],
   "source": [
    "# Delete all table if they exists\n",
    "Base.metadata.drop_all(engine)"
   ]
  },
  {
   "cell_type": "code",
   "execution_count": null,
   "id": "5716d883",
   "metadata": {},
   "outputs": [],
   "source": [
    "# Create all tables\n",
    "Base.metadata.create_all(engine)"
   ]
  },
  {
   "cell_type": "markdown",
   "id": "6a5b695d",
   "metadata": {},
   "source": [
    "After executing the previous command, the tables are created in the database:                           \n",
    "\n",
    "<img src=\"ERD-pgAdmin.PNG\" align=\"center\"/>   "
   ]
  },
  {
   "cell_type": "markdown",
   "id": "7ecd588a",
   "metadata": {},
   "source": [
    "Fig 2. Model's ERD. (Created with pgAdmin)"
   ]
  },
  {
   "cell_type": "markdown",
   "id": "d86e5377",
   "metadata": {},
   "source": [
    "## Start Populating the Database"
   ]
  },
  {
   "cell_type": "markdown",
   "id": "e76392e3",
   "metadata": {},
   "source": [
    "We'll use Python to extract the contents of each web page, but we'll manually grab the **exam** and **Learning Paths** links. Our case is **Exam PL-300: Microsoft Power BI Data Analyst**."
   ]
  },
  {
   "cell_type": "code",
   "execution_count": null,
   "id": "1f5f0448",
   "metadata": {},
   "outputs": [],
   "source": [
    "power_bi_exam = Exam(\n",
    "    code='PL-300', description='Microsoft Power BI Data Analyst', \n",
    "    url='https://learn.microsoft.com/en-us/credentials/certifications/power-bi-data-analyst-associate/')"
   ]
  },
  {
   "cell_type": "code",
   "execution_count": null,
   "id": "ab34ae2b",
   "metadata": {},
   "outputs": [
    {
     "data": {
      "text/plain": [
       "Exam(code='PL-300', description='Microsoft Power BI Data Analyst', url='https://learn.microsoft.com/en-us/credentials/certifications/power-bi-data-analyst-associate/')"
      ]
     },
     "execution_count": null,
     "metadata": {},
     "output_type": "execute_result"
    }
   ],
   "source": [
    "power_bi_exam"
   ]
  },
  {
   "cell_type": "code",
   "execution_count": null,
   "id": "cf1e8cbf",
   "metadata": {},
   "outputs": [],
   "source": [
    "with Session(engine) as session:\n",
    "    session.add_all([power_bi_exam])\n",
    "    session.commit()"
   ]
  },
  {
   "cell_type": "markdown",
   "id": "3fdf462a",
   "metadata": {},
   "source": [
    "## Web Scraping\n",
    "\n",
    "Since I couldn't find a direct way to scrape the main page listing all Learning Paths, let's start with a list of Learning Paths and work our way from there."
   ]
  },
  {
   "cell_type": "code",
   "execution_count": null,
   "id": "6d677076",
   "metadata": {},
   "outputs": [],
   "source": [
    "from llama_index import SummaryIndex, SimpleWebPageReader\n",
    "import re"
   ]
  },
  {
   "cell_type": "code",
   "execution_count": null,
   "id": "75e51de7",
   "metadata": {},
   "outputs": [],
   "source": [
    "learning_path_path = [\n",
    "    \"data-analytics-microsoft/\", \"prepare-data-power-bi/\", \n",
    "    \"model-data-power-bi/\", \"build-power-bi-visuals-reports/\", \n",
    "    \"manage-workspaces-datasets-power-bi/\"\n",
    "]\n",
    "\n",
    "learning_path_base_url = \"https://learn.microsoft.com/en-us/training/paths/\"\n",
    "module_base_url = \"https://learn.microsoft.com/en-us/training/modules/\"\n",
    "\n",
    "learning_path_url = [learning_path_base_url + path for path in learning_path_path]"
   ]
  },
  {
   "cell_type": "code",
   "execution_count": null,
   "id": "f208cd11",
   "metadata": {},
   "outputs": [
    {
     "data": {
      "text/plain": [
       "['https://learn.microsoft.com/en-us/training/paths/data-analytics-microsoft/',\n",
       " 'https://learn.microsoft.com/en-us/training/paths/prepare-data-power-bi/',\n",
       " 'https://learn.microsoft.com/en-us/training/paths/model-data-power-bi/',\n",
       " 'https://learn.microsoft.com/en-us/training/paths/build-power-bi-visuals-reports/',\n",
       " 'https://learn.microsoft.com/en-us/training/paths/manage-workspaces-datasets-power-bi/']"
      ]
     },
     "execution_count": null,
     "metadata": {},
     "output_type": "execute_result"
    }
   ],
   "source": [
    "learning_path_url"
   ]
  },
  {
   "cell_type": "markdown",
   "id": "a7bc7421",
   "metadata": {},
   "source": [
    "### Functions"
   ]
  },
  {
   "cell_type": "code",
   "execution_count": null,
   "id": "6e7d1dbd",
   "metadata": {},
   "outputs": [],
   "source": [
    "def get_text_between_regex(text:str, regex:str=r\"\\n\\n\\[ (.*?)\\/\\)\\n\\n\") -> List[str]:\n",
    "    \"\"\"Matches and extracts text using regular expressions.\"\"\"\n",
    "    matches = re.findall(regex, text)\n",
    "    if matches:\n",
    "        return matches\n",
    "    else:\n",
    "        return None\n",
    "    \n",
    "def get_text_from_urls(urls:List[str], delay:int=5) -> List[str]:\n",
    "    \"\"\"Scrapes a list of URLs, introducing pauses, using `SimpleWebPageReader`.\"\"\"\n",
    "    output = []\n",
    "    \n",
    "    for url in urls:\n",
    "        print(f'Scraping {url}')\n",
    "        txt = SimpleWebPageReader(html_to_text=True).load_data([url])[0].text\n",
    "        output.append(txt)\n",
    "        time.sleep(delay) \n",
    "        \n",
    "    return output\n",
    "\n",
    "def extract_modules_from_lp(lp_raw_content:List[str]) -> Dict:\n",
    "    \"\"\"Extracts modules' names and paths from Learning Path's scraped content.\"\"\"\n",
    "    modules = {'title': [], 'path': []}\n",
    "    \n",
    "    for raw_text in lp_raw_content:\n",
    "        text = raw_text.replace(\"\\n\", \"\").replace(\"[ !\", \"[!\")\n",
    "        \n",
    "        paths = get_text_between_regex(text, MOD_URL_REG)\n",
    "        names = get_text_between_regex(text, MOD_NAME_REG)\n",
    "        \n",
    "        names = [\n",
    "            n.strip() for n in names if 'Download' not in n and \n",
    "            'More info' not in n and n != '']\n",
    "        paths = list(dict.fromkeys(paths))\n",
    "        \n",
    "        modules['title'].append(names)\n",
    "        modules['path'].append(paths)\n",
    "        \n",
    "    return modules\n",
    "\n",
    "def extract_chapters_from_mods(mod_content:List[List[str]]) -> Dict:\n",
    "    \"\"\"Extracts chapters' names and paths from Modules' scraped content.\"\"\"\n",
    "    chapters = {'title': [], 'path': []}\n",
    "\n",
    "    for lp_mods in mod_content:\n",
    "\n",
    "        for content in lp_mods:\n",
    "\n",
    "            chapters_txt = get_text_between_regex(content.replace(\"\\n\", \"\"), CHAPTERS_REG)[0]\n",
    "\n",
    "            titles = get_text_between_regex(chapters_txt, CHAPTER_TITLE_REG)\n",
    "            titles = [t.strip() for t in titles]\n",
    "            \n",
    "            paths = get_text_between_regex(chapters_txt, CHAPTER_PATH_REG)\n",
    "            paths = [p.strip() for p in paths]\n",
    "            \n",
    "            chapters['title'].append(titles)\n",
    "            chapters['path'].append(paths)\n",
    "\n",
    "    return chapters\n",
    "\n",
    "def get_soup(url:str) -> 'bs4.BeautifulSoup':\n",
    "    \"\"\"Fetches the HTML content from a URL and parses it using BeautifulSoup.\"\"\"\n",
    "    req = Request(url)\n",
    "    response = urlopen(req, timeout=10)\n",
    "    soup = bs(response.read())\n",
    "    return soup\n",
    "\n",
    "def get_questions(soup:'bs4.BeautifulSoup') -> List[str]:\n",
    "    \"\"\"Extracts questions from a BeautifulSoup object representing the HTML content.\"\"\"\n",
    "    questions = []\n",
    "    for q in (\n",
    "        soup\n",
    "        .find_all(class_=\"field\")[0]\n",
    "        .find_all(class_=\"margin-top-sm margin-bottom-xs field-label\")\n",
    "    ):\n",
    "        questions += q.select('p')[0].contents\n",
    "    return questions\n",
    "\n",
    "def get_answers(soup:'bs4.BeautifulSoup') -> List[List]:\n",
    "    \"\"\"Extracts answers from a BeautifulSoup object representing the HTML content.\"\"\"\n",
    "    all_answers = []\n",
    "    for answrs in (\n",
    "        soup\n",
    "        .find_all(class_=\"field\")[0]\n",
    "        .find_all(class_=\"field-body\")\n",
    "    ):\n",
    "        answers = []\n",
    "        for answr in (\n",
    "            answrs.find_all(class_=\"margin-inline-sm radio-label-text\")\n",
    "        ):\n",
    "            answers += answr.select('p')[0].contents\n",
    "        \n",
    "        all_answers.append(answers)\n",
    "        \n",
    "    return all_answers"
   ]
  },
  {
   "cell_type": "markdown",
   "id": "1817b049",
   "metadata": {},
   "source": [
    "### Getting Data from each Learning Path"
   ]
  },
  {
   "cell_type": "code",
   "execution_count": null,
   "id": "da21c846",
   "metadata": {},
   "outputs": [
    {
     "name": "stdout",
     "output_type": "stream",
     "text": [
      "Scraping https://learn.microsoft.com/en-us/training/paths/data-analytics-microsoft/\n",
      "Scraping https://learn.microsoft.com/en-us/training/paths/prepare-data-power-bi/\n",
      "Scraping https://learn.microsoft.com/en-us/training/paths/model-data-power-bi/\n",
      "Scraping https://learn.microsoft.com/en-us/training/paths/build-power-bi-visuals-reports/\n",
      "Scraping https://learn.microsoft.com/en-us/training/paths/manage-workspaces-datasets-power-bi/\n"
     ]
    }
   ],
   "source": [
    "lp_raw_content = get_text_from_urls(learning_path_url, 5)"
   ]
  },
  {
   "cell_type": "markdown",
   "id": "957dcd4f",
   "metadata": {},
   "source": [
    "#### Title of each Learning Path"
   ]
  },
  {
   "cell_type": "code",
   "execution_count": null,
   "id": "c1d15275",
   "metadata": {},
   "outputs": [
    {
     "data": {
      "text/plain": [
       "['Get started with Microsoft data analytics',\n",
       " 'Prepare data for analysis with Power BI',\n",
       " 'Model data with Power BI',\n",
       " 'Build Power BI visuals and reports',\n",
       " 'Manage workspaces and datasets in Power BI']"
      ]
     },
     "execution_count": null,
     "metadata": {},
     "output_type": "execute_result"
    }
   ],
   "source": [
    "LP_NAME_REG = r\"\\n# (.*?)\\n\\n\"\n",
    "\n",
    "lp_title = [get_text_between_regex(txt, LP_NAME_REG)[0] for txt in lp_raw_content]\n",
    "lp_title"
   ]
  },
  {
   "cell_type": "markdown",
   "id": "beffdaea",
   "metadata": {},
   "source": [
    "#### Description of each Learning Path"
   ]
  },
  {
   "cell_type": "code",
   "execution_count": null,
   "id": "9b807631",
   "metadata": {},
   "outputs": [],
   "source": [
    "LP_DESC_REG = r\"\\n\\nPower BI\\n\\n([\\s\\S]*?)\\n\\n\"\n",
    "\n",
    "lp_desc = [get_text_between_regex(txt, LP_DESC_REG)[0] for txt in lp_raw_content]"
   ]
  },
  {
   "cell_type": "code",
   "execution_count": null,
   "id": "87e114da",
   "metadata": {},
   "outputs": [
    {
     "name": "stdout",
     "output_type": "stream",
     "text": [
      "- Businesses need data analysis more than ever. In t...\n",
      "- You'll learn how to use Power Query to extract dat...\n",
      "- Learn what a Power BI semantic model is, which dat...\n",
      "- Turn data into interactive, actionable insights wi...\n",
      "- In this Learning Path, you'll learn how to publish...\n"
     ]
    }
   ],
   "source": [
    "print(f\"- {lp_desc[0][:50]}...\")\n",
    "print(f\"- {lp_desc[1][:50]}...\")\n",
    "print(f\"- {lp_desc[2][:50]}...\")\n",
    "print(f\"- {lp_desc[3][:50]}...\")\n",
    "print(f\"- {lp_desc[4][:50]}...\")"
   ]
  },
  {
   "cell_type": "code",
   "execution_count": null,
   "id": "78a63b61",
   "metadata": {},
   "outputs": [
    {
     "data": {
      "text/plain": [
       "[446, 219, 147, 90, 325]"
      ]
     },
     "execution_count": null,
     "metadata": {},
     "output_type": "execute_result"
    }
   ],
   "source": [
    "[len(des) for des in lp_desc]"
   ]
  },
  {
   "cell_type": "markdown",
   "id": "2dad3916",
   "metadata": {},
   "source": [
    "### Insert Learning Path Data into Supabase"
   ]
  },
  {
   "cell_type": "code",
   "execution_count": null,
   "id": "2fc6c1a0",
   "metadata": {},
   "outputs": [
    {
     "data": {
      "text/plain": [
       "LearningPath(title='Get started with Microsoft data analytics', url='https://learn.microsoft.com/en-us/training/paths/data-analytics-microsoft/')"
      ]
     },
     "execution_count": null,
     "metadata": {},
     "output_type": "execute_result"
    }
   ],
   "source": [
    "lp_to_postgres = [\n",
    "    LearningPath(\n",
    "        exam_id=1, title=title,\n",
    "        summary=summary, url=url\n",
    "    ) for title, summary, url in zip(lp_title, lp_desc, learning_path_url)\n",
    "]\n",
    "lp_to_postgres[0]"
   ]
  },
  {
   "cell_type": "code",
   "execution_count": null,
   "id": "51d22b93",
   "metadata": {},
   "outputs": [
    {
     "name": "stdout",
     "output_type": "stream",
     "text": [
      "id: None\n",
      "exam_id: 1\n",
      "title: Get started with Microsoft data analytics\n",
      "summary: Businesses need data analysis more than ever. In t...\n"
     ]
    }
   ],
   "source": [
    "print(f\"id: {lp_to_postgres[0].id}\")\n",
    "print(f\"exam_id: {lp_to_postgres[0].exam_id}\")\n",
    "print(f\"title: {lp_to_postgres[0].title}\")\n",
    "print(f\"summary: {lp_to_postgres[0].summary[:50]}...\")"
   ]
  },
  {
   "cell_type": "code",
   "execution_count": null,
   "id": "88a94454",
   "metadata": {},
   "outputs": [],
   "source": [
    "with Session(engine) as session:\n",
    "    session.add_all(lp_to_postgres)\n",
    "    session.commit()\n",
    "    lp_desc_id = [lp.id for lp in lp_to_postgres]"
   ]
  },
  {
   "cell_type": "code",
   "execution_count": null,
   "id": "f67571f0",
   "metadata": {},
   "outputs": [
    {
     "data": {
      "text/plain": [
       "[1, 2, 3, 4, 5]"
      ]
     },
     "execution_count": null,
     "metadata": {},
     "output_type": "execute_result"
    }
   ],
   "source": [
    "lp_desc_id"
   ]
  },
  {
   "cell_type": "markdown",
   "id": "1016ca5e",
   "metadata": {},
   "source": [
    "#### Getting Modules' Paths and Titles"
   ]
  },
  {
   "cell_type": "code",
   "execution_count": null,
   "id": "bae59c14",
   "metadata": {},
   "outputs": [],
   "source": [
    "MOD_URL_REG = r\"\\(.*?/modules/(.*?)\\)\"\n",
    "MOD_NAME_REG = r\"\\[ (.*?)\\]\"\n",
    "\n",
    "modules = extract_modules_from_lp(lp_raw_content)"
   ]
  },
  {
   "cell_type": "code",
   "execution_count": null,
   "id": "507dbaf4",
   "metadata": {},
   "outputs": [
    {
     "data": {
      "text/plain": [
       "['Discover data analysis', 'Get started building with Power BI']"
      ]
     },
     "execution_count": null,
     "metadata": {},
     "output_type": "execute_result"
    }
   ],
   "source": [
    "modules['title'][0]"
   ]
  },
  {
   "cell_type": "code",
   "execution_count": null,
   "id": "7a1a30c1",
   "metadata": {},
   "outputs": [
    {
     "data": {
      "text/plain": [
       "['data-analytics-microsoft/', 'get-started-with-power-bi/']"
      ]
     },
     "execution_count": null,
     "metadata": {},
     "output_type": "execute_result"
    }
   ],
   "source": [
    "modules['path'][0]"
   ]
  },
  {
   "cell_type": "code",
   "execution_count": null,
   "id": "6f7001ae",
   "metadata": {},
   "outputs": [
    {
     "data": {
      "text/plain": [
       "['https://learn.microsoft.com/en-us/training/modules/data-analytics-microsoft/',\n",
       " 'https://learn.microsoft.com/en-us/training/modules/get-started-with-power-bi/']"
      ]
     },
     "execution_count": null,
     "metadata": {},
     "output_type": "execute_result"
    }
   ],
   "source": [
    "module_base_url\n",
    "modules['url'] = [[module_base_url + p for p in path] for path in modules['path']]\n",
    "modules['url'][0]"
   ]
  },
  {
   "cell_type": "markdown",
   "id": "12bdad89",
   "metadata": {},
   "source": [
    "### Scraping Data from each Module"
   ]
  },
  {
   "cell_type": "code",
   "execution_count": null,
   "id": "60b2bada",
   "metadata": {},
   "outputs": [
    {
     "name": "stdout",
     "output_type": "stream",
     "text": [
      "Scraping https://learn.microsoft.com/en-us/training/modules/data-analytics-microsoft/\n",
      "Scraping https://learn.microsoft.com/en-us/training/modules/get-started-with-power-bi/\n",
      "Scraping https://learn.microsoft.com/en-us/training/modules/get-data/\n",
      "Scraping https://learn.microsoft.com/en-us/training/modules/clean-data-power-bi/\n",
      "Scraping https://learn.microsoft.com/en-us/training/modules/dax-power-bi-models/\n",
      "Scraping https://learn.microsoft.com/en-us/training/modules/choose-power-bi-model-framework/\n",
      "Scraping https://learn.microsoft.com/en-us/training/modules/design-model-power-bi/\n",
      "Scraping https://learn.microsoft.com/en-us/training/modules/dax-power-bi-write-formulas/\n",
      "Scraping https://learn.microsoft.com/en-us/training/modules/dax-power-bi-add-measures/\n",
      "Scraping https://learn.microsoft.com/en-us/training/modules/dax-power-bi-add-calculated-tables/\n",
      "Scraping https://learn.microsoft.com/en-us/training/modules/dax-power-bi-time-intelligence/\n",
      "Scraping https://learn.microsoft.com/en-us/training/modules/optimize-model-power-bi/\n",
      "Scraping https://learn.microsoft.com/en-us/training/modules/enforce-power-bi-model-security/\n",
      "Scraping https://learn.microsoft.com/en-us/training/modules/power-bi-effective-requirements/\n",
      "Scraping https://learn.microsoft.com/en-us/training/modules/power-bi-effective-reports/\n",
      "Scraping https://learn.microsoft.com/en-us/training/modules/power-bi-effective-filters/\n",
      "Scraping https://learn.microsoft.com/en-us/training/modules/power-bi-effective-user-experience/\n",
      "Scraping https://learn.microsoft.com/en-us/training/modules/perform-analytics-power-bi/\n",
      "Scraping https://learn.microsoft.com/en-us/training/modules/create-paginated-reports-power-bi/\n",
      "Scraping https://learn.microsoft.com/en-us/training/modules/create-manage-workspaces-power-bi/\n",
      "Scraping https://learn.microsoft.com/en-us/training/modules/manage-datasets-power-bi/\n",
      "Scraping https://learn.microsoft.com/en-us/training/modules/create-dashboards-power-bi/\n",
      "Scraping https://learn.microsoft.com/en-us/training/modules/row-level-security-power-bi/\n"
     ]
    }
   ],
   "source": [
    "modules['content'] = []\n",
    "for modules_url in modules['url']:\n",
    "    modules['content'].append(get_text_from_urls(modules_url, 5))"
   ]
  },
  {
   "cell_type": "code",
   "execution_count": null,
   "id": "cc998a6e",
   "metadata": {},
   "outputs": [
    {
     "data": {
      "text/plain": [
       "'sign requirements\\n\\n  *   * Module \\n  * 8 Units \\n\\nFeedback\\n\\nIntermediate\\n\\nBusiness User\\n\\nBusiness Analyst\\n\\nMicrosoft Power Platform\\n\\nPower BI\\n\\nGathering appropriate inputs to scope your report design requirements involves\\nidentifying your audience, determining the suitable report types, and defining\\ntheir interface and experience requirements. This module provides you with a\\nstrong foundation on wh'"
      ]
     },
     "execution_count": null,
     "metadata": {},
     "output_type": "execute_result"
    }
   ],
   "source": [
    "modules['content'][3][0][600:1000]"
   ]
  },
  {
   "cell_type": "code",
   "execution_count": null,
   "id": "451b4302",
   "metadata": {},
   "outputs": [],
   "source": [
    "m_d_r_1 = r\"\\n\\nPower BI\\n\\nMicrosoft Power Platform\\n\\n\"\n",
    "m_d_r_2 = r\"\\n\\nMicrosoft Power Platform\\n\\nPower BI\\n\\n\"\n",
    "m_d_r_3 = r\"\\n\\nPower BI\\n\\n\"\n",
    "m_d_r_4 = r\"\\n\\nMicrosoft Power Platform\\n\\n\"\n",
    "\n",
    "MOD_DESC_REG = fr\"({m_d_r_1}|{m_d_r_2}|{m_d_r_3}|{m_d_r_4})([\\s\\S]*?)\\n\\nSave\""
   ]
  },
  {
   "cell_type": "code",
   "execution_count": null,
   "id": "2765356b",
   "metadata": {},
   "outputs": [],
   "source": [
    "modules['summary'] = []\n",
    "for mod_content in modules['content']:\n",
    "    summary = []\n",
    "    for txt in mod_content:\n",
    "        summary.append(get_text_between_regex(txt, MOD_DESC_REG)[0][1])\n",
    "    modules['summary'].append(summary)"
   ]
  },
  {
   "cell_type": "code",
   "execution_count": null,
   "id": "4d817c43",
   "metadata": {},
   "outputs": [
    {
     "name": "stdout",
     "output_type": "stream",
     "text": [
      "Gathering appropriate inputs to scope your report design requirements involves\n",
      "identifying your audience, determining the suitable report types, and defining\n",
      "their interface and experience requirements. This module provides you with a\n",
      "strong foundation on which to learn how to plan your report design\n",
      "requirements.\n",
      "\n",
      "##  Learning objectives\n",
      "\n",
      "In this module, you will:\n",
      "\n",
      "  * Determine business goals.\n",
      "  * Identify your audience.\n",
      "  * Determine report types.\n",
      "  * Define user interface requirements.\n",
      "  * Define user experience requirements.\n"
     ]
    }
   ],
   "source": [
    "print(modules['summary'][3][0])"
   ]
  },
  {
   "cell_type": "markdown",
   "id": "a2c4b309",
   "metadata": {},
   "source": [
    "### Insert Module Data into Supabase"
   ]
  },
  {
   "cell_type": "code",
   "execution_count": null,
   "id": "fd38c981",
   "metadata": {},
   "outputs": [],
   "source": [
    "mod_to_postgres = []\n",
    "\n",
    "for idx, path_id in enumerate(lp_desc_id):\n",
    "    for title, summary, url in zip(\n",
    "        modules['title'][idx], modules['summary'][idx], modules['url'][idx]\n",
    "    ):\n",
    "        mod_to_postgres.append(\n",
    "            Module(\n",
    "                path_id=path_id, title=title,\n",
    "                summary=summary, url=url\n",
    "            )\n",
    "        )"
   ]
  },
  {
   "cell_type": "code",
   "execution_count": null,
   "id": "af15608b",
   "metadata": {},
   "outputs": [],
   "source": [
    "with Session(engine) as session:\n",
    "    session.add_all(mod_to_postgres)\n",
    "    session.commit()\n",
    "    mod_id = [mod.id for mod in mod_to_postgres]"
   ]
  },
  {
   "cell_type": "code",
   "execution_count": null,
   "id": "49260ba4",
   "metadata": {},
   "outputs": [
    {
     "name": "stdout",
     "output_type": "stream",
     "text": [
      "[1, 2, 3, 4, 5, 6, 7, 8, 9, 10, 11, 12, 13, 14, 15, 16, 17, 18, 19, 20, 21, 22, 23]\n"
     ]
    }
   ],
   "source": [
    "print(mod_id)"
   ]
  },
  {
   "cell_type": "markdown",
   "id": "e3246e5f",
   "metadata": {},
   "source": [
    "### Getting Chapter's Data from each Module"
   ]
  },
  {
   "cell_type": "code",
   "execution_count": null,
   "id": "882b8c4a",
   "metadata": {},
   "outputs": [],
   "source": [
    "CHAPTERS_REG = r\"\\* (\\[.*) minTheme\"\n",
    "CHAPTER_TITLE_REG = r\"\\[(.*?)\\]\"\n",
    "CHAPTER_PATH_REG = r\"]\\((.*?)\\)\"\n",
    "\n",
    "chapters = extract_chapters_from_mods(modules['content'])"
   ]
  },
  {
   "cell_type": "code",
   "execution_count": null,
   "id": "ed435627",
   "metadata": {},
   "outputs": [
    {
     "data": {
      "text/plain": [
       "23"
      ]
     },
     "execution_count": null,
     "metadata": {},
     "output_type": "execute_result"
    }
   ],
   "source": [
    "len(chapters['title'])"
   ]
  },
  {
   "cell_type": "code",
   "execution_count": null,
   "id": "0283a90a",
   "metadata": {},
   "outputs": [],
   "source": [
    "base_url = [base for lp_url in modules['url'] for base in lp_url]\n",
    "\n",
    "chapters['url'] = []\n",
    "for base, paths in zip(base_url, chapters['path']):\n",
    "    urls = [base + p for p in paths]\n",
    "    chapters['url'].append(urls)"
   ]
  },
  {
   "cell_type": "code",
   "execution_count": null,
   "id": "cdbb1517",
   "metadata": {},
   "outputs": [
    {
     "data": {
      "text/plain": [
       "['https://learn.microsoft.com/en-us/training/modules/manage-datasets-power-bi/1-introduction',\n",
       " 'https://learn.microsoft.com/en-us/training/modules/manage-datasets-power-bi/4-power-bi-gateway',\n",
       " 'https://learn.microsoft.com/en-us/training/modules/manage-datasets-power-bi/5-dataset-refresh',\n",
       " 'https://learn.microsoft.com/en-us/training/modules/manage-datasets-power-bi/6-incremental-refresh',\n",
       " 'https://learn.microsoft.com/en-us/training/modules/manage-datasets-power-bi/7-manage-datasets',\n",
       " 'https://learn.microsoft.com/en-us/training/modules/manage-datasets-power-bi/8-troubleshoot-connectivity',\n",
       " 'https://learn.microsoft.com/en-us/training/modules/manage-datasets-power-bi/9-query-caching',\n",
       " 'https://learn.microsoft.com/en-us/training/modules/manage-datasets-power-bi/10-check',\n",
       " 'https://learn.microsoft.com/en-us/training/modules/manage-datasets-power-bi/11-summary']"
      ]
     },
     "execution_count": null,
     "metadata": {},
     "output_type": "execute_result"
    }
   ],
   "source": [
    "chapters['url'][20]"
   ]
  },
  {
   "cell_type": "code",
   "execution_count": null,
   "id": "5ec50b64",
   "metadata": {},
   "outputs": [
    {
     "name": "stdout",
     "output_type": "stream",
     "text": [
      "Scraping https://learn.microsoft.com/en-us/training/modules/data-analytics-microsoft/1-introduction\n",
      "Scraping https://learn.microsoft.com/en-us/training/modules/data-analytics-microsoft/2-data-analysis\n",
      "Scraping https://learn.microsoft.com/en-us/training/modules/data-analytics-microsoft/3-roles\n",
      "Scraping https://learn.microsoft.com/en-us/training/modules/data-analytics-microsoft/4-tasks\n",
      "Scraping https://learn.microsoft.com/en-us/training/modules/data-analytics-microsoft/5-check\n",
      "Scraping https://learn.microsoft.com/en-us/training/modules/data-analytics-microsoft/6-summary\n",
      "Scraping https://learn.microsoft.com/en-us/training/modules/get-started-with-power-bi/1-introduction\n",
      "Scraping https://learn.microsoft.com/en-us/training/modules/get-started-with-power-bi/2-using-power-bi\n",
      "Scraping https://learn.microsoft.com/en-us/training/modules/get-started-with-power-bi/3-building-blocks-of-power-bi\n",
      "Scraping https://learn.microsoft.com/en-us/training/modules/get-started-with-power-bi/4-exercise-touring-and-using-power-bi\n",
      "Scraping https://learn.microsoft.com/en-us/training/modules/get-started-with-power-bi/6-get-started-with-power-bi-quiz\n",
      "Scraping https://learn.microsoft.com/en-us/training/modules/get-started-with-power-bi/5-summary-cleanup\n",
      "Scraping https://learn.microsoft.com/en-us/training/modules/get-data/1-introduction\n",
      "Scraping https://learn.microsoft.com/en-us/training/modules/get-data/2-data-files\n",
      "Scraping https://learn.microsoft.com/en-us/training/modules/get-data/3-relational-data\n",
      "Scraping https://learn.microsoft.com/en-us/training/modules/get-data/3b-parameters\n",
      "Scraping https://learn.microsoft.com/en-us/training/modules/get-data/4-nosql-database\n",
      "Scraping https://learn.microsoft.com/en-us/training/modules/get-data/5-online-services\n",
      "Scraping https://learn.microsoft.com/en-us/training/modules/get-data/6-storage-mode\n",
      "Scraping https://learn.microsoft.com/en-us/training/modules/get-data/7-azure-analysis-services\n",
      "Scraping https://learn.microsoft.com/en-us/training/modules/get-data/8-performance-issues\n",
      "Scraping https://learn.microsoft.com/en-us/training/modules/get-data/9-import-errors\n",
      "Scraping https://learn.microsoft.com/en-us/training/modules/get-data/lab-prepare\n",
      "Scraping https://learn.microsoft.com/en-us/training/modules/get-data/10-check\n",
      "Scraping https://learn.microsoft.com/en-us/training/modules/get-data/11-summary\n",
      "Scraping https://learn.microsoft.com/en-us/training/modules/clean-data-power-bi/1-introduction\n",
      "Scraping https://learn.microsoft.com/en-us/training/modules/clean-data-power-bi/2-shape-data\n",
      "Scraping https://learn.microsoft.com/en-us/training/modules/clean-data-power-bi/3-data-structure\n",
      "Scraping https://learn.microsoft.com/en-us/training/modules/clean-data-power-bi/4-column-data-types\n",
      "Scraping https://learn.microsoft.com/en-us/training/modules/clean-data-power-bi/5-combine-tables\n",
      "Scraping https://learn.microsoft.com/en-us/training/modules/clean-data-power-bi/6-profile-data\n",
      "Scraping https://learn.microsoft.com/en-us/training/modules/clean-data-power-bi/7-advanced-editor\n",
      "Scraping https://learn.microsoft.com/en-us/training/modules/clean-data-power-bi/8-lab\n",
      "Scraping https://learn.microsoft.com/en-us/training/modules/clean-data-power-bi/9-check\n",
      "Scraping https://learn.microsoft.com/en-us/training/modules/clean-data-power-bi/10-summary\n",
      "Scraping https://learn.microsoft.com/en-us/training/modules/dax-power-bi-models/1-introduction\n",
      "Scraping https://learn.microsoft.com/en-us/training/modules/dax-power-bi-models/2-star-schema-design\n",
      "Scraping https://learn.microsoft.com/en-us/training/modules/dax-power-bi-models/3-analytic-queries\n",
      "Scraping https://learn.microsoft.com/en-us/training/modules/dax-power-bi-models/4-report-visuals\n",
      "Scraping https://learn.microsoft.com/en-us/training/modules/dax-power-bi-models/5-check\n",
      "Scraping https://learn.microsoft.com/en-us/training/modules/dax-power-bi-models/6-summary\n",
      "Scraping https://learn.microsoft.com/en-us/training/modules/choose-power-bi-model-framework/1-introduction\n",
      "Scraping https://learn.microsoft.com/en-us/training/modules/choose-power-bi-model-framework/2-describe-power-bi-model-fundamentals\n",
      "Scraping https://learn.microsoft.com/en-us/training/modules/choose-power-bi-model-framework/3-determine-when-to-develop-import-model\n",
      "Scraping https://learn.microsoft.com/en-us/training/modules/choose-power-bi-model-framework/4-determine-when-to-develop-directquery-model\n",
      "Scraping https://learn.microsoft.com/en-us/training/modules/choose-power-bi-model-framework/5-determine-when-to-develop-composite-model\n",
      "Scraping https://learn.microsoft.com/en-us/training/modules/choose-power-bi-model-framework/6-choose-model-framework\n",
      "Scraping https://learn.microsoft.com/en-us/training/modules/choose-power-bi-model-framework/7-knowledge-check\n",
      "Scraping https://learn.microsoft.com/en-us/training/modules/choose-power-bi-model-framework/8-summary\n",
      "Scraping https://learn.microsoft.com/en-us/training/modules/design-model-power-bi/1-introduction\n",
      "Scraping https://learn.microsoft.com/en-us/training/modules/design-model-power-bi/2-tables\n",
      "Scraping https://learn.microsoft.com/en-us/training/modules/design-model-power-bi/3-date-table\n",
      "Scraping https://learn.microsoft.com/en-us/training/modules/design-model-power-bi/4-dimensions\n",
      "Scraping https://learn.microsoft.com/en-us/training/modules/design-model-power-bi/5-data-granularity\n",
      "Scraping https://learn.microsoft.com/en-us/training/modules/design-model-power-bi/6-relationships-cardinality\n",
      "Scraping https://learn.microsoft.com/en-us/training/modules/design-model-power-bi/7-modeling-challenges\n",
      "Scraping https://learn.microsoft.com/en-us/training/modules/design-model-power-bi/8-lab\n",
      "Scraping https://learn.microsoft.com/en-us/training/modules/design-model-power-bi/10-check\n",
      "Scraping https://learn.microsoft.com/en-us/training/modules/design-model-power-bi/11-summary\n",
      "Scraping https://learn.microsoft.com/en-us/training/modules/dax-power-bi-write-formulas/1-introduction\n",
      "Scraping https://learn.microsoft.com/en-us/training/modules/dax-power-bi-write-formulas/2-formulas\n",
      "Scraping https://learn.microsoft.com/en-us/training/modules/dax-power-bi-write-formulas/3-data-types\n",
      "Scraping https://learn.microsoft.com/en-us/training/modules/dax-power-bi-write-formulas/4-functions\n",
      "Scraping https://learn.microsoft.com/en-us/training/modules/dax-power-bi-write-formulas/5-operators\n",
      "Scraping https://learn.microsoft.com/en-us/training/modules/dax-power-bi-write-formulas/6-variables\n",
      "Scraping https://learn.microsoft.com/en-us/training/modules/dax-power-bi-write-formulas/7-check\n",
      "Scraping https://learn.microsoft.com/en-us/training/modules/dax-power-bi-write-formulas/8-summary\n",
      "Scraping https://learn.microsoft.com/en-us/training/modules/dax-power-bi-add-measures/1-introduction\n",
      "Scraping https://learn.microsoft.com/en-us/training/modules/dax-power-bi-add-measures/2-simple-measures\n",
      "Scraping https://learn.microsoft.com/en-us/training/modules/dax-power-bi-add-measures/3-compound-measures\n",
      "Scraping https://learn.microsoft.com/en-us/training/modules/dax-power-bi-add-measures/4-quick-measures\n",
      "Scraping https://learn.microsoft.com/en-us/training/modules/dax-power-bi-add-measures/5-compare-calculated-columns-measures\n",
      "Scraping https://learn.microsoft.com/en-us/training/modules/dax-power-bi-add-measures/6-check\n",
      "Scraping https://learn.microsoft.com/en-us/training/modules/dax-power-bi-add-measures/5b-lab\n",
      "Scraping https://learn.microsoft.com/en-us/training/modules/dax-power-bi-add-measures/7-summary\n",
      "Scraping https://learn.microsoft.com/en-us/training/modules/dax-power-bi-add-calculated-tables/1-introduction\n",
      "Scraping https://learn.microsoft.com/en-us/training/modules/dax-power-bi-add-calculated-tables/2-calculated-columns\n",
      "Scraping https://learn.microsoft.com/en-us/training/modules/dax-power-bi-add-calculated-tables/3-row-context\n",
      "Scraping https://learn.microsoft.com/en-us/training/modules/dax-power-bi-add-calculated-tables/4-technique\n",
      "Scraping https://learn.microsoft.com/en-us/training/modules/dax-power-bi-add-calculated-tables/5-check\n",
      "Scraping https://learn.microsoft.com/en-us/training/modules/dax-power-bi-add-calculated-tables/6-summary\n",
      "Scraping https://learn.microsoft.com/en-us/training/modules/dax-power-bi-time-intelligence/1-introduction\n",
      "Scraping https://learn.microsoft.com/en-us/training/modules/dax-power-bi-time-intelligence/2-functions\n"
     ]
    },
    {
     "name": "stdout",
     "output_type": "stream",
     "text": [
      "Scraping https://learn.microsoft.com/en-us/training/modules/dax-power-bi-time-intelligence/3-calculations\n",
      "Scraping https://learn.microsoft.com/en-us/training/modules/dax-power-bi-time-intelligence/3b-lab\n",
      "Scraping https://learn.microsoft.com/en-us/training/modules/dax-power-bi-time-intelligence/4-check\n",
      "Scraping https://learn.microsoft.com/en-us/training/modules/dax-power-bi-time-intelligence/5-summary\n",
      "Scraping https://learn.microsoft.com/en-us/training/modules/optimize-model-power-bi/1-introduction\n",
      "Scraping https://learn.microsoft.com/en-us/training/modules/optimize-model-power-bi/2-performance\n",
      "Scraping https://learn.microsoft.com/en-us/training/modules/optimize-model-power-bi/3-variables\n",
      "Scraping https://learn.microsoft.com/en-us/training/modules/optimize-model-power-bi/4-reduce-cardinality\n",
      "Scraping https://learn.microsoft.com/en-us/training/modules/optimize-model-power-bi/5-directquery-models\n",
      "Scraping https://learn.microsoft.com/en-us/training/modules/optimize-model-power-bi/6-aggregations\n",
      "Scraping https://learn.microsoft.com/en-us/training/modules/optimize-model-power-bi/7-check\n",
      "Scraping https://learn.microsoft.com/en-us/training/modules/optimize-model-power-bi/8-summary\n",
      "Scraping https://learn.microsoft.com/en-us/training/modules/enforce-power-bi-model-security/1-introduction\n",
      "Scraping https://learn.microsoft.com/en-us/training/modules/enforce-power-bi-model-security/2-restrict-access-to-power-bi-model-data\n",
      "Scraping https://learn.microsoft.com/en-us/training/modules/enforce-power-bi-model-security/3-restrict-access-to-power-bi-model-objects\n",
      "Scraping https://learn.microsoft.com/en-us/training/modules/enforce-power-bi-model-security/4-apply-good-modeling-practices\n",
      "Scraping https://learn.microsoft.com/en-us/training/modules/enforce-power-bi-model-security/4a-exercise-enforce-model-security\n",
      "Scraping https://learn.microsoft.com/en-us/training/modules/enforce-power-bi-model-security/5-knowledge-check\n",
      "Scraping https://learn.microsoft.com/en-us/training/modules/enforce-power-bi-model-security/6-summary\n",
      "Scraping https://learn.microsoft.com/en-us/training/modules/power-bi-effective-requirements/1-introduction\n",
      "Scraping https://learn.microsoft.com/en-us/training/modules/power-bi-effective-requirements/2-identify\n",
      "Scraping https://learn.microsoft.com/en-us/training/modules/power-bi-effective-requirements/3-determine\n",
      "Scraping https://learn.microsoft.com/en-us/training/modules/power-bi-effective-requirements/4-define-interface\n",
      "Scraping https://learn.microsoft.com/en-us/training/modules/power-bi-effective-requirements/5-define-experience\n",
      "Scraping https://learn.microsoft.com/en-us/training/modules/power-bi-effective-requirements/6-explore-designs\n",
      "Scraping https://learn.microsoft.com/en-us/training/modules/power-bi-effective-requirements/7-check\n",
      "Scraping https://learn.microsoft.com/en-us/training/modules/power-bi-effective-requirements/8-summary\n",
      "Scraping https://learn.microsoft.com/en-us/training/modules/power-bi-effective-reports/1-introduction\n",
      "Scraping https://learn.microsoft.com/en-us/training/modules/power-bi-effective-reports/2-design-layout\n",
      "Scraping https://learn.microsoft.com/en-us/training/modules/power-bi-effective-reports/3-design-reports\n",
      "Scraping https://learn.microsoft.com/en-us/training/modules/power-bi-effective-reports/4-report-objects\n",
      "Scraping https://learn.microsoft.com/en-us/training/modules/power-bi-effective-reports/5-report-visuals\n",
      "Scraping https://learn.microsoft.com/en-us/training/modules/power-bi-effective-reports/6-visuals-layout\n",
      "Scraping https://learn.microsoft.com/en-us/training/modules/power-bi-effective-reports/7-format\n",
      "Scraping https://learn.microsoft.com/en-us/training/modules/power-bi-effective-reports/8-kpi\n",
      "Scraping https://learn.microsoft.com/en-us/training/modules/power-bi-effective-reports/9-lab\n",
      "Scraping https://learn.microsoft.com/en-us/training/modules/power-bi-effective-reports/10-check\n",
      "Scraping https://learn.microsoft.com/en-us/training/modules/power-bi-effective-reports/11-summary\n",
      "Scraping https://learn.microsoft.com/en-us/training/modules/power-bi-effective-filters/1-introduction\n",
      "Scraping https://learn.microsoft.com/en-us/training/modules/power-bi-effective-filters/2-report-structure\n",
      "Scraping https://learn.microsoft.com/en-us/training/modules/power-bi-effective-filters/3-slicers\n",
      "Scraping https://learn.microsoft.com/en-us/training/modules/power-bi-effective-filters/4-advanced-filtering\n",
      "Scraping https://learn.microsoft.com/en-us/training/modules/power-bi-effective-filters/5-consumption-time\n",
      "Scraping https://learn.microsoft.com/en-us/training/modules/power-bi-effective-filters/6-filter-techniques\n",
      "Scraping https://learn.microsoft.com/en-us/training/modules/power-bi-effective-filters/7-feedback-configuration\n",
      "Scraping https://learn.microsoft.com/en-us/training/modules/power-bi-effective-filters/8-check\n",
      "Scraping https://learn.microsoft.com/en-us/training/modules/power-bi-effective-filters/9-summary\n",
      "Scraping https://learn.microsoft.com/en-us/training/modules/power-bi-effective-user-experience/1-introduction\n",
      "Scraping https://learn.microsoft.com/en-us/training/modules/power-bi-effective-user-experience/2-design-reports\n",
      "Scraping https://learn.microsoft.com/en-us/training/modules/power-bi-effective-user-experience/3-design-app-reports\n",
      "Scraping https://learn.microsoft.com/en-us/training/modules/power-bi-effective-user-experience/4-bookmarks\n",
      "Scraping https://learn.microsoft.com/en-us/training/modules/power-bi-effective-user-experience/5-design-navigation-reports\n",
      "Scraping https://learn.microsoft.com/en-us/training/modules/power-bi-effective-user-experience/6-visual-headers\n",
      "Scraping https://learn.microsoft.com/en-us/training/modules/power-bi-effective-user-experience/7-design-built-in-assistance\n",
      "Scraping https://learn.microsoft.com/en-us/training/modules/power-bi-effective-user-experience/8-tune-reports\n",
      "Scraping https://learn.microsoft.com/en-us/training/modules/power-bi-effective-user-experience/9-reports-mobile\n",
      "Scraping https://learn.microsoft.com/en-us/training/modules/power-bi-effective-user-experience/10-lab\n",
      "Scraping https://learn.microsoft.com/en-us/training/modules/power-bi-effective-user-experience/11-check\n",
      "Scraping https://learn.microsoft.com/en-us/training/modules/power-bi-effective-user-experience/12-summary\n",
      "Scraping https://learn.microsoft.com/en-us/training/modules/perform-analytics-power-bi/1-introduction\n",
      "Scraping https://learn.microsoft.com/en-us/training/modules/perform-analytics-power-bi/2-statistical-summary\n",
      "Scraping https://learn.microsoft.com/en-us/training/modules/perform-analytics-power-bi/3-visuals\n",
      "Scraping https://learn.microsoft.com/en-us/training/modules/perform-analytics-power-bi/4-group-data\n",
      "Scraping https://learn.microsoft.com/en-us/training/modules/perform-analytics-power-bi/5-clustering-techniques\n",
      "Scraping https://learn.microsoft.com/en-us/training/modules/perform-analytics-power-bi/6-time-series-analysis\n",
      "Scraping https://learn.microsoft.com/en-us/training/modules/perform-analytics-power-bi/7-analyze-feature\n",
      "Scraping https://learn.microsoft.com/en-us/training/modules/perform-analytics-power-bi/8-what-if-parameters\n",
      "Scraping https://learn.microsoft.com/en-us/training/modules/perform-analytics-power-bi/9-use-specialized-visuals\n",
      "Scraping https://learn.microsoft.com/en-us/training/modules/perform-analytics-power-bi/10-lab\n",
      "Scraping https://learn.microsoft.com/en-us/training/modules/perform-analytics-power-bi/11-check\n",
      "Scraping https://learn.microsoft.com/en-us/training/modules/perform-analytics-power-bi/12-summary\n",
      "Scraping https://learn.microsoft.com/en-us/training/modules/create-paginated-reports-power-bi/1-introduction\n",
      "Scraping https://learn.microsoft.com/en-us/training/modules/create-paginated-reports-power-bi/2-get-data\n",
      "Scraping https://learn.microsoft.com/en-us/training/modules/create-paginated-reports-power-bi/3-paginated-report\n",
      "Scraping https://learn.microsoft.com/en-us/training/modules/create-paginated-reports-power-bi/4-charts\n",
      "Scraping https://learn.microsoft.com/en-us/training/modules/create-paginated-reports-power-bi/5-publish\n",
      "Scraping https://learn.microsoft.com/en-us/training/modules/create-paginated-reports-power-bi/7-check\n",
      "Scraping https://learn.microsoft.com/en-us/training/modules/create-paginated-reports-power-bi/8-summary\n"
     ]
    },
    {
     "name": "stdout",
     "output_type": "stream",
     "text": [
      "Scraping https://learn.microsoft.com/en-us/training/modules/create-manage-workspaces-power-bi/1-introduction\n",
      "Scraping https://learn.microsoft.com/en-us/training/modules/create-manage-workspaces-power-bi/2-distribute-report-dashboard\n",
      "Scraping https://learn.microsoft.com/en-us/training/modules/create-manage-workspaces-power-bi/3-monitor-usage-performance\n",
      "Scraping https://learn.microsoft.com/en-us/training/modules/create-manage-workspaces-power-bi/4-development-lifecycle-strategy\n",
      "Scraping https://learn.microsoft.com/en-us/training/modules/create-manage-workspaces-power-bi/5-troubleshoot-data\n",
      "Scraping https://learn.microsoft.com/en-us/training/modules/create-manage-workspaces-power-bi/6-data-protection\n",
      "Scraping https://learn.microsoft.com/en-us/training/modules/create-manage-workspaces-power-bi/8-check\n",
      "Scraping https://learn.microsoft.com/en-us/training/modules/create-manage-workspaces-power-bi/9-summary\n",
      "Scraping https://learn.microsoft.com/en-us/training/modules/manage-datasets-power-bi/1-introduction\n",
      "Scraping https://learn.microsoft.com/en-us/training/modules/manage-datasets-power-bi/4-power-bi-gateway\n",
      "Scraping https://learn.microsoft.com/en-us/training/modules/manage-datasets-power-bi/5-dataset-refresh\n",
      "Scraping https://learn.microsoft.com/en-us/training/modules/manage-datasets-power-bi/6-incremental-refresh\n",
      "Scraping https://learn.microsoft.com/en-us/training/modules/manage-datasets-power-bi/7-manage-datasets\n",
      "Scraping https://learn.microsoft.com/en-us/training/modules/manage-datasets-power-bi/8-troubleshoot-connectivity\n",
      "Scraping https://learn.microsoft.com/en-us/training/modules/manage-datasets-power-bi/9-query-caching\n",
      "Scraping https://learn.microsoft.com/en-us/training/modules/manage-datasets-power-bi/10-check\n",
      "Scraping https://learn.microsoft.com/en-us/training/modules/manage-datasets-power-bi/11-summary\n",
      "Scraping https://learn.microsoft.com/en-us/training/modules/create-dashboards-power-bi/1-introduction\n",
      "Scraping https://learn.microsoft.com/en-us/training/modules/create-dashboards-power-bi/2-data-alerts\n",
      "Scraping https://learn.microsoft.com/en-us/training/modules/create-dashboards-power-bi/3-explore-data\n",
      "Scraping https://learn.microsoft.com/en-us/training/modules/create-dashboards-power-bi/4-quick-insights\n",
      "Scraping https://learn.microsoft.com/en-us/training/modules/create-dashboards-power-bi/5-dashboard-theme\n",
      "Scraping https://learn.microsoft.com/en-us/training/modules/create-dashboards-power-bi/6-pin-live-report\n",
      "Scraping https://learn.microsoft.com/en-us/training/modules/create-dashboards-power-bi/7-configure-real-time-dashboard\n",
      "Scraping https://learn.microsoft.com/en-us/training/modules/create-dashboards-power-bi/8-configure-data-classification\n",
      "Scraping https://learn.microsoft.com/en-us/training/modules/create-dashboards-power-bi/9-set-mobile-view\n",
      "Scraping https://learn.microsoft.com/en-us/training/modules/create-dashboards-power-bi/10-lab\n",
      "Scraping https://learn.microsoft.com/en-us/training/modules/create-dashboards-power-bi/11-check\n",
      "Scraping https://learn.microsoft.com/en-us/training/modules/create-dashboards-power-bi/12-summary\n",
      "Scraping https://learn.microsoft.com/en-us/training/modules/row-level-security-power-bi/1-introduction\n",
      "Scraping https://learn.microsoft.com/en-us/training/modules/row-level-security-power-bi/2-static-method\n",
      "Scraping https://learn.microsoft.com/en-us/training/modules/row-level-security-power-bi/3-dynamic-method\n",
      "Scraping https://learn.microsoft.com/en-us/training/modules/row-level-security-power-bi/lab\n",
      "Scraping https://learn.microsoft.com/en-us/training/modules/row-level-security-power-bi/4-check\n",
      "Scraping https://learn.microsoft.com/en-us/training/modules/row-level-security-power-bi/5-summary\n"
     ]
    }
   ],
   "source": [
    "chapters['content'] = []\n",
    "CHAPTERS_CONTENT_REG = r\"minute[s]?\\n\\n([\\s\\S]*)\\n\\n\\[ Continue\"\n",
    "\n",
    "for chapters_url in chapters['url']:\n",
    "    raw_content = get_text_from_urls(chapters_url, 8)\n",
    "    chapter_content = []\n",
    "    \n",
    "    for txt in raw_content:\n",
    "        chapter_content.append(\n",
    "            get_text_between_regex(txt, CHAPTERS_CONTENT_REG)[0])\n",
    "        \n",
    "    chapters['content'].append(chapter_content)"
   ]
  },
  {
   "cell_type": "markdown",
   "id": "c5189932",
   "metadata": {},
   "source": [
    "### Insert Chapter Data into Supabase"
   ]
  },
  {
   "cell_type": "code",
   "execution_count": null,
   "id": "77406c5f",
   "metadata": {},
   "outputs": [],
   "source": [
    "ch_to_postgres = []\n",
    "\n",
    "for idx, m_id in enumerate(mod_id):\n",
    "    for title, content, url in zip(\n",
    "        chapters['title'][idx], chapters['content'][idx], chapters['url'][idx]\n",
    "    ):\n",
    "        is_check = False\n",
    "        if 'check' in url or 'quiz' in url:\n",
    "            is_check = True\n",
    "            \n",
    "        ch_to_postgres.append(\n",
    "            Chapter(\n",
    "                module_id=m_id, title=title,\n",
    "                content=content, url=url, is_check=is_check\n",
    "            )\n",
    "        )"
   ]
  },
  {
   "cell_type": "code",
   "execution_count": null,
   "id": "0b43d3bb",
   "metadata": {},
   "outputs": [
    {
     "name": "stdout",
     "output_type": "stream",
     "text": [
      "196\n"
     ]
    },
    {
     "data": {
      "text/plain": [
       "Chapter(title='Introduction', url='https://learn.microsoft.com/en-us/training/modules/data-analytics-microsoft/1-introduction')"
      ]
     },
     "execution_count": null,
     "metadata": {},
     "output_type": "execute_result"
    }
   ],
   "source": [
    "print(len(ch_to_postgres))\n",
    "ch_to_postgres[0]"
   ]
  },
  {
   "cell_type": "code",
   "execution_count": null,
   "id": "393df4c3",
   "metadata": {},
   "outputs": [],
   "source": [
    "with Session(engine) as session:\n",
    "    session.add_all(ch_to_postgres)\n",
    "    session.commit()\n",
    "    chapter_id = [ch.id for ch in ch_to_postgres]"
   ]
  },
  {
   "cell_type": "code",
   "execution_count": null,
   "id": "8a44a401",
   "metadata": {},
   "outputs": [
    {
     "data": {
      "text/plain": [
       "196"
      ]
     },
     "execution_count": null,
     "metadata": {},
     "output_type": "execute_result"
    }
   ],
   "source": [
    "len(chapter_id)"
   ]
  },
  {
   "cell_type": "markdown",
   "id": "b6695cee",
   "metadata": {},
   "source": [
    "### Getting Questions from 'Check Knowledge' Chapters"
   ]
  },
  {
   "cell_type": "code",
   "execution_count": null,
   "id": "ff65158b",
   "metadata": {},
   "outputs": [],
   "source": [
    "check_chapter = []\n",
    "for chapter in ch_to_postgres:\n",
    "    if chapter.is_check:\n",
    "        check_chapter.append(chapter)"
   ]
  },
  {
   "cell_type": "code",
   "execution_count": null,
   "id": "db00da27",
   "metadata": {},
   "outputs": [
    {
     "data": {
      "text/plain": [
       "'https://learn.microsoft.com/en-us/training/modules/data-analytics-microsoft/5-check'"
      ]
     },
     "execution_count": null,
     "metadata": {},
     "output_type": "execute_result"
    }
   ],
   "source": [
    "check_chapter[0].url"
   ]
  },
  {
   "cell_type": "code",
   "execution_count": null,
   "id": "d99234cd",
   "metadata": {},
   "outputs": [
    {
     "name": "stdout",
     "output_type": "stream",
     "text": [
      "Questions from https://learn.microsoft.com/en-us/training/modules/data-analytics-microsoft/5-check\n",
      "Questions from https://learn.microsoft.com/en-us/training/modules/get-started-with-power-bi/6-get-started-with-power-bi-quiz\n",
      "Questions from https://learn.microsoft.com/en-us/training/modules/get-data/10-check\n",
      "Questions from https://learn.microsoft.com/en-us/training/modules/clean-data-power-bi/9-check\n",
      "Questions from https://learn.microsoft.com/en-us/training/modules/dax-power-bi-models/5-check\n",
      "Questions from https://learn.microsoft.com/en-us/training/modules/choose-power-bi-model-framework/7-knowledge-check\n",
      "Questions from https://learn.microsoft.com/en-us/training/modules/design-model-power-bi/10-check\n",
      "Questions from https://learn.microsoft.com/en-us/training/modules/dax-power-bi-write-formulas/7-check\n",
      "Questions from https://learn.microsoft.com/en-us/training/modules/dax-power-bi-add-measures/6-check\n",
      "Questions from https://learn.microsoft.com/en-us/training/modules/dax-power-bi-add-calculated-tables/5-check\n",
      "Questions from https://learn.microsoft.com/en-us/training/modules/dax-power-bi-time-intelligence/4-check\n",
      "Questions from https://learn.microsoft.com/en-us/training/modules/optimize-model-power-bi/7-check\n",
      "Questions from https://learn.microsoft.com/en-us/training/modules/enforce-power-bi-model-security/5-knowledge-check\n",
      "Questions from https://learn.microsoft.com/en-us/training/modules/power-bi-effective-requirements/7-check\n",
      "Questions from https://learn.microsoft.com/en-us/training/modules/power-bi-effective-reports/10-check\n",
      "Questions from https://learn.microsoft.com/en-us/training/modules/power-bi-effective-filters/8-check\n",
      "Questions from https://learn.microsoft.com/en-us/training/modules/power-bi-effective-user-experience/11-check\n",
      "Questions from https://learn.microsoft.com/en-us/training/modules/perform-analytics-power-bi/11-check\n",
      "Questions from https://learn.microsoft.com/en-us/training/modules/create-paginated-reports-power-bi/7-check\n",
      "Questions from https://learn.microsoft.com/en-us/training/modules/create-manage-workspaces-power-bi/8-check\n",
      "Questions from https://learn.microsoft.com/en-us/training/modules/manage-datasets-power-bi/10-check\n",
      "Questions from https://learn.microsoft.com/en-us/training/modules/create-dashboards-power-bi/11-check\n",
      "Questions from https://learn.microsoft.com/en-us/training/modules/row-level-security-power-bi/4-check\n"
     ]
    }
   ],
   "source": [
    "questions = []\n",
    "for ch in check_chapter:\n",
    "    print(f\"Questions from {ch.url}\")\n",
    "    soup = get_soup(ch.url)\n",
    "    questions.append(get_questions(soup))\n",
    "    time.sleep(5)"
   ]
  },
  {
   "cell_type": "code",
   "execution_count": null,
   "id": "ecc9d0a2",
   "metadata": {},
   "outputs": [
    {
     "data": {
      "text/plain": [
       "['Which data role enables advanced analytics capabilities specifically through reports and visualizations?',\n",
       " 'Which data analyst task has a critical performance impact on reporting and data analysis?',\n",
       " 'Which one of the following options is the most important key benefit of data analysis?']"
      ]
     },
     "execution_count": null,
     "metadata": {},
     "output_type": "execute_result"
    }
   ],
   "source": [
    "questions[0]"
   ]
  },
  {
   "cell_type": "markdown",
   "id": "2e372624",
   "metadata": {},
   "source": [
    "### Insert Questions into Supabase"
   ]
  },
  {
   "cell_type": "code",
   "execution_count": null,
   "id": "de95f70b",
   "metadata": {},
   "outputs": [],
   "source": [
    "q_to_postgres = []\n",
    "\n",
    "for qs, chapter in zip(questions, check_chapter):\n",
    "    for q in qs:\n",
    "        q_to_postgres.append(\n",
    "            Question(chapter_id=chapter.id, question=q)\n",
    "        )"
   ]
  },
  {
   "cell_type": "code",
   "execution_count": null,
   "id": "d14e4a16",
   "metadata": {},
   "outputs": [
    {
     "data": {
      "text/plain": [
       "Question(question='Which data role enables advanced analytics capabilities specifically through reports and visualizations?')"
      ]
     },
     "execution_count": null,
     "metadata": {},
     "output_type": "execute_result"
    }
   ],
   "source": [
    "q_to_postgres[0]"
   ]
  },
  {
   "cell_type": "code",
   "execution_count": null,
   "id": "6c4825ad",
   "metadata": {},
   "outputs": [],
   "source": [
    "with Session(engine) as session:\n",
    "    session.add_all(q_to_postgres)\n",
    "    session.commit()\n",
    "    question_id = [q.id for q in q_to_postgres]"
   ]
  },
  {
   "cell_type": "code",
   "execution_count": null,
   "id": "736d89df",
   "metadata": {},
   "outputs": [
    {
     "data": {
      "text/plain": [
       "69"
      ]
     },
     "execution_count": null,
     "metadata": {},
     "output_type": "execute_result"
    }
   ],
   "source": [
    "len(question_id)"
   ]
  },
  {
   "cell_type": "markdown",
   "id": "e468c057",
   "metadata": {},
   "source": [
    "### Getting Answers from 'Check Knowledge' Chapters"
   ]
  },
  {
   "cell_type": "code",
   "execution_count": null,
   "id": "33076720",
   "metadata": {},
   "outputs": [
    {
     "name": "stdout",
     "output_type": "stream",
     "text": [
      "Answers from https://learn.microsoft.com/en-us/training/modules/data-analytics-microsoft/5-check\n",
      "Answers from https://learn.microsoft.com/en-us/training/modules/get-started-with-power-bi/6-get-started-with-power-bi-quiz\n",
      "Answers from https://learn.microsoft.com/en-us/training/modules/get-data/10-check\n",
      "Answers from https://learn.microsoft.com/en-us/training/modules/clean-data-power-bi/9-check\n",
      "Answers from https://learn.microsoft.com/en-us/training/modules/dax-power-bi-models/5-check\n",
      "Answers from https://learn.microsoft.com/en-us/training/modules/choose-power-bi-model-framework/7-knowledge-check\n",
      "Answers from https://learn.microsoft.com/en-us/training/modules/design-model-power-bi/10-check\n",
      "Answers from https://learn.microsoft.com/en-us/training/modules/dax-power-bi-write-formulas/7-check\n",
      "Answers from https://learn.microsoft.com/en-us/training/modules/dax-power-bi-add-measures/6-check\n",
      "Answers from https://learn.microsoft.com/en-us/training/modules/dax-power-bi-add-calculated-tables/5-check\n",
      "Answers from https://learn.microsoft.com/en-us/training/modules/dax-power-bi-time-intelligence/4-check\n",
      "Answers from https://learn.microsoft.com/en-us/training/modules/optimize-model-power-bi/7-check\n",
      "Answers from https://learn.microsoft.com/en-us/training/modules/enforce-power-bi-model-security/5-knowledge-check\n",
      "Answers from https://learn.microsoft.com/en-us/training/modules/power-bi-effective-requirements/7-check\n",
      "Answers from https://learn.microsoft.com/en-us/training/modules/power-bi-effective-reports/10-check\n",
      "Answers from https://learn.microsoft.com/en-us/training/modules/power-bi-effective-filters/8-check\n",
      "Answers from https://learn.microsoft.com/en-us/training/modules/power-bi-effective-user-experience/11-check\n",
      "Answers from https://learn.microsoft.com/en-us/training/modules/perform-analytics-power-bi/11-check\n",
      "Answers from https://learn.microsoft.com/en-us/training/modules/create-paginated-reports-power-bi/7-check\n",
      "Answers from https://learn.microsoft.com/en-us/training/modules/create-manage-workspaces-power-bi/8-check\n",
      "Answers from https://learn.microsoft.com/en-us/training/modules/manage-datasets-power-bi/10-check\n",
      "Answers from https://learn.microsoft.com/en-us/training/modules/create-dashboards-power-bi/11-check\n",
      "Answers from https://learn.microsoft.com/en-us/training/modules/row-level-security-power-bi/4-check\n"
     ]
    }
   ],
   "source": [
    "answers = []\n",
    "for ch in check_chapter:\n",
    "    print(f\"Answers from {ch.url}\")\n",
    "    soup = get_soup(ch.url)\n",
    "    answers += get_answers(soup)\n",
    "    time.sleep(5)"
   ]
  },
  {
   "cell_type": "code",
   "execution_count": null,
   "id": "dd3c9076",
   "metadata": {},
   "outputs": [
    {
     "data": {
      "text/plain": [
       "(['Data scientist', 'Data engineer', 'Data analyst'], 69)"
      ]
     },
     "execution_count": null,
     "metadata": {},
     "output_type": "execute_result"
    }
   ],
   "source": [
    "answers[0], len(answers)"
   ]
  },
  {
   "cell_type": "markdown",
   "id": "3e149880",
   "metadata": {},
   "source": [
    "### Insert Answers into Supabase"
   ]
  },
  {
   "cell_type": "code",
   "execution_count": null,
   "id": "599a1fac",
   "metadata": {},
   "outputs": [],
   "source": [
    "a_to_postgres = []\n",
    "\n",
    "for q_id, aswrs in zip(question_id, answers):\n",
    "    for a in aswrs:\n",
    "        a_to_postgres.append(\n",
    "            Answer(question_id=q_id, answer=a, is_correct=False)\n",
    "        )"
   ]
  },
  {
   "cell_type": "code",
   "execution_count": null,
   "id": "97a813e4",
   "metadata": {},
   "outputs": [
    {
     "data": {
      "text/plain": [
       "(1, Answer(answer='Data scientist', is_correct=False))"
      ]
     },
     "execution_count": null,
     "metadata": {},
     "output_type": "execute_result"
    }
   ],
   "source": [
    "a_to_postgres[0].question_id, a_to_postgres[0]"
   ]
  },
  {
   "cell_type": "code",
   "execution_count": null,
   "id": "91006bdc",
   "metadata": {},
   "outputs": [],
   "source": [
    "with Session(engine) as session:\n",
    "    session.add_all(a_to_postgres)\n",
    "    session.commit()\n",
    "    answer_id = [a.id for a in a_to_postgres]"
   ]
  },
  {
   "cell_type": "markdown",
   "id": "59abf7f1",
   "metadata": {},
   "source": [
    "Since we don't have the correct answers readily available, let's see if our Large Language Models can help us identify them. We can then manually verify the answers against the web for accuracy."
   ]
  },
  {
   "cell_type": "markdown",
   "id": "86a4e8f9",
   "metadata": {},
   "source": [
    "## Conclusion"
   ]
  },
  {
   "cell_type": "markdown",
   "id": "1fa760b1",
   "metadata": {},
   "source": [
    "- We've got a database model and a free Supabase instance filled with all of Power BI's Learning Paths.\n",
    "- We started using Beautiful Soup at the end of the scraping process, and it might be worth using it throughout to make the process more generalizable to other Learning Paths.\n",
    "- With our data in order, we're ready to dive into **Part 2** and start exploring RAG with Large Language Models."
   ]
  }
 ],
 "metadata": {
  "kernelspec": {
   "display_name": "Python 3 (ipykernel)",
   "language": "python",
   "name": "python3"
  }
 },
 "nbformat": 4,
 "nbformat_minor": 5
}
