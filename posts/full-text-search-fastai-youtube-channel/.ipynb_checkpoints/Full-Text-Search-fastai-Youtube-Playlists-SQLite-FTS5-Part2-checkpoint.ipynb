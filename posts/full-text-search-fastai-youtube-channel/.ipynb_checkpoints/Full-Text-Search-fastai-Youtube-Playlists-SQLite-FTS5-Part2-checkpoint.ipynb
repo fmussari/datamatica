{
 "cells": [
  {
   "cell_type": "markdown",
   "id": "03377a5e",
   "metadata": {},
   "source": [
    "---\n",
    "title: Building a Full-Text Search Engine for fastai YouTube channel  \n",
    "author: \"Francisco Mussari\"  \n",
    "date: 2022-12-04  \n",
    "categories: [fastai, deeplearning, full-text search, SQLite, Streamlit]  \n",
    "format:\n",
    "  html:\n",
    "    toc: true\n",
    "    toc-depth: 3\n",
    "    \n",
    "---\n",
    "Part 2. Deploying the web app to Streamlit"
   ]
  },
  {
   "cell_type": "markdown",
   "id": "a49e3f71",
   "metadata": {},
   "source": [
    "## Introduction"
   ]
  },
  {
   "cell_type": "markdown",
   "id": "763d35f1",
   "metadata": {},
   "source": [
    "In this post we are going to take the SQLite database with the searchable index we created in [Part 1](Full-Text-Search-fastai-Youtube-Playlists-SQLite-FTS5.ipynb) and use it as the search engine for a web app we are going to deploy to Streamlit.\n",
    "\n",
    "So we are going to be able to search over the entire fastai channel. \n",
    "\n",
    "The Python file was created with a Jupyter Notebook using [nbdev](https://nbdev.fast.ai/)."
   ]
  },
  {
   "cell_type": "markdown",
   "id": "fa334f29",
   "metadata": {},
   "source": [
    "The web app is just like this one: **[Full-Text Search Engine for fastai Youtube Chanel](https://fmussari-fts-fastai-youtube-playlists-app-eohwrp.streamlit.app/)**"
   ]
  },
  {
   "cell_type": "markdown",
   "id": "991a2a8a",
   "metadata": {},
   "source": [
    "### References\n",
    "If you want to get deeper, I encourage you to read these articles:  \n",
    "\n",
    "- [Useful Full Text Search (FTS) queries with sqlite in Python 3.7](https://saraswatmks.github.io/2020/04/sqlite-fts-search-queries.html)  \n",
    "\n",
    "- [Fast Autocomplete Search for Your Website](https://simonwillison.net/2018/Dec/19/fast-autocomplete-search/)  \n",
    "\n",
    "- [YouTube Transcript/Subtitle API (including automatically generated subtitles and subtitle translations)](https://github.com/jdepoix/youtube-transcript-api#youtube-transcriptsubtitle-api-including-automatically-generated-subtitles-and-subtitle-translations)  \n",
    "\n",
    "- [Create A 🤗 Space From A Notebook](https://nbdev.fast.ai/blog/posts/2022-11-07-spaces/)"
   ]
  },
  {
   "cell_type": "markdown",
   "id": "2416d5ee",
   "metadata": {},
   "source": [
    "## Creating app.py"
   ]
  },
  {
   "cell_type": "markdown",
   "id": "faf3e785",
   "metadata": {},
   "source": [
    "```python\n",
    "#|export\n",
    "import streamlit as st\n",
    "import sqlite3\n",
    "```"
   ]
  },
  {
   "cell_type": "markdown",
   "id": "b9a85593",
   "metadata": {},
   "source": [
    "```python\n",
    "#| export\n",
    "db_path = '/mnt/m/datamatica/posts/full-text-search-fastai-youtube-channel/'\n",
    "\n",
    "try:\n",
    "    db = sqlite3.connect(db_path + 'fastai_yt.db')\n",
    "except:\n",
    "    db = sqlite3.connect('fastai_yt.db')\n",
    "\n",
    "cur = db.cursor()\n",
    "```"
   ]
  },
  {
   "cell_type": "markdown",
   "id": "a12ae682",
   "metadata": {},
   "source": [
    "```python\n",
    "#| export\n",
    "playlist = cur.execute('SELECT playlist_id, playlist_name FROM playlist').fetchall()\n",
    "video = cur.execute('SELECT video_id, video_name FROM video').fetchall()\n",
    "playlist = {p: n for p, n in playlist}\n",
    "video = {p: n for p, n in video}\n",
    "pl_sel = list(playlist.values())\n",
    "pl_to_id = {v:k for k,v in playlist.items()}\n",
    "```"
   ]
  },
  {
   "cell_type": "markdown",
   "id": "a80ea0e1",
   "metadata": {},
   "source": [
    "```python\n",
    "#| export\n",
    "st.title('Full-Text Search fastai Youtube Playlists')\n",
    "\n",
    "# https://discuss.streamlit.io/t/select-all-on-a-streamlit-multiselect/9799/2\n",
    "\n",
    "all_options = st.checkbox(\"Select all Playlists\",\n",
    "    key='sel_all', value=True)\n",
    "\n",
    "container = st.container()\n",
    "if all_options:\n",
    "    sel_options = container.multiselect(\"Select one or more Playlist(s):\", \n",
    "                                        pl_sel, disabled=True)\n",
    "else:\n",
    "    sel_options = container.multiselect(\"Select one or more Playlist(s):\", \n",
    "                                        pl_sel, pl_sel)\n",
    "\n",
    "if all_options: options = list(playlist.values())\n",
    "else: options = sel_options\n",
    "\n",
    "st.write('Selected playlist(s):', options)\n",
    "```"
   ]
  },
  {
   "cell_type": "markdown",
   "id": "94f2fe34",
   "metadata": {},
   "source": [
    "```python\n",
    "#| export\n",
    "def get_query(q, limit):\n",
    "    \n",
    "    search_in = 'text'\n",
    "    \n",
    "    if not( len(options)==len(pl_sel) or len(options)==0 ):\n",
    "        search_in = 'transcriptions_fts'\n",
    "        q_pl = '(playlist_id: '\n",
    "        for pl in options:\n",
    "            end = ' OR ' if pl != options[-1] else ')'\n",
    "            q_pl = q_pl + f'\"{pl_to_id[pl]}\"' + end\n",
    "        \n",
    "        q = f\"(text: {q}) AND \" + q_pl\n",
    "\n",
    "    query = f\"\"\"\n",
    "    SELECT *, HIGHLIGHT(transcriptions_fts, 3, '[', ']')\n",
    "    FROM transcriptions_fts WHERE {search_in} MATCH '{q}' ORDER BY rank\n",
    "    LIMIT \"{limit}\" \n",
    "    \"\"\"\n",
    "    return query\n",
    "\n",
    "with st.form(\"Input\"):\n",
    "    queryText = st.text_area(\"Search query: \\ne.g. «fastc*», «fastcore OR paral*»\", height=1, max_chars=None)\n",
    "    limit_val = st.slider(\"Number of results:\", min_value=5, max_value=20)\n",
    "    btnResult = st.form_submit_button('Search')\n",
    "    \n",
    "if btnResult:\n",
    "    if not queryText:\n",
    "        st.text('Please enter a search query.')\n",
    "    else:\n",
    "        try:\n",
    "            st.text('Search query generated:')\n",
    "            # run query\n",
    "            st.write(get_query(queryText, limit_val).replace('*', '\\*'))\n",
    "            res = cur.execute(get_query(q=queryText, limit=limit_val)).fetchall()\n",
    "            st.text('Search results (click to go to YouTube):')\n",
    "\n",
    "            res_md = ('  \\n  '.join(['  \\n  '.join([\n",
    "                f\"{i}.- Playlist: `{playlist[each[0]]}`, Video: `{video[each[1]]}`\", \n",
    "                f\"Caption: '...[{each[4].replace('[','**'\n",
    "                ).replace(']','**')}](https://youtu.be/{each[1]}?t={str(int(each[2]))})...'\", \n",
    "                '\\n'])\n",
    "                for i, each in enumerate(res)\n",
    "            ]))\n",
    "\n",
    "            st.markdown(res_md)\n",
    "        except:\n",
    "            st.text('Invalid search query.')\n",
    "```"
   ]
  },
  {
   "cell_type": "markdown",
   "id": "eec27c71",
   "metadata": {},
   "source": [
    "```python\n",
    "#| hide\n",
    "from nbdev.export import nb_export\n",
    "nb_export('_Deploy_Search_Engine_Streamlit.ipynb', lib_path='.', name='app')\n",
    "```"
   ]
  },
  {
   "cell_type": "code",
   "execution_count": null,
   "id": "b828fa53",
   "metadata": {},
   "outputs": [],
   "source": []
  }
 ],
 "metadata": {
  "kernelspec": {
   "display_name": "Python 3 (ipykernel)",
   "language": "python",
   "name": "python3"
  }
 },
 "nbformat": 4,
 "nbformat_minor": 5
}
