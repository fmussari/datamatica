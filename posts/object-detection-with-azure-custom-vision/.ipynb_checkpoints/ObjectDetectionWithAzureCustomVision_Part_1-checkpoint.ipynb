{
 "cells": [
  {
   "cell_type": "markdown",
   "id": "50da3568",
   "metadata": {},
   "source": [
    "---\n",
    "title: Object Detection with Azure Custom Vision - Part 1  \n",
    "author: \"Francisco Mussari\"  \n",
    "date: 2022-10-08  \n",
    "categories: [computer-vision, deeplearning, azure, custom-vision, object-detection]  \n",
    "\n",
    "---\n",
    "\n",
    "Building an Object Detection with Azure Custom Vision - Part 1"
   ]
  },
  {
   "cell_type": "markdown",
   "id": "29642329",
   "metadata": {},
   "source": [
    "<img src=\"test-url-Iteration2.png\" alt=\"fishy\" class=\"bg-primary mb-1\" align=\"left\">"
   ]
  },
  {
   "cell_type": "markdown",
   "id": "ed4e9b98",
   "metadata": {},
   "source": [
    "## Introduction\n",
    "\n",
    "I was introduced to deep learning with fastai's top-down approach. That means that in the first week I was able to train a model\n",
    "As part of fast.ai great deep learning course I was able to easily train and put into production a classifier of telecommunication tower elements."
   ]
  },
  {
   "cell_type": "markdown",
   "id": "2015124d",
   "metadata": {},
   "source": [
    "## References\n",
    "\n",
    "- Microsoft Learn Excersice: [Detect Objects in Images with Custom Vision](https://microsoftlearning.github.io/AI-102-AIEngineer/Instructions/18-object-detection.html)\n",
    "- Custom Vision Documentation: [Quickstart: Create an object detection project with the Custom Vision client library](https://docs.microsoft.com/en-us/azure/cognitive-services/custom-vision-service/quickstarts/object-detection?tabs=visual-studio&pivots=programming-language-python)\n",
    "- REST API Endpoint: [Custom Vision REST API reference - Azure Cognitive Services](https://docs.microsoft.com/en-us/rest/api/custom-vision/)\n",
    "- APIs Documentation: [Custom_Vision_Training_3.3](https://southcentralus.dev.cognitive.microsoft.com/docs/services/Custom_Vision_Training_3.3)\n",
    "- Azure SDK for Python: [Azure Cognitive Services Computer Vision SDK for Python](https://docs.microsoft.com/en-us/python/api/overview/azure/cognitiveservices-vision-computervision-readme?view=azure-python)\n",
    "- Source Code: [Azure/azure-sdk-for-python](https://github.com/Azure/azure-sdk-for-python/blob/main/sdk/cognitiveservices/azure-cognitiveservices-vision-customvision/azure/cognitiveservices/vision/customvision/training/operations/_custom_vision_training_client_operations.py)"
   ]
  },
  {
   "cell_type": "markdown",
   "id": "3aa5ab63",
   "metadata": {},
   "source": [
    "## Install and Import Libraries"
   ]
  },
  {
   "cell_type": "markdown",
   "id": "b95bc771",
   "metadata": {},
   "source": [
    "After installing Custom Vision's Python SDK and python-dotenv  \n",
    "`! pip install azure-cognitiveservices-vision-customvision==3.1.0`  \n",
    "`! pip install python-dotenv`"
   ]
  },
  {
   "cell_type": "code",
   "execution_count": null,
   "id": "83ba325e",
   "metadata": {},
   "outputs": [],
   "source": [
    "from azure.cognitiveservices.vision.customvision.training import CustomVisionTrainingClient\n",
    "from azure.cognitiveservices.vision.customvision.training.models import ImageFileCreateBatch, ImageFileCreateEntry, Region\n",
    "from msrest.authentication import ApiKeyCredentials\n",
    "import time\n",
    "import json\n",
    "import os\n",
    "\n",
    "import pandas as pd\n",
    "from pathlib import Path\n",
    "\n",
    "from PIL import Image\n",
    "from PIL import UnidentifiedImageError"
   ]
  },
  {
   "cell_type": "markdown",
   "id": "0a13ba14",
   "metadata": {},
   "source": []
  }
 ],
 "metadata": {
  "kernelspec": {
   "display_name": "Python 3 (ipykernel)",
   "language": "python",
   "name": "python3"
  }
 },
 "nbformat": 4,
 "nbformat_minor": 5
}
