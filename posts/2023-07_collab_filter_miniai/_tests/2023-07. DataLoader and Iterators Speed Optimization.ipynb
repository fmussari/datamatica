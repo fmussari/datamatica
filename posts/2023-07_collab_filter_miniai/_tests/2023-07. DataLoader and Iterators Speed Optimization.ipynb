{
 "cells": [
  {
   "cell_type": "code",
   "execution_count": null,
   "id": "e43b6553",
   "metadata": {},
   "outputs": [],
   "source": [
    "from pathlib import Path\n",
    "import pandas as pd\n",
    "import numpy as np\n",
    "import urllib.request\n",
    "import zipfile\n",
    "from functools import partial\n",
    "\n",
    "import torch\n",
    "import torch.nn as nn\n",
    "from torch.optim import AdamW, lr_scheduler\n",
    "from torch.utils.data import (\n",
    "    Dataset, DataLoader, RandomSampler, BatchSampler\n",
    ")\n",
    "\n",
    "# Local\n",
    "from recommender_split import split_dataframe_by_group, report_splits"
   ]
  },
  {
   "cell_type": "code",
   "execution_count": null,
   "id": "e1695875",
   "metadata": {},
   "outputs": [],
   "source": [
    "from miniai.datasets import DataLoaders\n",
    "from miniai.learner import MetricsCB, DeviceCB, ProgressCB, TrainLearner\n",
    "from miniai.activations import set_seed\n",
    "from miniai.sgd import BatchSchedCB, RecorderCB"
   ]
  },
  {
   "cell_type": "code",
   "execution_count": null,
   "id": "1d62eed6",
   "metadata": {},
   "outputs": [],
   "source": [
    "USER = 'user_id'\n",
    "ITEM = 'title'\n",
    "TARGET = 'rating'"
   ]
  },
  {
   "cell_type": "markdown",
   "id": "6b7c8625",
   "metadata": {},
   "source": [
    "## Load Movielens 1M"
   ]
  },
  {
   "cell_type": "code",
   "execution_count": null,
   "id": "18161e64",
   "metadata": {},
   "outputs": [],
   "source": [
    "movielens_1M_url = 'http://files.grouplens.org/datasets/movielens/ml-1m.zip'\n",
    "\n",
    "filename = Path(movielens_1M_url).name\n",
    "zip_path = Path('.')\n",
    "extract_path = zip_path / Path(filename).stem"
   ]
  },
  {
   "cell_type": "code",
   "execution_count": null,
   "id": "420e56b8",
   "metadata": {},
   "outputs": [],
   "source": [
    "if not Path(filename).exists():\n",
    "    with urllib.request.urlopen(movielens_1M_url) as response:\n",
    "        with open(filename, \"wb\") as f:\n",
    "          f.write(response.read())\n",
    "\n",
    "if not extract_path.exists():\n",
    "    with zipfile.ZipFile(filename, \"r\") as zip_ref:\n",
    "        zip_ref.extractall(zip_path)"
   ]
  },
  {
   "cell_type": "code",
   "execution_count": null,
   "id": "38d715ee",
   "metadata": {},
   "outputs": [
    {
     "data": {
      "text/html": [
       "<div>\n",
       "<style scoped>\n",
       "    .dataframe tbody tr th:only-of-type {\n",
       "        vertical-align: middle;\n",
       "    }\n",
       "\n",
       "    .dataframe tbody tr th {\n",
       "        vertical-align: top;\n",
       "    }\n",
       "\n",
       "    .dataframe thead th {\n",
       "        text-align: right;\n",
       "    }\n",
       "</style>\n",
       "<table border=\"1\" class=\"dataframe\">\n",
       "  <thead>\n",
       "    <tr style=\"text-align: right;\">\n",
       "      <th></th>\n",
       "      <th>user_id</th>\n",
       "      <th>item_id</th>\n",
       "      <th>rating</th>\n",
       "      <th>title</th>\n",
       "    </tr>\n",
       "  </thead>\n",
       "  <tbody>\n",
       "    <tr>\n",
       "      <th>0</th>\n",
       "      <td>1</td>\n",
       "      <td>1193</td>\n",
       "      <td>5</td>\n",
       "      <td>One Flew Over the Cuckoo's Nest (1975)</td>\n",
       "    </tr>\n",
       "    <tr>\n",
       "      <th>1</th>\n",
       "      <td>2</td>\n",
       "      <td>1193</td>\n",
       "      <td>5</td>\n",
       "      <td>One Flew Over the Cuckoo's Nest (1975)</td>\n",
       "    </tr>\n",
       "    <tr>\n",
       "      <th>2</th>\n",
       "      <td>12</td>\n",
       "      <td>1193</td>\n",
       "      <td>4</td>\n",
       "      <td>One Flew Over the Cuckoo's Nest (1975)</td>\n",
       "    </tr>\n",
       "    <tr>\n",
       "      <th>3</th>\n",
       "      <td>15</td>\n",
       "      <td>1193</td>\n",
       "      <td>4</td>\n",
       "      <td>One Flew Over the Cuckoo's Nest (1975)</td>\n",
       "    </tr>\n",
       "    <tr>\n",
       "      <th>4</th>\n",
       "      <td>17</td>\n",
       "      <td>1193</td>\n",
       "      <td>5</td>\n",
       "      <td>One Flew Over the Cuckoo's Nest (1975)</td>\n",
       "    </tr>\n",
       "    <tr>\n",
       "      <th>...</th>\n",
       "      <td>...</td>\n",
       "      <td>...</td>\n",
       "      <td>...</td>\n",
       "      <td>...</td>\n",
       "    </tr>\n",
       "    <tr>\n",
       "      <th>1000204</th>\n",
       "      <td>5949</td>\n",
       "      <td>2198</td>\n",
       "      <td>5</td>\n",
       "      <td>Modulations (1998)</td>\n",
       "    </tr>\n",
       "    <tr>\n",
       "      <th>1000205</th>\n",
       "      <td>5675</td>\n",
       "      <td>2703</td>\n",
       "      <td>3</td>\n",
       "      <td>Broken Vessels (1998)</td>\n",
       "    </tr>\n",
       "    <tr>\n",
       "      <th>1000206</th>\n",
       "      <td>5780</td>\n",
       "      <td>2845</td>\n",
       "      <td>1</td>\n",
       "      <td>White Boys (1999)</td>\n",
       "    </tr>\n",
       "    <tr>\n",
       "      <th>1000207</th>\n",
       "      <td>5851</td>\n",
       "      <td>3607</td>\n",
       "      <td>5</td>\n",
       "      <td>One Little Indian (1973)</td>\n",
       "    </tr>\n",
       "    <tr>\n",
       "      <th>1000208</th>\n",
       "      <td>5938</td>\n",
       "      <td>2909</td>\n",
       "      <td>4</td>\n",
       "      <td>Five Wives, Three Secretaries and Me (1998)</td>\n",
       "    </tr>\n",
       "  </tbody>\n",
       "</table>\n",
       "<p>1000209 rows × 4 columns</p>\n",
       "</div>"
      ],
      "text/plain": [
       "         user_id  item_id  rating                                        title\n",
       "0              1     1193       5       One Flew Over the Cuckoo's Nest (1975)\n",
       "1              2     1193       5       One Flew Over the Cuckoo's Nest (1975)\n",
       "2             12     1193       4       One Flew Over the Cuckoo's Nest (1975)\n",
       "3             15     1193       4       One Flew Over the Cuckoo's Nest (1975)\n",
       "4             17     1193       5       One Flew Over the Cuckoo's Nest (1975)\n",
       "...          ...      ...     ...                                          ...\n",
       "1000204     5949     2198       5                           Modulations (1998)\n",
       "1000205     5675     2703       3                        Broken Vessels (1998)\n",
       "1000206     5780     2845       1                            White Boys (1999)\n",
       "1000207     5851     3607       5                     One Little Indian (1973)\n",
       "1000208     5938     2909       4  Five Wives, Three Secretaries and Me (1998)\n",
       "\n",
       "[1000209 rows x 4 columns]"
      ]
     },
     "execution_count": null,
     "metadata": {},
     "output_type": "execute_result"
    }
   ],
   "source": [
    "ratings_1m = pd.read_csv(\n",
    "    extract_path/'ratings.dat', delimiter='::', header=None, engine='python',\n",
    "    names=[USER, ITEM, TARGET, 'timestamp'])\n",
    "\n",
    "ratings_1m = ratings_1m[[USER, ITEM, TARGET]].copy()\n",
    "\n",
    "movies_1m = pd.read_csv(\n",
    "    extract_path/'movies.dat', delimiter='::', encoding='ISO-8859-1', # encoding='latin-1',\n",
    "    usecols=(0,1), header=None, engine='python', names=('item_id','title')\n",
    ")\n",
    "\n",
    "ratings_1m = ratings_1m.merge(movies_1m)\n",
    "ratings_1m"
   ]
  },
  {
   "cell_type": "code",
   "execution_count": null,
   "id": "1a156b07",
   "metadata": {},
   "outputs": [],
   "source": [
    "data = ratings_1m"
   ]
  },
  {
   "cell_type": "markdown",
   "id": "a86cf9cf",
   "metadata": {},
   "source": [
    "## Split train, valid"
   ]
  },
  {
   "cell_type": "code",
   "execution_count": null,
   "id": "887ee471",
   "metadata": {},
   "outputs": [],
   "source": [
    "splits = split_dataframe_by_group(\n",
    "    data, ratio=0.8, filter_by=\"item\",\n",
    "    seed=104577657, col_user=USER, col_item=ITEM\n",
    ")"
   ]
  },
  {
   "cell_type": "code",
   "execution_count": null,
   "id": "977415da",
   "metadata": {},
   "outputs": [],
   "source": [
    "train_df = data.iloc[splits[0]]\n",
    "valid_df = data.iloc[splits[1]]"
   ]
  },
  {
   "cell_type": "code",
   "execution_count": null,
   "id": "fd6c3445",
   "metadata": {},
   "outputs": [
    {
     "name": "stdout",
     "output_type": "stream",
     "text": [
      "Number of title with one review: 114\n",
      "Number of users in train: 6040\n",
      "Number of items in train: 3706\n",
      "Number of users in valid: 6037\n",
      "Number of items in valid: 3592\n"
     ]
    }
   ],
   "source": [
    "report_splits(data, splits, USER, ITEM, ITEM)"
   ]
  },
  {
   "cell_type": "markdown",
   "id": "5f671c01",
   "metadata": {},
   "source": [
    "There are users not present in valid split"
   ]
  },
  {
   "cell_type": "code",
   "execution_count": null,
   "id": "05fedd16",
   "metadata": {},
   "outputs": [
    {
     "data": {
      "text/plain": [
       "{160, 298, 2490}"
      ]
     },
     "execution_count": null,
     "metadata": {},
     "output_type": "execute_result"
    }
   ],
   "source": [
    "users_not_in_valid = set(train_df[USER]) - set(valid_df[USER])\n",
    "users_not_in_valid"
   ]
  },
  {
   "cell_type": "markdown",
   "id": "e63c5d71",
   "metadata": {},
   "source": [
    "Items that are not in valid have only one review"
   ]
  },
  {
   "cell_type": "code",
   "execution_count": null,
   "id": "b55c7ea5",
   "metadata": {},
   "outputs": [],
   "source": [
    "number_of_reviews_by_item = data.groupby(ITEM)[ITEM].transform('count')"
   ]
  },
  {
   "cell_type": "code",
   "execution_count": null,
   "id": "91b4754f",
   "metadata": {},
   "outputs": [],
   "source": [
    "assert sum(number_of_reviews_by_item==1) == len(train_df[ITEM].unique()) - len(valid_df[ITEM].unique())"
   ]
  },
  {
   "cell_type": "markdown",
   "id": "f09abe36",
   "metadata": {},
   "source": [
    "### Force splits to have all users in valid"
   ]
  },
  {
   "cell_type": "code",
   "execution_count": null,
   "id": "dc5fa8ca",
   "metadata": {},
   "outputs": [
    {
     "data": {
      "text/html": [
       "<div>\n",
       "<style scoped>\n",
       "    .dataframe tbody tr th:only-of-type {\n",
       "        vertical-align: middle;\n",
       "    }\n",
       "\n",
       "    .dataframe tbody tr th {\n",
       "        vertical-align: top;\n",
       "    }\n",
       "\n",
       "    .dataframe thead th {\n",
       "        text-align: right;\n",
       "    }\n",
       "</style>\n",
       "<table border=\"1\" class=\"dataframe\">\n",
       "  <thead>\n",
       "    <tr style=\"text-align: right;\">\n",
       "      <th></th>\n",
       "      <th>user_id</th>\n",
       "      <th>item_id</th>\n",
       "      <th>rating</th>\n",
       "      <th>title</th>\n",
       "      <th>numrev_by_item</th>\n",
       "    </tr>\n",
       "  </thead>\n",
       "  <tbody>\n",
       "    <tr>\n",
       "      <th>1747</th>\n",
       "      <td>298</td>\n",
       "      <td>661</td>\n",
       "      <td>4</td>\n",
       "      <td>James and the Giant Peach (1996)</td>\n",
       "      <td>525</td>\n",
       "    </tr>\n",
       "    <tr>\n",
       "      <th>2926</th>\n",
       "      <td>160</td>\n",
       "      <td>3408</td>\n",
       "      <td>4</td>\n",
       "      <td>Erin Brockovich (2000)</td>\n",
       "      <td>1315</td>\n",
       "    </tr>\n",
       "    <tr>\n",
       "      <th>16791</th>\n",
       "      <td>160</td>\n",
       "      <td>2791</td>\n",
       "      <td>3</td>\n",
       "      <td>Airplane! (1980)</td>\n",
       "      <td>1731</td>\n",
       "    </tr>\n",
       "    <tr>\n",
       "      <th>21737</th>\n",
       "      <td>298</td>\n",
       "      <td>2321</td>\n",
       "      <td>4</td>\n",
       "      <td>Pleasantville (1998)</td>\n",
       "      <td>1158</td>\n",
       "    </tr>\n",
       "    <tr>\n",
       "      <th>25956</th>\n",
       "      <td>298</td>\n",
       "      <td>527</td>\n",
       "      <td>5</td>\n",
       "      <td>Schindler's List (1993)</td>\n",
       "      <td>2304</td>\n",
       "    </tr>\n",
       "  </tbody>\n",
       "</table>\n",
       "</div>"
      ],
      "text/plain": [
       "       user_id  item_id  rating                             title  \\\n",
       "1747       298      661       4  James and the Giant Peach (1996)   \n",
       "2926       160     3408       4            Erin Brockovich (2000)   \n",
       "16791      160     2791       3                  Airplane! (1980)   \n",
       "21737      298     2321       4              Pleasantville (1998)   \n",
       "25956      298      527       5           Schindler's List (1993)   \n",
       "\n",
       "       numrev_by_item  \n",
       "1747              525  \n",
       "2926             1315  \n",
       "16791            1731  \n",
       "21737            1158  \n",
       "25956            2304  "
      ]
     },
     "execution_count": null,
     "metadata": {},
     "output_type": "execute_result"
    }
   ],
   "source": [
    "sort_column = 'numrev_by_item'\n",
    "tmp_filter = data[USER].isin(users_not_in_valid)\n",
    "\n",
    "df_new_splits = data[tmp_filter].copy()\n",
    "df_new_splits[sort_column] = number_of_reviews_by_item[tmp_filter]\n",
    "\n",
    "df_new_splits.head()"
   ]
  },
  {
   "cell_type": "code",
   "execution_count": null,
   "id": "3a705246",
   "metadata": {},
   "outputs": [],
   "source": [
    "new_splits = split_dataframe_by_group(\n",
    "    df_new_splits, ratio=0.8, filter_by=\"user\",\n",
    "    seed=104577657, col_user=USER, col_item=ITEM, sort_column=sort_column\n",
    ")"
   ]
  },
  {
   "cell_type": "code",
   "execution_count": null,
   "id": "5c67ecc9",
   "metadata": {},
   "outputs": [],
   "source": [
    "final_splits = [splits[0] + new_splits[0], splits[1] + new_splits[1]]"
   ]
  },
  {
   "cell_type": "code",
   "execution_count": null,
   "id": "54f528ef",
   "metadata": {},
   "outputs": [],
   "source": [
    "train_df = data.iloc[final_splits[0]]\n",
    "valid_df = data.iloc[final_splits[1]]"
   ]
  },
  {
   "cell_type": "code",
   "execution_count": null,
   "id": "d1fcc720",
   "metadata": {},
   "outputs": [
    {
     "data": {
      "text/plain": [
       "(798812, 201466)"
      ]
     },
     "execution_count": null,
     "metadata": {},
     "output_type": "execute_result"
    }
   ],
   "source": [
    "len(train_df), len(valid_df)"
   ]
  },
  {
   "cell_type": "code",
   "execution_count": null,
   "id": "8cb2f546",
   "metadata": {},
   "outputs": [
    {
     "name": "stdout",
     "output_type": "stream",
     "text": [
      "Number of title with one review: 114\n",
      "Number of users in train: 6040\n",
      "Number of items in train: 3706\n",
      "Number of users in valid: 6040\n",
      "Number of items in valid: 3592\n"
     ]
    }
   ],
   "source": [
    "report_splits(data, final_splits, USER, ITEM, ITEM)"
   ]
  },
  {
   "cell_type": "markdown",
   "id": "0dc5e425",
   "metadata": {},
   "source": [
    "## PyTorch Dataset"
   ]
  },
  {
   "cell_type": "markdown",
   "id": "6dae9b47",
   "metadata": {},
   "source": [
    "user to index and title to index"
   ]
  },
  {
   "cell_type": "code",
   "execution_count": null,
   "id": "ab5819e2",
   "metadata": {},
   "outputs": [],
   "source": [
    "users = sorted(list(data[USER].unique()))\n",
    "items = sorted(list(data[ITEM].unique()))\n",
    "\n",
    "uidx2u = {k:v for k,v in enumerate(users)}\n",
    "u2uidx = {k:v for v,k in uidx2u.items()}\n",
    "\n",
    "tidx2t = {k:v for k,v in enumerate(items)}\n",
    "t2tidx = {k:v for v,k in tidx2t.items()}"
   ]
  },
  {
   "cell_type": "code",
   "execution_count": null,
   "id": "6cc2e697",
   "metadata": {},
   "outputs": [
    {
     "data": {
      "text/plain": [
       "(6040, 3706)"
      ]
     },
     "execution_count": null,
     "metadata": {},
     "output_type": "execute_result"
    }
   ],
   "source": [
    "len(uidx2u), len(tidx2t)"
   ]
  },
  {
   "cell_type": "code",
   "execution_count": null,
   "id": "893b909c",
   "metadata": {},
   "outputs": [
    {
     "data": {
      "text/plain": [
       "('Decline of Western Civilization, The (1981)',\n",
       " \"One Flew Over the Cuckoo's Nest (1975)\")"
      ]
     },
     "execution_count": null,
     "metadata": {},
     "output_type": "execute_result"
    }
   ],
   "source": [
    "tidx2t[890], tidx2t[2452]"
   ]
  },
  {
   "cell_type": "code",
   "execution_count": null,
   "id": "ff6b0bf9",
   "metadata": {},
   "outputs": [],
   "source": [
    "class CollabDataset(Dataset):\n",
    "\n",
    "    def __init__(self, df:pd.DataFrame, user_col='user', item_col='item', target='rating'):\n",
    "        self.indices = torch.tensor(df.index)\n",
    "        self.df = df[[user_col, item_col, target]]\n",
    "        self.user_col = user_col\n",
    "        self.item_col = item_col\n",
    "        self.target = target\n",
    "    \n",
    "    def __len__(self):\n",
    "        return len(self.df)\n",
    "\n",
    "    def apply_x_transforms(self):\n",
    "        users = self.df.loc[self.df_idxs][self.user_col].map(u2uidx)\n",
    "        items = self.df.loc[self.df_idxs][self.item_col].map(t2tidx)\n",
    "        sample_df = pd.DataFrame(zip(users, items))\n",
    "        return torch.tensor(sample_df.values)\n",
    "\n",
    "    def apply_y_transforms(self):\n",
    "        targets = self.df.loc[self.df_idxs][self.target].values\n",
    "        return torch.tensor(targets, dtype=torch.float)\n",
    "           \n",
    "    def __getitem__(self, idx_list):\n",
    "        self.df_idxs = self.indices[idx_list]\n",
    "        x = self.apply_x_transforms()\n",
    "        y = self.apply_y_transforms()\n",
    "        return (x, y)"
   ]
  },
  {
   "cell_type": "code",
   "execution_count": null,
   "id": "e7316b1c",
   "metadata": {},
   "outputs": [],
   "source": [
    "class CollabDatasetOpt(Dataset):\n",
    "    def __init__(self, df:pd.DataFrame, user_col='user', item_col='item', target='rating'):\n",
    "        self.users = df[user_col].map(u2uidx).to_numpy()\n",
    "        self.items = df[item_col].map(t2tidx).to_numpy()\n",
    "        self.target = df[target].to_numpy()\n",
    "    \n",
    "    def __len__(self):\n",
    "        return len(self.users)\n",
    "    \n",
    "    def get_batch(self):\n",
    "        users_b = self.users[self.batch_idxs]\n",
    "        items_b = self.items[self.batch_idxs]\n",
    "        x_b = np.column_stack((users_b, items_b))\n",
    "        target_b = self.target[self.batch_idxs]\n",
    "        y_b = torch.tensor(target_b, dtype=torch.float)\n",
    "        return torch.tensor(x_b), y_b\n",
    "    \n",
    "    def __getitem__(self, batch_idxs):\n",
    "        self.batch_idxs = batch_idxs\n",
    "        return self.get_batch()"
   ]
  },
  {
   "cell_type": "code",
   "execution_count": null,
   "id": "f39ff25c",
   "metadata": {},
   "outputs": [],
   "source": [
    "train_dataset = CollabDataset(train_df, user_col=USER, item_col=ITEM)\n",
    "\n",
    "valid_dataset = CollabDataset(valid_df, user_col=USER, item_col=ITEM)"
   ]
  },
  {
   "cell_type": "markdown",
   "id": "ebcd268a",
   "metadata": {},
   "source": [
    "## BatchSampler"
   ]
  },
  {
   "cell_type": "code",
   "execution_count": null,
   "id": "b3dec868",
   "metadata": {},
   "outputs": [],
   "source": [
    "bs = 64\n",
    "\n",
    "t_sampler = BatchSampler(\n",
    "    RandomSampler(train_dataset),\n",
    "    batch_size=bs,\n",
    "    drop_last=False)\n",
    "\n",
    "v_sampler = BatchSampler(\n",
    "    RandomSampler(valid_dataset),\n",
    "    batch_size=bs,\n",
    "    drop_last=False)"
   ]
  },
  {
   "cell_type": "code",
   "execution_count": null,
   "id": "e3abd7ca",
   "metadata": {},
   "outputs": [
    {
     "data": {
      "text/plain": [
       "12482"
      ]
     },
     "execution_count": null,
     "metadata": {},
     "output_type": "execute_result"
    }
   ],
   "source": [
    "len(t_sampler)"
   ]
  },
  {
   "cell_type": "code",
   "execution_count": null,
   "id": "7307207e",
   "metadata": {},
   "outputs": [],
   "source": [
    "fixed_sampler = list(t_sampler)[:100]"
   ]
  },
  {
   "cell_type": "code",
   "execution_count": null,
   "id": "7e1ff3f0",
   "metadata": {},
   "outputs": [
    {
     "name": "stdout",
     "output_type": "stream",
     "text": [
      "CPU times: user 46.6 s, sys: 7.4 ms, total: 46.6 s\n",
      "Wall time: 46.6 s\n"
     ]
    }
   ],
   "source": [
    "%%time\n",
    "for _ in fixed_sampler: \n",
    "    train_dataset[_]"
   ]
  },
  {
   "cell_type": "code",
   "execution_count": null,
   "id": "2d2fb944",
   "metadata": {},
   "outputs": [],
   "source": [
    "t_opt_dataset = CollabDatasetOpt(train_df, user_col=USER, item_col=ITEM)\n",
    "\n",
    "v_opt_dataset = CollabDatasetOpt(valid_df, user_col=USER, item_col=ITEM)"
   ]
  },
  {
   "cell_type": "code",
   "execution_count": null,
   "id": "5179845a",
   "metadata": {},
   "outputs": [
    {
     "name": "stdout",
     "output_type": "stream",
     "text": [
      "CPU times: user 2.71 s, sys: 51 ms, total: 2.76 s\n",
      "Wall time: 1.31 s\n"
     ]
    }
   ],
   "source": [
    "%%time\n",
    "\n",
    "for _ in t_sampler: \n",
    "    t_opt_dataset[_]"
   ]
  },
  {
   "cell_type": "markdown",
   "id": "3f7c6801",
   "metadata": {},
   "source": [
    "## PyTorch DataLoader"
   ]
  },
  {
   "cell_type": "code",
   "execution_count": null,
   "id": "ca420482",
   "metadata": {},
   "outputs": [],
   "source": [
    "bs = 64 * 3\n",
    "t_sampler = BatchSampler(RandomSampler(train_dataset), batch_size=bs, drop_last=False)\n",
    "v_sampler = BatchSampler(RandomSampler(valid_dataset), batch_size=bs, drop_last=False)"
   ]
  },
  {
   "cell_type": "code",
   "execution_count": null,
   "id": "4891217e",
   "metadata": {},
   "outputs": [],
   "source": [
    "t_dataloader = DataLoader(t_opt_dataset, sampler=t_sampler, batch_size=None, num_workers=6)\n",
    "\n",
    "v_dataloader = DataLoader(v_opt_dataset, sampler=v_sampler, batch_size=None, num_workers=6)"
   ]
  },
  {
   "cell_type": "code",
   "execution_count": null,
   "id": "4e23b1a8",
   "metadata": {},
   "outputs": [
    {
     "name": "stdout",
     "output_type": "stream",
     "text": [
      "CPU times: user 11.7 s, sys: 6.6 s, total: 18.3 s\n",
      "Wall time: 17.8 s\n"
     ]
    }
   ],
   "source": [
    "%%time\n",
    "for _ in t_dataloader: pass"
   ]
  },
  {
   "cell_type": "markdown",
   "id": "380b251b",
   "metadata": {},
   "source": [
    "Sin optimización esto tomaba 6:50 min"
   ]
  },
  {
   "cell_type": "markdown",
   "id": "ef9112ad",
   "metadata": {},
   "source": [
    "## miniai DataLoaders"
   ]
  },
  {
   "cell_type": "code",
   "execution_count": null,
   "id": "123ff0e5",
   "metadata": {},
   "outputs": [],
   "source": [
    "dls = DataLoaders(t_dataloader, v_dataloader)"
   ]
  },
  {
   "cell_type": "code",
   "execution_count": null,
   "id": "4530e4c6",
   "metadata": {},
   "outputs": [],
   "source": [
    "dt = dls.train\n",
    "xb, yb = next(iter(dt))"
   ]
  },
  {
   "cell_type": "code",
   "execution_count": null,
   "id": "fa610e63",
   "metadata": {},
   "outputs": [
    {
     "data": {
      "text/plain": [
       "(tensor([[4385,  861],\n",
       "         [2115, 3007],\n",
       "         [1536, 3137],\n",
       "         [3680,  208],\n",
       "         [1283, 3416]]),\n",
       " tensor([2., 4., 4., 3., 3.]))"
      ]
     },
     "execution_count": null,
     "metadata": {},
     "output_type": "execute_result"
    }
   ],
   "source": [
    "xb[:5,:], yb[:5]"
   ]
  },
  {
   "cell_type": "code",
   "execution_count": null,
   "id": "620ddfe1",
   "metadata": {},
   "outputs": [
    {
     "data": {
      "text/plain": [
       "(6040, 3706)"
      ]
     },
     "execution_count": null,
     "metadata": {},
     "output_type": "execute_result"
    }
   ],
   "source": [
    "n_users = len(data[USER].unique())\n",
    "n_title = len(data[ITEM].unique())\n",
    "n_users, n_title"
   ]
  },
  {
   "cell_type": "markdown",
   "id": "7becc617",
   "metadata": {},
   "source": [
    "## Model"
   ]
  },
  {
   "cell_type": "code",
   "execution_count": null,
   "id": "b70c2aec",
   "metadata": {},
   "outputs": [],
   "source": [
    "# functions from fastai\n",
    "def sigmoid_range(x, low, high):\n",
    "    \"Sigmoid function with range `(low, high)`\"\n",
    "    return torch.sigmoid(x) * (high - low) + low\n",
    "\n",
    "def trunc_normal_(x, mean=0., std=1.):\n",
    "    \"Truncated normal initialization (approximation)\"\n",
    "    # From https://discuss.pytorch.org/t/implementing-truncated-normal-initializer/4778/12\n",
    "    return x.normal_().fmod_(2).mul_(std).add_(mean)\n",
    "\n",
    "class Embedding(nn.Embedding):\n",
    "    \"Embedding layer with truncated normal initialization\"\n",
    "    def __init__(self, ni, nf, std=0.01):\n",
    "        super().__init__(ni, nf)\n",
    "        trunc_normal_(self.weight.data, std=std)"
   ]
  },
  {
   "cell_type": "code",
   "execution_count": null,
   "id": "d9b3f6af",
   "metadata": {},
   "outputs": [],
   "source": [
    "class DotProductBias(nn.Module):\n",
    "    def __init__(self, n_users, n_movies, n_factors, y_range=(0, 5.5)):\n",
    "        super().__init__()\n",
    "        self.user_factors = Embedding(n_users, n_factors)\n",
    "        self.user_bias = Embedding(n_users, 1)\n",
    "        self.movie_factors = Embedding(n_movies, n_factors)\n",
    "        self.movie_bias = Embedding(n_movies, 1)\n",
    "        self.y_range = y_range\n",
    "        \n",
    "    def forward(self, x):\n",
    "        users = self.user_factors(x[:,0])\n",
    "        movies = self.movie_factors(x[:,1])\n",
    "        res = (users * movies).sum(dim=1, keepdim=True)\n",
    "        res += self.user_bias(x[:,0]) + self.movie_bias(x[:,1])\n",
    "        return sigmoid_range(res, *self.y_range).flatten()"
   ]
  },
  {
   "cell_type": "code",
   "execution_count": null,
   "id": "cf9466a9",
   "metadata": {},
   "outputs": [],
   "source": [
    "model = DotProductBias(n_users, n_title, 50)"
   ]
  },
  {
   "cell_type": "code",
   "execution_count": null,
   "id": "675747ad",
   "metadata": {},
   "outputs": [
    {
     "data": {
      "text/plain": [
       "tensor([2.7459, 2.7571, 2.7557, 2.7377, 2.7327], grad_fn=<SliceBackward0>)"
      ]
     },
     "execution_count": null,
     "metadata": {},
     "output_type": "execute_result"
    }
   ],
   "source": [
    "model(xb)[:5]"
   ]
  },
  {
   "cell_type": "markdown",
   "id": "6933754d",
   "metadata": {},
   "source": [
    "## miniai training"
   ]
  },
  {
   "cell_type": "code",
   "execution_count": null,
   "id": "2e5d7745",
   "metadata": {},
   "outputs": [],
   "source": [
    "metrics = MetricsCB()\n",
    "cbs = [DeviceCB(), metrics, ProgressCB(plot=False)]"
   ]
  },
  {
   "cell_type": "code",
   "execution_count": null,
   "id": "650f6622",
   "metadata": {},
   "outputs": [],
   "source": [
    "def _lr(cb): return cb.pg['lr']\n",
    "def _beta1(cb): return cb.pg['betas'][0]\n",
    "\n",
    "rec = RecorderCB(lr=_lr, mom=_beta1)"
   ]
  },
  {
   "cell_type": "code",
   "execution_count": null,
   "id": "8555a6d2",
   "metadata": {},
   "outputs": [],
   "source": [
    "set_seed(42)\n",
    "lr, epochs = 5e-3, 5"
   ]
  },
  {
   "cell_type": "code",
   "execution_count": null,
   "id": "ef3c702a",
   "metadata": {},
   "outputs": [],
   "source": [
    "tmax = epochs * len(dls.train)\n",
    "sched = partial(lr_scheduler.OneCycleLR, max_lr=lr, total_steps=tmax)\n",
    "\n",
    "xtra = [BatchSchedCB(sched), rec]\n",
    "\n",
    "loss_f = nn.MSELoss()"
   ]
  },
  {
   "cell_type": "code",
   "execution_count": null,
   "id": "d4367e9d",
   "metadata": {},
   "outputs": [],
   "source": [
    "learn = TrainLearner(\n",
    "    model, dls, loss_f, lr=lr, cbs=cbs+xtra, \n",
    "    opt_func=partial(AdamW, weight_decay=0.15)\n",
    ")"
   ]
  },
  {
   "cell_type": "code",
   "execution_count": null,
   "id": "f387490d",
   "metadata": {},
   "outputs": [
    {
     "data": {
      "text/html": [
       "\n",
       "<style>\n",
       "    /* Turns off some styling */\n",
       "    progress {\n",
       "        /* gets rid of default border in Firefox and Opera. */\n",
       "        border: none;\n",
       "        /* Needs to be in here for Safari polyfill so background images work as expected. */\n",
       "        background-size: auto;\n",
       "    }\n",
       "    .progress-bar-interrupted, .progress-bar-interrupted::-webkit-progress-bar {\n",
       "        background: #F44336;\n",
       "    }\n",
       "</style>\n"
      ],
      "text/plain": [
       "<IPython.core.display.HTML object>"
      ]
     },
     "metadata": {},
     "output_type": "display_data"
    },
    {
     "data": {
      "text/html": [
       "<table border=\"1\" class=\"dataframe\">\n",
       "  <thead>\n",
       "    <tr style=\"text-align: left;\">\n",
       "      <th>loss</th>\n",
       "      <th>epoch</th>\n",
       "      <th>train</th>\n",
       "    </tr>\n",
       "  </thead>\n",
       "  <tbody>\n",
       "    <tr>\n",
       "      <td>1.164</td>\n",
       "      <td>0</td>\n",
       "      <td>train</td>\n",
       "    </tr>\n",
       "    <tr>\n",
       "      <td>0.869</td>\n",
       "      <td>0</td>\n",
       "      <td>eval</td>\n",
       "    </tr>\n",
       "    <tr>\n",
       "      <td>0.848</td>\n",
       "      <td>1</td>\n",
       "      <td>train</td>\n",
       "    </tr>\n",
       "    <tr>\n",
       "      <td>0.831</td>\n",
       "      <td>1</td>\n",
       "      <td>eval</td>\n",
       "    </tr>\n",
       "    <tr>\n",
       "      <td>0.797</td>\n",
       "      <td>2</td>\n",
       "      <td>train</td>\n",
       "    </tr>\n",
       "    <tr>\n",
       "      <td>0.786</td>\n",
       "      <td>2</td>\n",
       "      <td>eval</td>\n",
       "    </tr>\n",
       "    <tr>\n",
       "      <td>0.732</td>\n",
       "      <td>3</td>\n",
       "      <td>train</td>\n",
       "    </tr>\n",
       "    <tr>\n",
       "      <td>0.740</td>\n",
       "      <td>3</td>\n",
       "      <td>eval</td>\n",
       "    </tr>\n",
       "    <tr>\n",
       "      <td>0.660</td>\n",
       "      <td>4</td>\n",
       "      <td>train</td>\n",
       "    </tr>\n",
       "    <tr>\n",
       "      <td>0.728</td>\n",
       "      <td>4</td>\n",
       "      <td>eval</td>\n",
       "    </tr>\n",
       "  </tbody>\n",
       "</table>"
      ],
      "text/plain": [
       "<IPython.core.display.HTML object>"
      ]
     },
     "metadata": {},
     "output_type": "display_data"
    }
   ],
   "source": [
    "learn.fit(epochs)"
   ]
  },
  {
   "cell_type": "markdown",
   "id": "4eeecbab",
   "metadata": {},
   "source": [
    "## Pruebas de Velocidad"
   ]
  },
  {
   "cell_type": "code",
   "execution_count": null,
   "id": "c9a975a4",
   "metadata": {},
   "outputs": [
    {
     "name": "stdout",
     "output_type": "stream",
     "text": [
      "CPU times: user 15.9 s, sys: 0 ns, total: 15.9 s\n",
      "Wall time: 15.9 s\n"
     ]
    },
    {
     "data": {
      "text/plain": [
       "tensor([   0,    1,   11,  ..., 5779, 5850, 5937])"
      ]
     },
     "execution_count": null,
     "metadata": {},
     "output_type": "execute_result"
    }
   ],
   "source": [
    "%%time\n",
    "torch.tensor(data[USER].map(u2uidx))"
   ]
  },
  {
   "cell_type": "code",
   "execution_count": null,
   "id": "ad8932aa",
   "metadata": {},
   "outputs": [
    {
     "name": "stdout",
     "output_type": "stream",
     "text": [
      "CPU times: user 34.1 ms, sys: 0 ns, total: 34.1 ms\n",
      "Wall time: 29.2 ms\n"
     ]
    },
    {
     "data": {
      "text/plain": [
       "array([   0,    1,   11, ..., 5779, 5850, 5937])"
      ]
     },
     "execution_count": null,
     "metadata": {},
     "output_type": "execute_result"
    }
   ],
   "source": [
    "%%time\n",
    "data[USER].map(u2uidx).to_numpy()"
   ]
  },
  {
   "cell_type": "code",
   "execution_count": null,
   "id": "c65cbf34",
   "metadata": {},
   "outputs": [
    {
     "name": "stdout",
     "output_type": "stream",
     "text": [
      "CPU times: user 58.2 ms, sys: 0 ns, total: 58.2 ms\n",
      "Wall time: 36.4 ms\n"
     ]
    },
    {
     "data": {
      "text/plain": [
       "tensor([   0,    1,   11,  ..., 5779, 5850, 5937])"
      ]
     },
     "execution_count": null,
     "metadata": {},
     "output_type": "execute_result"
    }
   ],
   "source": [
    "%%time\n",
    "torch.tensor(data[USER].map(u2uidx).to_numpy())"
   ]
  },
  {
   "cell_type": "code",
   "execution_count": null,
   "id": "5939c15d",
   "metadata": {},
   "outputs": [],
   "source": [
    "class CollabDatasetOptParts(Dataset):\n",
    "    def __init__(self, df:pd.DataFrame, user_col='user', item_col='item', target='rating'):\n",
    "        self.users = df[user_col]\n",
    "        self.items = df[item_col]\n",
    "        self.target = df[target].to_numpy()\n",
    "    \n",
    "    def __len__(self):\n",
    "        return len(self.users)\n",
    "    \n",
    "    def get_recommend_values(self):\n",
    "        users_b = self.users[self.batch_idxs].map(u2uidx).to_numpy()\n",
    "        items_b = self.items[self.batch_idxs].map(t2tidx).to_numpy()\n",
    "        x_b = np.column_stack((users_b, items_b))\n",
    "        target_b = self.target[self.batch_idxs]\n",
    "        y_b = torch.tensor(target_b, dtype=torch.float)\n",
    "        return torch.tensor(x_b), y_b\n",
    "    \n",
    "    def __getitem__(self, batch_idxs):\n",
    "        self.batch_idxs = batch_idxs\n",
    "        return self.get_recommend_values()"
   ]
  },
  {
   "cell_type": "code",
   "execution_count": null,
   "id": "f12a0c38",
   "metadata": {},
   "outputs": [],
   "source": [
    "full_dataset_01 = CollabDatasetOpt(data, user_col=USER, item_col=ITEM)\n",
    "full_dataset_02 = CollabDatasetOptParts(data, user_col=USER, item_col=ITEM)"
   ]
  },
  {
   "cell_type": "code",
   "execution_count": null,
   "id": "3f3a1fcb",
   "metadata": {},
   "outputs": [],
   "source": [
    "bs = 32 \n",
    "full_sampler = BatchSampler(RandomSampler(full_dataset_01), batch_size=bs, drop_last=False)"
   ]
  },
  {
   "cell_type": "code",
   "execution_count": null,
   "id": "4aa0e466",
   "metadata": {},
   "outputs": [],
   "source": [
    "full_dataloader_01 = DataLoader(\n",
    "    full_dataset_01, sampler=full_sampler, batch_size=None, num_workers=6)\n",
    "\n",
    "full_dataloader_02 = DataLoader(\n",
    "    full_dataset_02, sampler=full_sampler, batch_size=None, num_workers=6)"
   ]
  },
  {
   "cell_type": "code",
   "execution_count": null,
   "id": "75a8f861",
   "metadata": {},
   "outputs": [
    {
     "name": "stdout",
     "output_type": "stream",
     "text": [
      "CPU times: user 1min 21s, sys: 58.1 s, total: 2min 19s\n",
      "Wall time: 2min 22s\n"
     ]
    }
   ],
   "source": [
    "%%time\n",
    "for _ in full_dataloader_01: pass"
   ]
  },
  {
   "cell_type": "code",
   "execution_count": null,
   "id": "83460ed0",
   "metadata": {},
   "outputs": [
    {
     "name": "stdout",
     "output_type": "stream",
     "text": [
      "CPU times: user 1min 28s, sys: 1min 5s, total: 2min 33s\n",
      "Wall time: 2min 58s\n"
     ]
    }
   ],
   "source": [
    "%%time\n",
    "for _ in full_dataloader_02: pass"
   ]
  },
  {
   "cell_type": "code",
   "execution_count": null,
   "id": "c089aac2",
   "metadata": {},
   "outputs": [],
   "source": [
    "class CustomDataLoader():\n",
    "    def __init__(self, dataset, sampler):\n",
    "        self.dataset = dataset\n",
    "        self.sampler = sampler\n",
    "    \n",
    "    def __iter__(self):\n",
    "        for indices in self.sampler:\n",
    "            yield(self.dataset[indices])"
   ]
  },
  {
   "cell_type": "code",
   "execution_count": null,
   "id": "15137472",
   "metadata": {},
   "outputs": [],
   "source": [
    "full_custom_dl = CustomDataLoader(full_dataset_01, full_sampler)"
   ]
  },
  {
   "cell_type": "code",
   "execution_count": null,
   "id": "424eb277",
   "metadata": {},
   "outputs": [
    {
     "name": "stdout",
     "output_type": "stream",
     "text": [
      "CPU times: user 4.94 s, sys: 49.5 ms, total: 4.99 s\n",
      "Wall time: 3.35 s\n"
     ]
    }
   ],
   "source": [
    "%%time\n",
    "for _ in full_custom_dl: pass"
   ]
  },
  {
   "cell_type": "code",
   "execution_count": null,
   "id": "cdd43fc6",
   "metadata": {},
   "outputs": [],
   "source": [
    "full_custom_dl = CustomDataLoader(full_dataset_02, full_sampler)"
   ]
  },
  {
   "cell_type": "code",
   "execution_count": null,
   "id": "44ad712f",
   "metadata": {},
   "outputs": [
    {
     "name": "stdout",
     "output_type": "stream",
     "text": [
      "CPU times: user 7min 57s, sys: 0 ns, total: 7min 57s\n",
      "Wall time: 7min 55s\n"
     ]
    }
   ],
   "source": [
    "%%time\n",
    "for _ in full_custom_dl: pass"
   ]
  },
  {
   "cell_type": "code",
   "execution_count": null,
   "id": "2b599d0b",
   "metadata": {},
   "outputs": [],
   "source": [
    "full_dataloader_03 = DataLoader(\n",
    "    full_dataset_01, sampler=full_sampler, batch_size=None, num_workers=4)"
   ]
  },
  {
   "cell_type": "code",
   "execution_count": null,
   "id": "e72c874e",
   "metadata": {},
   "outputs": [
    {
     "name": "stdout",
     "output_type": "stream",
     "text": [
      "CPU times: user 1min 16s, sys: 57.4 s, total: 2min 14s\n",
      "Wall time: 2min 18s\n"
     ]
    }
   ],
   "source": [
    "%%time\n",
    "for _ in full_dataloader_01: pass"
   ]
  },
  {
   "cell_type": "code",
   "execution_count": null,
   "id": "269b3054",
   "metadata": {},
   "outputs": [],
   "source": []
  }
 ],
 "metadata": {
  "kernelspec": {
   "display_name": "Python 3 (ipykernel)",
   "language": "python",
   "name": "python3"
  }
 },
 "nbformat": 4,
 "nbformat_minor": 5
}
