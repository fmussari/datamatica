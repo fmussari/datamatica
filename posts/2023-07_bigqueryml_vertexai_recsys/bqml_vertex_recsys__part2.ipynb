{
 "cells": [
  {
   "cell_type": "markdown",
   "metadata": {},
   "source": [
    "---\n",
    "title: RecSys MLOps. BigQuery ML and Vertex AI. Part 2  \n",
    "author: \"Francisco Mussari\"  \n",
    "date: 2023-07-24  \n",
    "image: \"pipeline.PNG\"  \n",
    "categories: [Movielens, BigQuery, BigQuery ML, RecSys, Recommender, Pipeline, Vertex AI, MLOps]  \n",
    "format:\n",
    "  html:\n",
    "    toc: true\n",
    "    toc-depth: 3\n",
    "    \n",
    "---"
   ]
  },
  {
   "cell_type": "markdown",
   "metadata": {},
   "source": [
    "## Overview"
   ]
  },
  {
   "cell_type": "markdown",
   "metadata": {},
   "source": [
    "[Part 1](bqml_vertex_recsys___part1.qmd) was about creating a Vertex AI pipeline for training and deploying Matrix Factorization model using BigQuery ML.  \n",
    "  \n",
    "We ended with a model we can use from BigQuery, but that is also available as a Cloud Run endpoint, deployed as a Docker container.\n",
    "\n",
    "::: {.callout-note}\n",
    "This notebook is better suited for running in Colab.\n",
    ":::"
   ]
  },
  {
   "cell_type": "markdown",
   "metadata": {},
   "source": [
    "## Authenticate"
   ]
  },
  {
   "cell_type": "code",
   "execution_count": null,
   "metadata": {},
   "outputs": [],
   "source": [
    "#| eval: false\n",
    "from google.colab import auth\n",
    "\n",
    "auth.authenticate_user()"
   ]
  },
  {
   "cell_type": "code",
   "execution_count": 13,
   "metadata": {},
   "outputs": [
    {
     "name": "stdout",
     "output_type": "stream",
     "text": [
      "env: GOOGLE_APPLICATION_CREDENTIALS=./creds/pythonapi-205723-43fb3e6400c5.json\n"
     ]
    }
   ],
   "source": [
    "#| echo: false\n",
    "#| output: false\n",
    "%env GOOGLE_APPLICATION_CREDENTIALS ./creds/pythonapi-205723-43fb3e6400c5.json"
   ]
  },
  {
   "cell_type": "code",
   "execution_count": 15,
   "metadata": {},
   "outputs": [
    {
     "name": "stdout",
     "output_type": "stream",
     "text": [
      "<google.oauth2.service_account.Credentials object at 0x7f0722797fd0> pythonapi-205723\n"
     ]
    }
   ],
   "source": [
    "#| output: false\n",
    "#| echo: false\n",
    "import google.auth\n",
    "credentials, project_id = google.auth.default()\n",
    "print(credentials, project_id)"
   ]
  },
  {
   "cell_type": "markdown",
   "metadata": {},
   "source": [
    "## Get recommendations from deployed endpoint"
   ]
  },
  {
   "cell_type": "markdown",
   "metadata": {},
   "source": [
    "As defined in part 1, the service was deployed as `recommender-model`."
   ]
  },
  {
   "cell_type": "code",
   "execution_count": 3,
   "metadata": {},
   "outputs": [],
   "source": [
    "#| eval: false\n",
    "SERVICE = \"recommender-model\"\n",
    "REGION = 'us-central1'\n",
    "PROJECT_ID = \"[your-project-id]\""
   ]
  },
  {
   "cell_type": "markdown",
   "metadata": {},
   "source": [
    "To get the endpoint url, you can navigate to Cloud Run console (insert your Project ID):  \n",
    "  \n",
    "[https://console.cloud.google.com/run/detail/<REGION>/recommender-model/metrics?project=[PROJECT_ID]]()  \n",
    "  \n",
    "Or you can run the following command:"
   ]
  },
  {
   "cell_type": "code",
   "execution_count": 16,
   "metadata": {},
   "outputs": [],
   "source": [
    "#| eval: false\n",
    "service_url = ! gcloud run services describe {SERVICE} --platform managed --region {REGION} --format 'value(status.url)'\n",
    "service_url = service_url[0] + \"/v1/models/recommender_model:predict\"\n",
    "service_url"
   ]
  },
  {
   "cell_type": "markdown",
   "metadata": {},
   "source": [
    "And the endpoint should look something like this:  \n",
    "`https://recommender-model-<ENDPOINT_ID>-uc.a.run.app/v1/models/recommender_model:predict`"
   ]
  },
  {
   "cell_type": "markdown",
   "metadata": {},
   "source": [
    "### Call the deployed model endpoint\n",
    "\n",
    "To call the API simply use `curl`. In this case we get recommendations for the `user_id` equals `1`:  "
   ]
  },
  {
   "cell_type": "code",
   "execution_count": null,
   "metadata": {},
   "outputs": [],
   "source": [
    "#| eval: false\n",
    "! curl --header \"Content-Type: application/json\" \\\n",
    "  --request POST \\\n",
    "  --data '{\"instances\": [{\"user_id\": 1}]}' \\\n",
    "  https://recommender-model-<ENDPOINT_ID>-uc.a.run.app/v1/models/recommender_model:predict"
   ]
  },
  {
   "cell_type": "code",
   "execution_count": 7,
   "metadata": {},
   "outputs": [
    {
     "name": "stdout",
     "output_type": "stream",
     "text": [
      "{\n",
      "    \"predictions\": [\n",
      "        {\n",
      "            \"predicted_rating\": [7.1595457186221525, 6.931200454403859, 6.7487105522542379, 6.6099371431826093, 6.3368375925279663, 6.3162291916598949, 6.2034087300038294, 6.1908018877869777, 6.095065519595515, 6.0748385283824344, 6.0707896719918022, 6.0115152056191317, 5.9950883198035312, 5.9266960142259579, 5.8977393292303706, 5.8963543166167049, 5.8879213166109317, 5.8651216371567951, 5.8157813717342961, 5.7918400837633026, 5.7728366859651743, 5.7459233895973343, 5.7286289144902627, 5.7236862593334399, 5.6735891385114323, 5.6712837959564055, 5.6344651298840862, 5.6144777548802312, 5.6136065773986719, 5.5966244955484585, 5.5826125214031448, 5.5438993473737597, 5.5405328509132108, 5.5156535458862912, 5.5060371378140998, 5.4983916934699879, 5.4779312652757479, 5.4381644519356804, 5.436539915444734, 5.4274984607954586, 5.4162018042063238, 5.4131954911985822, 5.4112950178511134, 5.3977833272890878, 5.3924309392602101, 5.3921355023131454, 5.3795566101479775, 5.3784815662419794, 5.3724805166998593, 5.3716275159116167],\n",
      "            \"predicted_item_id\": [\"3382\", \"3920\", \"2178\", \"662\", \"469\", \"199\", \"215\", \"2073\", \"881\", \"3132\", \"1900\", \"1615\", \"3141\", \"2928\", \"445\", \"973\", \"3605\", \"766\", \"935\", \"1841\", \"2330\", \"944\", \"2314\", \"3447\", \"2171\", \"3327\", \"2419\", \"2351\", \"557\", \"3720\", \"156\", \"2066\", \"2475\", \"2970\", \"26\", \"2360\", \"3018\", \"2272\", \"2506\", \"3670\", \"1631\", \"414\", \"2165\", \"1177\", \"2264\", \"743\", \"2725\", \"1934\", \"2710\", \"3275\"]\n",
      "        }\n",
      "    ]\n",
      "}"
     ]
    }
   ],
   "source": [
    "#| echo: false\n",
    "#| output: true\n",
    "## RENDER ONLY THE OUTPUT\n",
    "# the var ENDPOINT_ID was created in the shell as\n",
    "# export ENDPOINT_ID=<ENDPOINT_ID>\n",
    "! curl --header \"Content-Type: application/json\" \\\n",
    "  --request POST \\\n",
    "  --data '{\"instances\": [{\"user_id\": 1}]}' \\\n",
    "  https://recommender-model-${ENDPOINT_ID}-uc.a.run.app/v1/models/recommender_model:predict"
   ]
  },
  {
   "cell_type": "code",
   "execution_count": 27,
   "metadata": {},
   "outputs": [],
   "source": [
    "#| echo: false\n",
    "#| output: false\n",
    "endpoint_predictions = ! curl --header \"Content-Type: application/json\" \\\n",
    "  --request POST \\\n",
    "  --data '{\"instances\": [{\"user_id\": 1}]}' \\\n",
    "  https://recommender-model-${ENDPOINT_ID}-uc.a.run.app/v1/models/recommender_model:predict"
   ]
  },
  {
   "cell_type": "markdown",
   "metadata": {},
   "source": [
    "Which return the top 50 items (movies) by predicted rating for the specified user."
   ]
  },
  {
   "cell_type": "code",
   "execution_count": 49,
   "metadata": {},
   "outputs": [],
   "source": [
    "#| echo: false\n",
    "#| output: true\n",
    "import json\n",
    "import pandas as pd\n",
    "endpoint_predictions_df = pd.DataFrame(json.loads(\"\".join(endpoint_predictions[6:]))['predictions'][0])"
   ]
  },
  {
   "cell_type": "markdown",
   "metadata": {},
   "source": [
    "After processing the output, we can get a dataframe like this (remember this are predictions for user_id=1):"
   ]
  },
  {
   "cell_type": "code",
   "execution_count": 47,
   "metadata": {},
   "outputs": [
    {
     "data": {
      "text/html": [
       "<div>\n",
       "<style scoped>\n",
       "    .dataframe tbody tr th:only-of-type {\n",
       "        vertical-align: middle;\n",
       "    }\n",
       "\n",
       "    .dataframe tbody tr th {\n",
       "        vertical-align: top;\n",
       "    }\n",
       "\n",
       "    .dataframe thead th {\n",
       "        text-align: right;\n",
       "    }\n",
       "</style>\n",
       "<table border=\"1\" class=\"dataframe\">\n",
       "  <thead>\n",
       "    <tr style=\"text-align: right;\">\n",
       "      <th></th>\n",
       "      <th>predicted_rating</th>\n",
       "      <th>predicted_item_id</th>\n",
       "    </tr>\n",
       "  </thead>\n",
       "  <tbody>\n",
       "    <tr>\n",
       "      <th>0</th>\n",
       "      <td>7.159546</td>\n",
       "      <td>3382</td>\n",
       "    </tr>\n",
       "    <tr>\n",
       "      <th>1</th>\n",
       "      <td>6.931200</td>\n",
       "      <td>3920</td>\n",
       "    </tr>\n",
       "    <tr>\n",
       "      <th>2</th>\n",
       "      <td>6.748711</td>\n",
       "      <td>2178</td>\n",
       "    </tr>\n",
       "    <tr>\n",
       "      <th>3</th>\n",
       "      <td>6.609937</td>\n",
       "      <td>662</td>\n",
       "    </tr>\n",
       "    <tr>\n",
       "      <th>4</th>\n",
       "      <td>6.336838</td>\n",
       "      <td>469</td>\n",
       "    </tr>\n",
       "    <tr>\n",
       "      <th>5</th>\n",
       "      <td>6.316229</td>\n",
       "      <td>199</td>\n",
       "    </tr>\n",
       "    <tr>\n",
       "      <th>6</th>\n",
       "      <td>6.203409</td>\n",
       "      <td>215</td>\n",
       "    </tr>\n",
       "    <tr>\n",
       "      <th>7</th>\n",
       "      <td>6.190802</td>\n",
       "      <td>2073</td>\n",
       "    </tr>\n",
       "    <tr>\n",
       "      <th>8</th>\n",
       "      <td>6.095066</td>\n",
       "      <td>881</td>\n",
       "    </tr>\n",
       "    <tr>\n",
       "      <th>9</th>\n",
       "      <td>6.074839</td>\n",
       "      <td>3132</td>\n",
       "    </tr>\n",
       "  </tbody>\n",
       "</table>\n",
       "</div>"
      ],
      "text/plain": [
       "   predicted_rating predicted_item_id\n",
       "0          7.159546              3382\n",
       "1          6.931200              3920\n",
       "2          6.748711              2178\n",
       "3          6.609937               662\n",
       "4          6.336838               469\n",
       "5          6.316229               199\n",
       "6          6.203409               215\n",
       "7          6.190802              2073\n",
       "8          6.095066               881\n",
       "9          6.074839              3132"
      ]
     },
     "execution_count": 47,
     "metadata": {},
     "output_type": "execute_result"
    }
   ],
   "source": [
    "endpoint_predictions_df.head(10)"
   ]
  },
  {
   "cell_type": "markdown",
   "metadata": {},
   "source": [
    "## BigQuery"
   ]
  },
  {
   "cell_type": "markdown",
   "metadata": {},
   "source": [
    "### Authenticate to BigQuery"
   ]
  },
  {
   "cell_type": "code",
   "execution_count": 8,
   "metadata": {},
   "outputs": [],
   "source": [
    "#| echo: false\n",
    "PROJECT_ID = project_id"
   ]
  },
  {
   "cell_type": "code",
   "execution_count": 9,
   "metadata": {},
   "outputs": [],
   "source": [
    "from google.cloud import bigquery\n",
    "client = bigquery.Client(project=PROJECT_ID)"
   ]
  },
  {
   "cell_type": "markdown",
   "metadata": {},
   "source": [
    "#### Set the same parameters as in Part 1"
   ]
  },
  {
   "cell_type": "code",
   "execution_count": 10,
   "metadata": {},
   "outputs": [],
   "source": [
    "#| echo: false\n",
    "MODEL_DATASET = 'bqml_modelos'\n",
    "MOVIELENS_DATASET = 'movielens'"
   ]
  },
  {
   "cell_type": "code",
   "execution_count": null,
   "metadata": {},
   "outputs": [],
   "source": [
    "#| eval: false\n",
    "MODEL_DATASET = \"[bq-model-dataset]\"  # @param {type:\"string\"}\n",
    "MOVIELENS_DATASET = \"[bq-data-dataset]\"  # @param {type:\"string\"}"
   ]
  },
  {
   "cell_type": "markdown",
   "metadata": {},
   "source": [
    "### Query the data tables"
   ]
  },
  {
   "cell_type": "code",
   "execution_count": 11,
   "metadata": {},
   "outputs": [
    {
     "data": {
      "text/html": [
       "<div>\n",
       "<style scoped>\n",
       "    .dataframe tbody tr th:only-of-type {\n",
       "        vertical-align: middle;\n",
       "    }\n",
       "\n",
       "    .dataframe tbody tr th {\n",
       "        vertical-align: top;\n",
       "    }\n",
       "\n",
       "    .dataframe thead th {\n",
       "        text-align: right;\n",
       "    }\n",
       "</style>\n",
       "<table border=\"1\" class=\"dataframe\">\n",
       "  <thead>\n",
       "    <tr style=\"text-align: right;\">\n",
       "      <th></th>\n",
       "      <th>movie_id</th>\n",
       "      <th>movie_title</th>\n",
       "      <th>genre</th>\n",
       "    </tr>\n",
       "  </thead>\n",
       "  <tbody>\n",
       "    <tr>\n",
       "      <th>0</th>\n",
       "      <td>632</td>\n",
       "      <td>Land and Freedom (Tierra y libertad) (1995)</td>\n",
       "      <td>War</td>\n",
       "    </tr>\n",
       "    <tr>\n",
       "      <th>1</th>\n",
       "      <td>665</td>\n",
       "      <td>Underground (1995)</td>\n",
       "      <td>War</td>\n",
       "    </tr>\n",
       "    <tr>\n",
       "      <th>2</th>\n",
       "      <td>760</td>\n",
       "      <td>Stalingrad (1993)</td>\n",
       "      <td>War</td>\n",
       "    </tr>\n",
       "    <tr>\n",
       "      <th>3</th>\n",
       "      <td>777</td>\n",
       "      <td>Pharaoh's Army (1995)</td>\n",
       "      <td>War</td>\n",
       "    </tr>\n",
       "    <tr>\n",
       "      <th>4</th>\n",
       "      <td>1450</td>\n",
       "      <td>Prisoner of the Mountains (Kavkazsky Plennik) ...</td>\n",
       "      <td>War</td>\n",
       "    </tr>\n",
       "  </tbody>\n",
       "</table>\n",
       "</div>"
      ],
      "text/plain": [
       "   movie_id                                        movie_title genre\n",
       "0       632        Land and Freedom (Tierra y libertad) (1995)   War\n",
       "1       665                                 Underground (1995)   War\n",
       "2       760                                  Stalingrad (1993)   War\n",
       "3       777                              Pharaoh's Army (1995)   War\n",
       "4      1450  Prisoner of the Mountains (Kavkazsky Plennik) ...   War"
      ]
     },
     "execution_count": 11,
     "metadata": {},
     "output_type": "execute_result"
    }
   ],
   "source": [
    "movies_df = client.query(f'''\n",
    "  SELECT *\n",
    "  FROM `{MOVIELENS_DATASET}.movie_titles`\n",
    "''').to_dataframe()\n",
    "movies_df.head()"
   ]
  },
  {
   "cell_type": "code",
   "execution_count": 17,
   "metadata": {},
   "outputs": [
    {
     "data": {
      "text/html": [
       "<div>\n",
       "<style scoped>\n",
       "    .dataframe tbody tr th:only-of-type {\n",
       "        vertical-align: middle;\n",
       "    }\n",
       "\n",
       "    .dataframe tbody tr th {\n",
       "        vertical-align: top;\n",
       "    }\n",
       "\n",
       "    .dataframe thead th {\n",
       "        text-align: right;\n",
       "    }\n",
       "</style>\n",
       "<table border=\"1\" class=\"dataframe\">\n",
       "  <thead>\n",
       "    <tr style=\"text-align: right;\">\n",
       "      <th></th>\n",
       "      <th>user_id</th>\n",
       "      <th>rating</th>\n",
       "      <th>item_id</th>\n",
       "      <th>movie_title</th>\n",
       "      <th>genre</th>\n",
       "    </tr>\n",
       "  </thead>\n",
       "  <tbody>\n",
       "    <tr>\n",
       "      <th>0</th>\n",
       "      <td>1</td>\n",
       "      <td>5.0</td>\n",
       "      <td>1193</td>\n",
       "      <td>One Flew Over the Cuckoo's Nest (1975)</td>\n",
       "      <td>Drama</td>\n",
       "    </tr>\n",
       "    <tr>\n",
       "      <th>1</th>\n",
       "      <td>1</td>\n",
       "      <td>5.0</td>\n",
       "      <td>2355</td>\n",
       "      <td>Bug's Life, A (1998)</td>\n",
       "      <td>Animation|Children's|Comedy</td>\n",
       "    </tr>\n",
       "    <tr>\n",
       "      <th>2</th>\n",
       "      <td>1</td>\n",
       "      <td>5.0</td>\n",
       "      <td>1287</td>\n",
       "      <td>Ben-Hur (1959)</td>\n",
       "      <td>Action|Adventure|Drama</td>\n",
       "    </tr>\n",
       "    <tr>\n",
       "      <th>3</th>\n",
       "      <td>1</td>\n",
       "      <td>5.0</td>\n",
       "      <td>2804</td>\n",
       "      <td>Christmas Story, A (1983)</td>\n",
       "      <td>Comedy|Drama</td>\n",
       "    </tr>\n",
       "    <tr>\n",
       "      <th>4</th>\n",
       "      <td>1</td>\n",
       "      <td>5.0</td>\n",
       "      <td>595</td>\n",
       "      <td>Beauty and the Beast (1991)</td>\n",
       "      <td>Animation|Children's|Musical</td>\n",
       "    </tr>\n",
       "  </tbody>\n",
       "</table>\n",
       "</div>"
      ],
      "text/plain": [
       "   user_id  rating  item_id                             movie_title  \\\n",
       "0        1     5.0     1193  One Flew Over the Cuckoo's Nest (1975)   \n",
       "1        1     5.0     2355                    Bug's Life, A (1998)   \n",
       "2        1     5.0     1287                          Ben-Hur (1959)   \n",
       "3        1     5.0     2804               Christmas Story, A (1983)   \n",
       "4        1     5.0      595             Beauty and the Beast (1991)   \n",
       "\n",
       "                          genre  \n",
       "0                         Drama  \n",
       "1   Animation|Children's|Comedy  \n",
       "2        Action|Adventure|Drama  \n",
       "3                  Comedy|Drama  \n",
       "4  Animation|Children's|Musical  "
      ]
     },
     "execution_count": 17,
     "metadata": {},
     "output_type": "execute_result"
    }
   ],
   "source": [
    "user_ratings_df = client.query(f'''\n",
    "  SELECT t1.user_id, t1.rating, t1.item_id, t2.movie_title, t2.genre\n",
    "  FROM `{MOVIELENS_DATASET}.movielens_1m` t1\n",
    "  LEFT JOIN {MOVIELENS_DATASET}.movie_titles t2\n",
    "  ON t1.item_id=t2.movie_id\n",
    "  --WHERE t1.user_id=1\n",
    "  ORDER BY rating DESC\n",
    "''').to_dataframe()\n",
    "user_ratings_df.head()"
   ]
  },
  {
   "cell_type": "markdown",
   "metadata": {},
   "source": [
    "### Information about model(s) created"
   ]
  },
  {
   "cell_type": "code",
   "execution_count": 22,
   "metadata": {},
   "outputs": [
    {
     "name": "stdout",
     "output_type": "stream",
     "text": [
      "Models contained in 'bqml_modelos':\n",
      "pythonapi-205723.bqml_modelos.mf_model_pipe_01\n",
      "pythonapi-205723.bqml_modelos.mf_model_pipe_02\n",
      "pythonapi-205723.bqml_modelos.mf_model_pipe_03\n"
     ]
    }
   ],
   "source": [
    "models = client.list_models(MODEL_DATASET)\n",
    "print(\"Models contained in '{}':\".format(MODEL_DATASET))\n",
    "\n",
    "models_fmid = []\n",
    "for model in models:\n",
    "    full_model_id = f\"{model.project}.{model.dataset_id}.{model.model_id}\"\n",
    "    models_fmid.append(full_model_id)\n",
    "\n",
    "    print(f\"{full_model_id}\")"
   ]
  },
  {
   "cell_type": "markdown",
   "metadata": {},
   "source": [
    "As you can see, I created three models in `bqml_modelos` dataset."
   ]
  },
  {
   "cell_type": "code",
   "execution_count": 23,
   "metadata": {},
   "outputs": [
    {
     "data": {
      "text/plain": [
       "Model(reference=ModelReference(project_id='pythonapi-205723', dataset_id='bqml_modelos', model_id='mf_model_pipe_01'))"
      ]
     },
     "execution_count": 23,
     "metadata": {},
     "output_type": "execute_result"
    }
   ],
   "source": [
    "client.get_model(models_fmid[0])"
   ]
  },
  {
   "cell_type": "code",
   "execution_count": 24,
   "metadata": {},
   "outputs": [
    {
     "data": {
      "text/plain": [
       "'MATRIX_FACTORIZATION'"
      ]
     },
     "execution_count": 24,
     "metadata": {},
     "output_type": "execute_result"
    }
   ],
   "source": [
    "model.model_type"
   ]
  },
  {
   "cell_type": "markdown",
   "metadata": {},
   "source": [
    "### Training statistics"
   ]
  },
  {
   "cell_type": "code",
   "execution_count": 25,
   "metadata": {},
   "outputs": [
    {
     "data": {
      "text/html": [
       "<div>\n",
       "<style scoped>\n",
       "    .dataframe tbody tr th:only-of-type {\n",
       "        vertical-align: middle;\n",
       "    }\n",
       "\n",
       "    .dataframe tbody tr th {\n",
       "        vertical-align: top;\n",
       "    }\n",
       "\n",
       "    .dataframe thead th {\n",
       "        text-align: right;\n",
       "    }\n",
       "</style>\n",
       "<table border=\"1\" class=\"dataframe\">\n",
       "  <thead>\n",
       "    <tr style=\"text-align: right;\">\n",
       "      <th></th>\n",
       "      <th>training_run</th>\n",
       "      <th>iteration</th>\n",
       "      <th>loss</th>\n",
       "      <th>eval_loss</th>\n",
       "      <th>duration_ms</th>\n",
       "    </tr>\n",
       "  </thead>\n",
       "  <tbody>\n",
       "    <tr>\n",
       "      <th>0</th>\n",
       "      <td>0</td>\n",
       "      <td>15</td>\n",
       "      <td>0.259132</td>\n",
       "      <td>NaN</td>\n",
       "      <td>64410</td>\n",
       "    </tr>\n",
       "    <tr>\n",
       "      <th>1</th>\n",
       "      <td>0</td>\n",
       "      <td>14</td>\n",
       "      <td>0.261374</td>\n",
       "      <td>NaN</td>\n",
       "      <td>107980</td>\n",
       "    </tr>\n",
       "    <tr>\n",
       "      <th>2</th>\n",
       "      <td>0</td>\n",
       "      <td>13</td>\n",
       "      <td>0.265850</td>\n",
       "      <td>NaN</td>\n",
       "      <td>60169</td>\n",
       "    </tr>\n",
       "    <tr>\n",
       "      <th>3</th>\n",
       "      <td>0</td>\n",
       "      <td>12</td>\n",
       "      <td>0.268827</td>\n",
       "      <td>NaN</td>\n",
       "      <td>29616</td>\n",
       "    </tr>\n",
       "    <tr>\n",
       "      <th>4</th>\n",
       "      <td>0</td>\n",
       "      <td>11</td>\n",
       "      <td>0.274483</td>\n",
       "      <td>NaN</td>\n",
       "      <td>57306</td>\n",
       "    </tr>\n",
       "    <tr>\n",
       "      <th>5</th>\n",
       "      <td>0</td>\n",
       "      <td>10</td>\n",
       "      <td>0.278608</td>\n",
       "      <td>NaN</td>\n",
       "      <td>117195</td>\n",
       "    </tr>\n",
       "    <tr>\n",
       "      <th>6</th>\n",
       "      <td>0</td>\n",
       "      <td>9</td>\n",
       "      <td>0.286101</td>\n",
       "      <td>NaN</td>\n",
       "      <td>59622</td>\n",
       "    </tr>\n",
       "    <tr>\n",
       "      <th>7</th>\n",
       "      <td>0</td>\n",
       "      <td>8</td>\n",
       "      <td>0.292234</td>\n",
       "      <td>NaN</td>\n",
       "      <td>115613</td>\n",
       "    </tr>\n",
       "    <tr>\n",
       "      <th>8</th>\n",
       "      <td>0</td>\n",
       "      <td>7</td>\n",
       "      <td>0.302932</td>\n",
       "      <td>NaN</td>\n",
       "      <td>62337</td>\n",
       "    </tr>\n",
       "    <tr>\n",
       "      <th>9</th>\n",
       "      <td>0</td>\n",
       "      <td>6</td>\n",
       "      <td>0.313072</td>\n",
       "      <td>NaN</td>\n",
       "      <td>101301</td>\n",
       "    </tr>\n",
       "    <tr>\n",
       "      <th>10</th>\n",
       "      <td>0</td>\n",
       "      <td>5</td>\n",
       "      <td>0.330243</td>\n",
       "      <td>NaN</td>\n",
       "      <td>131648</td>\n",
       "    </tr>\n",
       "    <tr>\n",
       "      <th>11</th>\n",
       "      <td>0</td>\n",
       "      <td>4</td>\n",
       "      <td>0.350469</td>\n",
       "      <td>NaN</td>\n",
       "      <td>118377</td>\n",
       "    </tr>\n",
       "    <tr>\n",
       "      <th>12</th>\n",
       "      <td>0</td>\n",
       "      <td>3</td>\n",
       "      <td>0.385341</td>\n",
       "      <td>NaN</td>\n",
       "      <td>55254</td>\n",
       "    </tr>\n",
       "    <tr>\n",
       "      <th>13</th>\n",
       "      <td>0</td>\n",
       "      <td>2</td>\n",
       "      <td>0.449968</td>\n",
       "      <td>NaN</td>\n",
       "      <td>103391</td>\n",
       "    </tr>\n",
       "    <tr>\n",
       "      <th>14</th>\n",
       "      <td>0</td>\n",
       "      <td>1</td>\n",
       "      <td>0.581976</td>\n",
       "      <td>NaN</td>\n",
       "      <td>64919</td>\n",
       "    </tr>\n",
       "    <tr>\n",
       "      <th>15</th>\n",
       "      <td>0</td>\n",
       "      <td>0</td>\n",
       "      <td>4.047567</td>\n",
       "      <td>NaN</td>\n",
       "      <td>168618</td>\n",
       "    </tr>\n",
       "  </tbody>\n",
       "</table>\n",
       "</div>"
      ],
      "text/plain": [
       "    training_run  iteration      loss  eval_loss  duration_ms\n",
       "0              0         15  0.259132        NaN        64410\n",
       "1              0         14  0.261374        NaN       107980\n",
       "2              0         13  0.265850        NaN        60169\n",
       "3              0         12  0.268827        NaN        29616\n",
       "4              0         11  0.274483        NaN        57306\n",
       "5              0         10  0.278608        NaN       117195\n",
       "6              0          9  0.286101        NaN        59622\n",
       "7              0          8  0.292234        NaN       115613\n",
       "8              0          7  0.302932        NaN        62337\n",
       "9              0          6  0.313072        NaN       101301\n",
       "10             0          5  0.330243        NaN       131648\n",
       "11             0          4  0.350469        NaN       118377\n",
       "12             0          3  0.385341        NaN        55254\n",
       "13             0          2  0.449968        NaN       103391\n",
       "14             0          1  0.581976        NaN        64919\n",
       "15             0          0  4.047567        NaN       168618"
      ]
     },
     "execution_count": 25,
     "metadata": {},
     "output_type": "execute_result"
    }
   ],
   "source": [
    "client.query(f'''\n",
    "  SELECT *\n",
    "  FROM ML.TRAINING_INFO(MODEL `{models_fmid[2]}`)\n",
    "''').to_dataframe()"
   ]
  },
  {
   "cell_type": "markdown",
   "metadata": {},
   "source": [
    "### Evaluation"
   ]
  },
  {
   "cell_type": "code",
   "execution_count": 26,
   "metadata": {},
   "outputs": [
    {
     "data": {
      "text/html": [
       "<div>\n",
       "<style scoped>\n",
       "    .dataframe tbody tr th:only-of-type {\n",
       "        vertical-align: middle;\n",
       "    }\n",
       "\n",
       "    .dataframe tbody tr th {\n",
       "        vertical-align: top;\n",
       "    }\n",
       "\n",
       "    .dataframe thead th {\n",
       "        text-align: right;\n",
       "    }\n",
       "</style>\n",
       "<table border=\"1\" class=\"dataframe\">\n",
       "  <thead>\n",
       "    <tr style=\"text-align: right;\">\n",
       "      <th></th>\n",
       "      <th>mean_absolute_error</th>\n",
       "      <th>mean_squared_error</th>\n",
       "      <th>mean_squared_log_error</th>\n",
       "      <th>median_absolute_error</th>\n",
       "      <th>r2_score</th>\n",
       "      <th>explained_variance</th>\n",
       "    </tr>\n",
       "  </thead>\n",
       "  <tbody>\n",
       "    <tr>\n",
       "      <th>0</th>\n",
       "      <td>0.382252</td>\n",
       "      <td>0.259132</td>\n",
       "      <td>0.016406</td>\n",
       "      <td>0.293064</td>\n",
       "      <td>0.792348</td>\n",
       "      <td>0.792348</td>\n",
       "    </tr>\n",
       "  </tbody>\n",
       "</table>\n",
       "</div>"
      ],
      "text/plain": [
       "   mean_absolute_error  mean_squared_error  mean_squared_log_error  \\\n",
       "0             0.382252            0.259132                0.016406   \n",
       "\n",
       "   median_absolute_error  r2_score  explained_variance  \n",
       "0               0.293064  0.792348            0.792348  "
      ]
     },
     "execution_count": 26,
     "metadata": {},
     "output_type": "execute_result"
    }
   ],
   "source": [
    "client.query(f'''\n",
    "SELECT *\n",
    "FROM ML.EVALUATE(MODEL `{models_fmid[2]}`,\n",
    "    (\n",
    "    SELECT\n",
    "      user_id,\n",
    "      item_id,\n",
    "      rating\n",
    "     FROM\n",
    "      {MOVIELENS_DATASET}.movielens_1m))\n",
    "''').to_dataframe()"
   ]
  },
  {
   "cell_type": "markdown",
   "metadata": {},
   "source": [
    "## Rating predictions\n",
    "\n",
    "Lets get predicted ratings for all user-item pairs.\n",
    "\n",
    "::: {.callout-note}\n",
    "This query generates a predicted rating for every user-item pair. As a result, this can be a rather large output. It is recommended that the output is saved in a table which is then used in other queries for analysis.\n",
    ":::\n",
    "\n",
    "Lets create one table to store all predictions called `recommend_m2_1m` and another one with top predictions by user called `recommend_m2_1m_top`."
   ]
  },
  {
   "cell_type": "code",
   "execution_count": null,
   "metadata": {},
   "outputs": [],
   "source": [
    "#| eval: false\n",
    "recommend_m2_1m_df = client.query(f'''\n",
    "SELECT *\n",
    "FROM ML.RECOMMEND(MODEL bqml_modelos.mf_model_pipe_03)\n",
    "''').to_dataframe()"
   ]
  },
  {
   "cell_type": "code",
   "execution_count": 50,
   "metadata": {},
   "outputs": [],
   "source": [
    "#| echo: false\n",
    "#| output: false\n",
    "\n",
    "recommend_m2_1m_df = client.query(f'''\n",
    "  SELECT *\n",
    "  FROM `{MODEL_DATASET}.recommend_m2_1m`\n",
    "''').to_dataframe()"
   ]
  },
  {
   "cell_type": "code",
   "execution_count": 51,
   "metadata": {},
   "outputs": [
    {
     "data": {
      "text/html": [
       "<div>\n",
       "<style scoped>\n",
       "    .dataframe tbody tr th:only-of-type {\n",
       "        vertical-align: middle;\n",
       "    }\n",
       "\n",
       "    .dataframe tbody tr th {\n",
       "        vertical-align: top;\n",
       "    }\n",
       "\n",
       "    .dataframe thead th {\n",
       "        text-align: right;\n",
       "    }\n",
       "</style>\n",
       "<table border=\"1\" class=\"dataframe\">\n",
       "  <thead>\n",
       "    <tr style=\"text-align: right;\">\n",
       "      <th></th>\n",
       "      <th>predicted_rating</th>\n",
       "      <th>user_id</th>\n",
       "      <th>item_id</th>\n",
       "    </tr>\n",
       "  </thead>\n",
       "  <tbody>\n",
       "    <tr>\n",
       "      <th>0</th>\n",
       "      <td>3.489891</td>\n",
       "      <td>3575</td>\n",
       "      <td>1376</td>\n",
       "    </tr>\n",
       "    <tr>\n",
       "      <th>1</th>\n",
       "      <td>6.627501</td>\n",
       "      <td>2213</td>\n",
       "      <td>1362</td>\n",
       "    </tr>\n",
       "    <tr>\n",
       "      <th>2</th>\n",
       "      <td>2.694415</td>\n",
       "      <td>5876</td>\n",
       "      <td>1330</td>\n",
       "    </tr>\n",
       "    <tr>\n",
       "      <th>3</th>\n",
       "      <td>-1.662953</td>\n",
       "      <td>4817</td>\n",
       "      <td>3042</td>\n",
       "    </tr>\n",
       "    <tr>\n",
       "      <th>4</th>\n",
       "      <td>2.208275</td>\n",
       "      <td>5448</td>\n",
       "      <td>563</td>\n",
       "    </tr>\n",
       "    <tr>\n",
       "      <th>...</th>\n",
       "      <td>...</td>\n",
       "      <td>...</td>\n",
       "      <td>...</td>\n",
       "    </tr>\n",
       "    <tr>\n",
       "      <th>22384235</th>\n",
       "      <td>3.183006</td>\n",
       "      <td>933</td>\n",
       "      <td>2282</td>\n",
       "    </tr>\n",
       "    <tr>\n",
       "      <th>22384236</th>\n",
       "      <td>1.201612</td>\n",
       "      <td>5843</td>\n",
       "      <td>391</td>\n",
       "    </tr>\n",
       "    <tr>\n",
       "      <th>22384237</th>\n",
       "      <td>2.886981</td>\n",
       "      <td>4321</td>\n",
       "      <td>3525</td>\n",
       "    </tr>\n",
       "    <tr>\n",
       "      <th>22384238</th>\n",
       "      <td>2.488141</td>\n",
       "      <td>1000</td>\n",
       "      <td>2881</td>\n",
       "    </tr>\n",
       "    <tr>\n",
       "      <th>22384239</th>\n",
       "      <td>2.805384</td>\n",
       "      <td>5148</td>\n",
       "      <td>1049</td>\n",
       "    </tr>\n",
       "  </tbody>\n",
       "</table>\n",
       "<p>22384240 rows × 3 columns</p>\n",
       "</div>"
      ],
      "text/plain": [
       "          predicted_rating  user_id  item_id\n",
       "0                 3.489891     3575     1376\n",
       "1                 6.627501     2213     1362\n",
       "2                 2.694415     5876     1330\n",
       "3                -1.662953     4817     3042\n",
       "4                 2.208275     5448      563\n",
       "...                    ...      ...      ...\n",
       "22384235          3.183006      933     2282\n",
       "22384236          1.201612     5843      391\n",
       "22384237          2.886981     4321     3525\n",
       "22384238          2.488141     1000     2881\n",
       "22384239          2.805384     5148     1049\n",
       "\n",
       "[22384240 rows x 3 columns]"
      ]
     },
     "execution_count": 51,
     "metadata": {},
     "output_type": "execute_result"
    }
   ],
   "source": [
    "recommend_m2_1m_df"
   ]
  },
  {
   "cell_type": "code",
   "execution_count": 59,
   "metadata": {},
   "outputs": [
    {
     "name": "stdout",
     "output_type": "stream",
     "text": [
      "Number of users: 6,040\n",
      "Number of movies: 3,706\n"
     ]
    }
   ],
   "source": [
    "print(f\"Number of users: {len(user_ratings_df.user_id.unique()):,}\")\n",
    "print(f\"Number of movies: {len(user_ratings_df.item_id.unique()):,}\")\n",
    "assert len(user_ratings_df.user_id.unique()) * len(user_ratings_df.item_id.unique()) == len(recommend_m2_1m_df)"
   ]
  },
  {
   "cell_type": "markdown",
   "metadata": {},
   "source": [
    "As we can see, the full table has 22,384,240 rows, equals to 6,040 users x 3,706 movies."
   ]
  },
  {
   "cell_type": "markdown",
   "metadata": {},
   "source": [
    "### Compare to endpoint results"
   ]
  },
  {
   "cell_type": "code",
   "execution_count": 69,
   "metadata": {},
   "outputs": [
    {
     "data": {
      "text/html": [
       "<div>\n",
       "<style scoped>\n",
       "    .dataframe tbody tr th:only-of-type {\n",
       "        vertical-align: middle;\n",
       "    }\n",
       "\n",
       "    .dataframe tbody tr th {\n",
       "        vertical-align: top;\n",
       "    }\n",
       "\n",
       "    .dataframe thead th {\n",
       "        text-align: right;\n",
       "    }\n",
       "</style>\n",
       "<table border=\"1\" class=\"dataframe\">\n",
       "  <thead>\n",
       "    <tr style=\"text-align: right;\">\n",
       "      <th></th>\n",
       "      <th>predicted_rating</th>\n",
       "      <th>user_id</th>\n",
       "      <th>item_id</th>\n",
       "    </tr>\n",
       "  </thead>\n",
       "  <tbody>\n",
       "    <tr>\n",
       "      <th>50602</th>\n",
       "      <td>7.159546</td>\n",
       "      <td>1</td>\n",
       "      <td>3382</td>\n",
       "    </tr>\n",
       "    <tr>\n",
       "      <th>22190133</th>\n",
       "      <td>6.931200</td>\n",
       "      <td>1</td>\n",
       "      <td>3920</td>\n",
       "    </tr>\n",
       "    <tr>\n",
       "      <th>5356399</th>\n",
       "      <td>6.748711</td>\n",
       "      <td>1</td>\n",
       "      <td>2178</td>\n",
       "    </tr>\n",
       "    <tr>\n",
       "      <th>15157835</th>\n",
       "      <td>6.609937</td>\n",
       "      <td>1</td>\n",
       "      <td>662</td>\n",
       "    </tr>\n",
       "    <tr>\n",
       "      <th>4687764</th>\n",
       "      <td>6.336838</td>\n",
       "      <td>1</td>\n",
       "      <td>469</td>\n",
       "    </tr>\n",
       "    <tr>\n",
       "      <th>17892355</th>\n",
       "      <td>6.316229</td>\n",
       "      <td>1</td>\n",
       "      <td>199</td>\n",
       "    </tr>\n",
       "    <tr>\n",
       "      <th>1365223</th>\n",
       "      <td>6.203409</td>\n",
       "      <td>1</td>\n",
       "      <td>215</td>\n",
       "    </tr>\n",
       "    <tr>\n",
       "      <th>16742143</th>\n",
       "      <td>6.190802</td>\n",
       "      <td>1</td>\n",
       "      <td>2073</td>\n",
       "    </tr>\n",
       "    <tr>\n",
       "      <th>8094661</th>\n",
       "      <td>6.095066</td>\n",
       "      <td>1</td>\n",
       "      <td>881</td>\n",
       "    </tr>\n",
       "    <tr>\n",
       "      <th>21623544</th>\n",
       "      <td>6.074839</td>\n",
       "      <td>1</td>\n",
       "      <td>3132</td>\n",
       "    </tr>\n",
       "  </tbody>\n",
       "</table>\n",
       "</div>"
      ],
      "text/plain": [
       "          predicted_rating  user_id  item_id\n",
       "50602             7.159546        1     3382\n",
       "22190133          6.931200        1     3920\n",
       "5356399           6.748711        1     2178\n",
       "15157835          6.609937        1      662\n",
       "4687764           6.336838        1      469\n",
       "17892355          6.316229        1      199\n",
       "1365223           6.203409        1      215\n",
       "16742143          6.190802        1     2073\n",
       "8094661           6.095066        1      881\n",
       "21623544          6.074839        1     3132"
      ]
     },
     "execution_count": 69,
     "metadata": {},
     "output_type": "execute_result"
    }
   ],
   "source": [
    "recommend_m2_1m_df[recommend_m2_1m_df.user_id==1].sort_values(by='predicted_rating', ascending=False).head(10)"
   ]
  },
  {
   "cell_type": "code",
   "execution_count": 70,
   "metadata": {},
   "outputs": [
    {
     "data": {
      "text/html": [
       "<div>\n",
       "<style scoped>\n",
       "    .dataframe tbody tr th:only-of-type {\n",
       "        vertical-align: middle;\n",
       "    }\n",
       "\n",
       "    .dataframe tbody tr th {\n",
       "        vertical-align: top;\n",
       "    }\n",
       "\n",
       "    .dataframe thead th {\n",
       "        text-align: right;\n",
       "    }\n",
       "</style>\n",
       "<table border=\"1\" class=\"dataframe\">\n",
       "  <thead>\n",
       "    <tr style=\"text-align: right;\">\n",
       "      <th></th>\n",
       "      <th>predicted_rating</th>\n",
       "      <th>predicted_item_id</th>\n",
       "    </tr>\n",
       "  </thead>\n",
       "  <tbody>\n",
       "    <tr>\n",
       "      <th>0</th>\n",
       "      <td>7.159546</td>\n",
       "      <td>3382</td>\n",
       "    </tr>\n",
       "    <tr>\n",
       "      <th>1</th>\n",
       "      <td>6.931200</td>\n",
       "      <td>3920</td>\n",
       "    </tr>\n",
       "    <tr>\n",
       "      <th>2</th>\n",
       "      <td>6.748711</td>\n",
       "      <td>2178</td>\n",
       "    </tr>\n",
       "    <tr>\n",
       "      <th>3</th>\n",
       "      <td>6.609937</td>\n",
       "      <td>662</td>\n",
       "    </tr>\n",
       "    <tr>\n",
       "      <th>4</th>\n",
       "      <td>6.336838</td>\n",
       "      <td>469</td>\n",
       "    </tr>\n",
       "    <tr>\n",
       "      <th>5</th>\n",
       "      <td>6.316229</td>\n",
       "      <td>199</td>\n",
       "    </tr>\n",
       "    <tr>\n",
       "      <th>6</th>\n",
       "      <td>6.203409</td>\n",
       "      <td>215</td>\n",
       "    </tr>\n",
       "    <tr>\n",
       "      <th>7</th>\n",
       "      <td>6.190802</td>\n",
       "      <td>2073</td>\n",
       "    </tr>\n",
       "    <tr>\n",
       "      <th>8</th>\n",
       "      <td>6.095066</td>\n",
       "      <td>881</td>\n",
       "    </tr>\n",
       "    <tr>\n",
       "      <th>9</th>\n",
       "      <td>6.074839</td>\n",
       "      <td>3132</td>\n",
       "    </tr>\n",
       "  </tbody>\n",
       "</table>\n",
       "</div>"
      ],
      "text/plain": [
       "   predicted_rating predicted_item_id\n",
       "0          7.159546              3382\n",
       "1          6.931200              3920\n",
       "2          6.748711              2178\n",
       "3          6.609937               662\n",
       "4          6.336838               469\n",
       "5          6.316229               199\n",
       "6          6.203409               215\n",
       "7          6.190802              2073\n",
       "8          6.095066               881\n",
       "9          6.074839              3132"
      ]
     },
     "execution_count": 70,
     "metadata": {},
     "output_type": "execute_result"
    }
   ],
   "source": [
    "endpoint_predictions_df.head(10)"
   ]
  },
  {
   "cell_type": "markdown",
   "metadata": {},
   "source": [
    "For `user_id=1` and `item_id=3382`, the predicted rating is `7.159546`."
   ]
  },
  {
   "cell_type": "markdown",
   "metadata": {},
   "source": [
    "## Latent Factors (Embeddings) and Bias\n",
    "\n",
    "The matrix factorization model trained in BigQuery ML returns a predicted rating as the following equation:\n",
    "\n",
    "`predicted = Global Bias + DotProduct(user_factors, item_factors) + user_bias + item_bias`\n",
    "\n",
    "Where `Global Bias` is a constant for all the pairs, `user_factors` and `item_factors` are vectors with 60 dimensions (as definied in the training process) and `user_bias` and `item_bias` are a distinct number for each user and for each item."
   ]
  },
  {
   "cell_type": "markdown",
   "metadata": {},
   "source": [
    "### Global Bias"
   ]
  },
  {
   "cell_type": "code",
   "execution_count": 72,
   "metadata": {},
   "outputs": [],
   "source": [
    "global_bias = client.query(f\"\"\"\n",
    "    SELECT intercept\n",
    "    FROM ML.WEIGHTS(model {MODEL_DATASET}.mf_model_pipe_03)\n",
    "    WHERE feature = 'global__INTERCEPT__'\n",
    "\"\"\").to_dataframe()"
   ]
  },
  {
   "cell_type": "code",
   "execution_count": 77,
   "metadata": {},
   "outputs": [
    {
     "data": {
      "text/plain": [
       "array([3.58156445])"
      ]
     },
     "execution_count": 77,
     "metadata": {},
     "output_type": "execute_result"
    }
   ],
   "source": [
    "global_bias_np = global_bias.loc[0].values\n",
    "global_bias_np"
   ]
  },
  {
   "cell_type": "markdown",
   "metadata": {},
   "source": [
    "### Movie Embeddings"
   ]
  },
  {
   "cell_type": "code",
   "execution_count": 78,
   "metadata": {},
   "outputs": [],
   "source": [
    "item_factors_df = client.query(f\"\"\"\n",
    "    SELECT feature AS item_id, intercept AS bias, fw.factor AS factor, fw.weight\n",
    "    FROM ML.WEIGHTS(model {MODEL_DATASET}.mf_model_pipe_03),\n",
    "    UNNEST(factor_weights) AS fw\n",
    "    WHERE processed_input = 'item_id'\n",
    "\"\"\").to_dataframe()"
   ]
  },
  {
   "cell_type": "code",
   "execution_count": 79,
   "metadata": {},
   "outputs": [
    {
     "data": {
      "text/html": [
       "<div>\n",
       "<style scoped>\n",
       "    .dataframe tbody tr th:only-of-type {\n",
       "        vertical-align: middle;\n",
       "    }\n",
       "\n",
       "    .dataframe tbody tr th {\n",
       "        vertical-align: top;\n",
       "    }\n",
       "\n",
       "    .dataframe thead th {\n",
       "        text-align: right;\n",
       "    }\n",
       "</style>\n",
       "<table border=\"1\" class=\"dataframe\">\n",
       "  <thead>\n",
       "    <tr style=\"text-align: right;\">\n",
       "      <th></th>\n",
       "      <th>item_id</th>\n",
       "      <th>bias</th>\n",
       "      <th>factor</th>\n",
       "      <th>weight</th>\n",
       "    </tr>\n",
       "  </thead>\n",
       "  <tbody>\n",
       "    <tr>\n",
       "      <th>0</th>\n",
       "      <td>2</td>\n",
       "      <td>-0.393036</td>\n",
       "      <td>60</td>\n",
       "      <td>-0.113832</td>\n",
       "    </tr>\n",
       "    <tr>\n",
       "      <th>1</th>\n",
       "      <td>2</td>\n",
       "      <td>-0.393036</td>\n",
       "      <td>59</td>\n",
       "      <td>0.048548</td>\n",
       "    </tr>\n",
       "    <tr>\n",
       "      <th>2</th>\n",
       "      <td>2</td>\n",
       "      <td>-0.393036</td>\n",
       "      <td>58</td>\n",
       "      <td>-0.112024</td>\n",
       "    </tr>\n",
       "    <tr>\n",
       "      <th>3</th>\n",
       "      <td>2</td>\n",
       "      <td>-0.393036</td>\n",
       "      <td>57</td>\n",
       "      <td>0.118971</td>\n",
       "    </tr>\n",
       "    <tr>\n",
       "      <th>4</th>\n",
       "      <td>2</td>\n",
       "      <td>-0.393036</td>\n",
       "      <td>56</td>\n",
       "      <td>-0.050817</td>\n",
       "    </tr>\n",
       "    <tr>\n",
       "      <th>...</th>\n",
       "      <td>...</td>\n",
       "      <td>...</td>\n",
       "      <td>...</td>\n",
       "      <td>...</td>\n",
       "    </tr>\n",
       "    <tr>\n",
       "      <th>222355</th>\n",
       "      <td>3833</td>\n",
       "      <td>-1.592288</td>\n",
       "      <td>5</td>\n",
       "      <td>0.123739</td>\n",
       "    </tr>\n",
       "    <tr>\n",
       "      <th>222356</th>\n",
       "      <td>3833</td>\n",
       "      <td>-1.592288</td>\n",
       "      <td>4</td>\n",
       "      <td>0.234778</td>\n",
       "    </tr>\n",
       "    <tr>\n",
       "      <th>222357</th>\n",
       "      <td>3833</td>\n",
       "      <td>-1.592288</td>\n",
       "      <td>3</td>\n",
       "      <td>-0.296197</td>\n",
       "    </tr>\n",
       "    <tr>\n",
       "      <th>222358</th>\n",
       "      <td>3833</td>\n",
       "      <td>-1.592288</td>\n",
       "      <td>2</td>\n",
       "      <td>0.502392</td>\n",
       "    </tr>\n",
       "    <tr>\n",
       "      <th>222359</th>\n",
       "      <td>3833</td>\n",
       "      <td>-1.592288</td>\n",
       "      <td>1</td>\n",
       "      <td>-0.232240</td>\n",
       "    </tr>\n",
       "  </tbody>\n",
       "</table>\n",
       "<p>222360 rows × 4 columns</p>\n",
       "</div>"
      ],
      "text/plain": [
       "       item_id      bias  factor    weight\n",
       "0            2 -0.393036      60 -0.113832\n",
       "1            2 -0.393036      59  0.048548\n",
       "2            2 -0.393036      58 -0.112024\n",
       "3            2 -0.393036      57  0.118971\n",
       "4            2 -0.393036      56 -0.050817\n",
       "...        ...       ...     ...       ...\n",
       "222355    3833 -1.592288       5  0.123739\n",
       "222356    3833 -1.592288       4  0.234778\n",
       "222357    3833 -1.592288       3 -0.296197\n",
       "222358    3833 -1.592288       2  0.502392\n",
       "222359    3833 -1.592288       1 -0.232240\n",
       "\n",
       "[222360 rows x 4 columns]"
      ]
     },
     "execution_count": 79,
     "metadata": {},
     "output_type": "execute_result"
    }
   ],
   "source": [
    "item_factors_df"
   ]
  },
  {
   "cell_type": "markdown",
   "metadata": {},
   "source": [
    "### User Embeddings"
   ]
  },
  {
   "cell_type": "code",
   "execution_count": 80,
   "metadata": {},
   "outputs": [],
   "source": [
    "user_factors_df = client.query(\"\"\"\n",
    "    SELECT feature AS user_id, intercept AS bias, fw.factor AS factor, fw.weight\n",
    "    FROM ML.WEIGHTS(model bqml_modelos.mf_model_pipe_03),\n",
    "    UNNEST(factor_weights) AS fw\n",
    "    WHERE processed_input = 'user_id'\n",
    "\"\"\").to_dataframe()"
   ]
  },
  {
   "cell_type": "code",
   "execution_count": 81,
   "metadata": {},
   "outputs": [
    {
     "data": {
      "text/html": [
       "<div>\n",
       "<style scoped>\n",
       "    .dataframe tbody tr th:only-of-type {\n",
       "        vertical-align: middle;\n",
       "    }\n",
       "\n",
       "    .dataframe tbody tr th {\n",
       "        vertical-align: top;\n",
       "    }\n",
       "\n",
       "    .dataframe thead th {\n",
       "        text-align: right;\n",
       "    }\n",
       "</style>\n",
       "<table border=\"1\" class=\"dataframe\">\n",
       "  <thead>\n",
       "    <tr style=\"text-align: right;\">\n",
       "      <th></th>\n",
       "      <th>user_id</th>\n",
       "      <th>bias</th>\n",
       "      <th>factor</th>\n",
       "      <th>weight</th>\n",
       "    </tr>\n",
       "  </thead>\n",
       "  <tbody>\n",
       "    <tr>\n",
       "      <th>0</th>\n",
       "      <td>256</td>\n",
       "      <td>0.255283</td>\n",
       "      <td>60</td>\n",
       "      <td>0.713645</td>\n",
       "    </tr>\n",
       "    <tr>\n",
       "      <th>1</th>\n",
       "      <td>256</td>\n",
       "      <td>0.255283</td>\n",
       "      <td>59</td>\n",
       "      <td>1.387058</td>\n",
       "    </tr>\n",
       "    <tr>\n",
       "      <th>2</th>\n",
       "      <td>256</td>\n",
       "      <td>0.255283</td>\n",
       "      <td>58</td>\n",
       "      <td>-0.567324</td>\n",
       "    </tr>\n",
       "    <tr>\n",
       "      <th>3</th>\n",
       "      <td>256</td>\n",
       "      <td>0.255283</td>\n",
       "      <td>57</td>\n",
       "      <td>-0.709545</td>\n",
       "    </tr>\n",
       "    <tr>\n",
       "      <th>4</th>\n",
       "      <td>256</td>\n",
       "      <td>0.255283</td>\n",
       "      <td>56</td>\n",
       "      <td>-1.813568</td>\n",
       "    </tr>\n",
       "    <tr>\n",
       "      <th>...</th>\n",
       "      <td>...</td>\n",
       "      <td>...</td>\n",
       "      <td>...</td>\n",
       "      <td>...</td>\n",
       "    </tr>\n",
       "    <tr>\n",
       "      <th>362395</th>\n",
       "      <td>5887</td>\n",
       "      <td>-0.408196</td>\n",
       "      <td>5</td>\n",
       "      <td>1.493551</td>\n",
       "    </tr>\n",
       "    <tr>\n",
       "      <th>362396</th>\n",
       "      <td>5887</td>\n",
       "      <td>-0.408196</td>\n",
       "      <td>4</td>\n",
       "      <td>0.960923</td>\n",
       "    </tr>\n",
       "    <tr>\n",
       "      <th>362397</th>\n",
       "      <td>5887</td>\n",
       "      <td>-0.408196</td>\n",
       "      <td>3</td>\n",
       "      <td>-2.272016</td>\n",
       "    </tr>\n",
       "    <tr>\n",
       "      <th>362398</th>\n",
       "      <td>5887</td>\n",
       "      <td>-0.408196</td>\n",
       "      <td>2</td>\n",
       "      <td>0.393577</td>\n",
       "    </tr>\n",
       "    <tr>\n",
       "      <th>362399</th>\n",
       "      <td>5887</td>\n",
       "      <td>-0.408196</td>\n",
       "      <td>1</td>\n",
       "      <td>-2.099104</td>\n",
       "    </tr>\n",
       "  </tbody>\n",
       "</table>\n",
       "<p>362400 rows × 4 columns</p>\n",
       "</div>"
      ],
      "text/plain": [
       "       user_id      bias  factor    weight\n",
       "0          256  0.255283      60  0.713645\n",
       "1          256  0.255283      59  1.387058\n",
       "2          256  0.255283      58 -0.567324\n",
       "3          256  0.255283      57 -0.709545\n",
       "4          256  0.255283      56 -1.813568\n",
       "...        ...       ...     ...       ...\n",
       "362395    5887 -0.408196       5  1.493551\n",
       "362396    5887 -0.408196       4  0.960923\n",
       "362397    5887 -0.408196       3 -2.272016\n",
       "362398    5887 -0.408196       2  0.393577\n",
       "362399    5887 -0.408196       1 -2.099104\n",
       "\n",
       "[362400 rows x 4 columns]"
      ]
     },
     "execution_count": 81,
     "metadata": {},
     "output_type": "execute_result"
    }
   ],
   "source": [
    "user_factors_df"
   ]
  },
  {
   "cell_type": "markdown",
   "metadata": {},
   "source": [
    "### Do the math for a prediction\n",
    "\n",
    "We already saw that for `user_id=1` and `item_id=3382`, the predicted rating is `7.159546`. Let's do the math:"
   ]
  },
  {
   "cell_type": "code",
   "execution_count": 87,
   "metadata": {},
   "outputs": [
    {
     "data": {
      "text/plain": [
       "(array([0.04259326]),\n",
       " array([ 0.72214304, -1.06488835, -0.35848901, -0.08184539, -0.34282946]),\n",
       " (60,))"
      ]
     },
     "execution_count": 87,
     "metadata": {},
     "output_type": "execute_result"
    }
   ],
   "source": [
    "user_1_factors = user_factors_df[user_factors_df.user_id=='1'].weight.to_numpy()\n",
    "user_1_bias = user_factors_df[user_factors_df.user_id=='1'].bias.to_numpy()[:1]\n",
    "user_1_bias, user_1_factors[:5], user_1_factors.shape"
   ]
  },
  {
   "cell_type": "code",
   "execution_count": 88,
   "metadata": {},
   "outputs": [
    {
     "data": {
      "text/plain": [
       "(array([3.535388]),\n",
       " array([ 1.38777878e-17,  3.03576608e-18, -2.81892565e-18,  1.73472348e-18,\n",
       "        -5.02894452e-17]),\n",
       " (60,))"
      ]
     },
     "execution_count": 88,
     "metadata": {},
     "output_type": "execute_result"
    }
   ],
   "source": [
    "item_3382_factors = item_factors_df[item_factors_df.item_id==\"3382\"].weight.to_numpy()\n",
    "item_3382_bias = item_factors_df[item_factors_df.item_id==\"3382\"].bias.to_numpy()[:1]\n",
    "item_3382_bias, item_3382_factors[:5], item_3382_factors.shape"
   ]
  },
  {
   "cell_type": "code",
   "execution_count": 92,
   "metadata": {},
   "outputs": [
    {
     "data": {
      "text/plain": [
       "array([7.15954572])"
      ]
     },
     "execution_count": 92,
     "metadata": {},
     "output_type": "execute_result"
    }
   ],
   "source": [
    "import numpy as np\n",
    "global_bias_np + np.dot(user_1_factors, item_3382_factors) + user_1_bias + item_3382_bias"
   ]
  },
  {
   "cell_type": "markdown",
   "metadata": {},
   "source": [
    "There it is, same value for the predicted rating."
   ]
  },
  {
   "cell_type": "markdown",
   "metadata": {},
   "source": [
    "## Full Pair Predictions"
   ]
  },
  {
   "cell_type": "code",
   "execution_count": 94,
   "metadata": {},
   "outputs": [],
   "source": [
    "# Change type\n",
    "user_factors_df[['user_id', 'factor']] = user_factors_df[['user_id', 'factor']].astype('int')\n",
    "\n",
    "# Bias for each user\n",
    "user_bias_df = user_factors_df.groupby('user_id')['bias'].max().reset_index()"
   ]
  },
  {
   "cell_type": "code",
   "execution_count": 98,
   "metadata": {},
   "outputs": [],
   "source": [
    "# Change type\n",
    "item_factors_df[['item_id', 'factor']] = item_factors_df[['item_id', 'factor']].astype('int')\n",
    "\n",
    "# Bias for each movie\n",
    "item_bias_df = item_factors_df.groupby('item_id')['bias'].max().reset_index()"
   ]
  },
  {
   "cell_type": "markdown",
   "metadata": {},
   "source": [
    "#### Convert to numpy"
   ]
  },
  {
   "cell_type": "code",
   "execution_count": 96,
   "metadata": {},
   "outputs": [
    {
     "data": {
      "text/plain": [
       "((6040,), (6040, 60))"
      ]
     },
     "execution_count": 96,
     "metadata": {},
     "output_type": "execute_result"
    }
   ],
   "source": [
    "# bias\n",
    "user_bias_np = user_bias_df.sort_values(\"user_id\", ascending=True).bias.to_numpy()\n",
    "# embeddings\n",
    "user_factors_np = user_factors_df.sort_values(\n",
    "    [\"user_id\", \"factor\"], ascending=[True, False]\n",
    ").weight.to_numpy().reshape((6_040, 60))\n",
    "\n",
    "user_bias_np.shape, user_factors_np.shape"
   ]
  },
  {
   "cell_type": "code",
   "execution_count": 99,
   "metadata": {},
   "outputs": [
    {
     "data": {
      "text/plain": [
       "((3706,), (3706, 60))"
      ]
     },
     "execution_count": 99,
     "metadata": {},
     "output_type": "execute_result"
    }
   ],
   "source": [
    "# bias\n",
    "item_bias_np = item_bias_df.sort_values(\"item_id\", ascending=True).bias.to_numpy()\n",
    "# embeddings\n",
    "item_factors_np = item_factors_df.sort_values(\n",
    "    [\"item_id\", \"factor\"], ascending=[True, False]\n",
    ").weight.to_numpy().reshape((3_706, 60))\n",
    "\n",
    "item_bias_np.shape, item_factors_np.shape"
   ]
  },
  {
   "cell_type": "markdown",
   "metadata": {},
   "source": [
    "#### Map `user_id` and `item_id` to numpy indices"
   ]
  },
  {
   "cell_type": "code",
   "execution_count": 108,
   "metadata": {},
   "outputs": [],
   "source": [
    "idx2item_id = {idx: item_id for idx, item_id in zip(item_bias_df.index, item_bias_df.item_id)}"
   ]
  },
  {
   "cell_type": "markdown",
   "metadata": {},
   "source": [
    "### User Item interaction"
   ]
  },
  {
   "cell_type": "code",
   "execution_count": 104,
   "metadata": {},
   "outputs": [
    {
     "data": {
      "text/plain": [
       "(6040, 3706)"
      ]
     },
     "execution_count": 104,
     "metadata": {},
     "output_type": "execute_result"
    }
   ],
   "source": [
    "user_items_interactions = global_bias_np + np.dot(\n",
    "    user_factors_np, item_factors_np.T\n",
    ") + user_bias_np[:,None] + item_bias_np[None,:] \n",
    "\n",
    "user_items_interactions.shape"
   ]
  },
  {
   "cell_type": "markdown",
   "metadata": {},
   "source": [
    "So, `user_id=1` is the index 0 for the numpy array."
   ]
  },
  {
   "cell_type": "code",
   "execution_count": 111,
   "metadata": {},
   "outputs": [
    {
     "data": {
      "text/plain": [
       "[3382, 3920, 2178, 662, 469, 199, 215, 2073, 881, 3132]"
      ]
     },
     "execution_count": 111,
     "metadata": {},
     "output_type": "execute_result"
    }
   ],
   "source": [
    "top_10_1 = user_items_interactions[0].argsort()[-10:][::-1]\n",
    "[idx2item_id[idx] for idx in top_10_1]"
   ]
  },
  {
   "cell_type": "code",
   "execution_count": 112,
   "metadata": {},
   "outputs": [
    {
     "data": {
      "text/html": [
       "<div>\n",
       "<style scoped>\n",
       "    .dataframe tbody tr th:only-of-type {\n",
       "        vertical-align: middle;\n",
       "    }\n",
       "\n",
       "    .dataframe tbody tr th {\n",
       "        vertical-align: top;\n",
       "    }\n",
       "\n",
       "    .dataframe thead th {\n",
       "        text-align: right;\n",
       "    }\n",
       "</style>\n",
       "<table border=\"1\" class=\"dataframe\">\n",
       "  <thead>\n",
       "    <tr style=\"text-align: right;\">\n",
       "      <th></th>\n",
       "      <th>predicted_rating</th>\n",
       "      <th>predicted_item_id</th>\n",
       "    </tr>\n",
       "  </thead>\n",
       "  <tbody>\n",
       "    <tr>\n",
       "      <th>0</th>\n",
       "      <td>7.159546</td>\n",
       "      <td>3382</td>\n",
       "    </tr>\n",
       "    <tr>\n",
       "      <th>1</th>\n",
       "      <td>6.931200</td>\n",
       "      <td>3920</td>\n",
       "    </tr>\n",
       "    <tr>\n",
       "      <th>2</th>\n",
       "      <td>6.748711</td>\n",
       "      <td>2178</td>\n",
       "    </tr>\n",
       "    <tr>\n",
       "      <th>3</th>\n",
       "      <td>6.609937</td>\n",
       "      <td>662</td>\n",
       "    </tr>\n",
       "    <tr>\n",
       "      <th>4</th>\n",
       "      <td>6.336838</td>\n",
       "      <td>469</td>\n",
       "    </tr>\n",
       "    <tr>\n",
       "      <th>5</th>\n",
       "      <td>6.316229</td>\n",
       "      <td>199</td>\n",
       "    </tr>\n",
       "    <tr>\n",
       "      <th>6</th>\n",
       "      <td>6.203409</td>\n",
       "      <td>215</td>\n",
       "    </tr>\n",
       "    <tr>\n",
       "      <th>7</th>\n",
       "      <td>6.190802</td>\n",
       "      <td>2073</td>\n",
       "    </tr>\n",
       "    <tr>\n",
       "      <th>8</th>\n",
       "      <td>6.095066</td>\n",
       "      <td>881</td>\n",
       "    </tr>\n",
       "    <tr>\n",
       "      <th>9</th>\n",
       "      <td>6.074839</td>\n",
       "      <td>3132</td>\n",
       "    </tr>\n",
       "  </tbody>\n",
       "</table>\n",
       "</div>"
      ],
      "text/plain": [
       "   predicted_rating predicted_item_id\n",
       "0          7.159546              3382\n",
       "1          6.931200              3920\n",
       "2          6.748711              2178\n",
       "3          6.609937               662\n",
       "4          6.336838               469\n",
       "5          6.316229               199\n",
       "6          6.203409               215\n",
       "7          6.190802              2073\n",
       "8          6.095066               881\n",
       "9          6.074839              3132"
      ]
     },
     "execution_count": 112,
     "metadata": {},
     "output_type": "execute_result"
    }
   ],
   "source": [
    "endpoint_predictions_df.head(10)"
   ]
  },
  {
   "cell_type": "markdown",
   "metadata": {},
   "source": [
    "Same Top item_id from the endpoint. We are doing fine."
   ]
  },
  {
   "cell_type": "markdown",
   "metadata": {},
   "source": [
    "### Top 10 predictions for each pair"
   ]
  },
  {
   "cell_type": "code",
   "execution_count": 113,
   "metadata": {},
   "outputs": [
    {
     "data": {
      "text/plain": [
       "array([[3152, 3673, 1997, ..., 1892,  823, 2916],\n",
       "       [3258, 3191, 2758, ...,  447, 2719, 1917],\n",
       "       [1763,  668,  984, ..., 3152, 1917, 1860],\n",
       "       ...,\n",
       "       [3152, 3504, 2122, ..., 2232, 1470,  543],\n",
       "       [ 986, 2964,  856, ...,  616, 2118, 2684],\n",
       "       [3237, 1298, 3579, ..., 2925, 2732, 1451]])"
      ]
     },
     "execution_count": 113,
     "metadata": {},
     "output_type": "execute_result"
    }
   ],
   "source": [
    "top_10_idxs = np.argsort(user_items_interactions, axis=1)[:,::-1][:,:10]\n",
    "top_10_idxs"
   ]
  },
  {
   "cell_type": "markdown",
   "metadata": {},
   "source": [
    "Top 10 ratings for `user_id=1`"
   ]
  },
  {
   "cell_type": "code",
   "execution_count": 114,
   "metadata": {},
   "outputs": [
    {
     "data": {
      "text/plain": [
       "array([7.15954572, 6.93120045, 6.74871055, 6.60993714, 6.33683759,\n",
       "       6.31622919, 6.20340873, 6.19080189, 6.09506552, 6.07483853])"
      ]
     },
     "execution_count": 114,
     "metadata": {},
     "output_type": "execute_result"
    }
   ],
   "source": [
    "user_items_interactions[0][top_10_idxs[0]]"
   ]
  },
  {
   "cell_type": "code",
   "execution_count": 126,
   "metadata": {},
   "outputs": [
    {
     "data": {
      "text/html": [
       "<div>\n",
       "<style scoped>\n",
       "    .dataframe tbody tr th:only-of-type {\n",
       "        vertical-align: middle;\n",
       "    }\n",
       "\n",
       "    .dataframe tbody tr th {\n",
       "        vertical-align: top;\n",
       "    }\n",
       "\n",
       "    .dataframe thead th {\n",
       "        text-align: right;\n",
       "    }\n",
       "</style>\n",
       "<table border=\"1\" class=\"dataframe\">\n",
       "  <thead>\n",
       "    <tr style=\"text-align: right;\">\n",
       "      <th></th>\n",
       "      <th>movie_id</th>\n",
       "      <th>movie_title</th>\n",
       "      <th>genre</th>\n",
       "      <th>predicted_rating</th>\n",
       "    </tr>\n",
       "  </thead>\n",
       "  <tbody>\n",
       "    <tr>\n",
       "      <th>0</th>\n",
       "      <td>3382</td>\n",
       "      <td>Song of Freedom (1936)</td>\n",
       "      <td>Drama</td>\n",
       "      <td>7.159546</td>\n",
       "    </tr>\n",
       "    <tr>\n",
       "      <th>1</th>\n",
       "      <td>3920</td>\n",
       "      <td>Faraway, So Close (In Weiter Ferne, So Nah!) (...</td>\n",
       "      <td>Drama|Fantasy</td>\n",
       "      <td>6.931200</td>\n",
       "    </tr>\n",
       "    <tr>\n",
       "      <th>2</th>\n",
       "      <td>2178</td>\n",
       "      <td>Frenzy (1972)</td>\n",
       "      <td>Thriller</td>\n",
       "      <td>6.748711</td>\n",
       "    </tr>\n",
       "    <tr>\n",
       "      <th>3</th>\n",
       "      <td>662</td>\n",
       "      <td>Fear (1996)</td>\n",
       "      <td>Thriller</td>\n",
       "      <td>6.609937</td>\n",
       "    </tr>\n",
       "    <tr>\n",
       "      <th>4</th>\n",
       "      <td>469</td>\n",
       "      <td>House of the Spirits, The (1993)</td>\n",
       "      <td>Drama|Romance</td>\n",
       "      <td>6.336838</td>\n",
       "    </tr>\n",
       "    <tr>\n",
       "      <th>5</th>\n",
       "      <td>199</td>\n",
       "      <td>Umbrellas of Cherbourg, The (Parapluies de Che...</td>\n",
       "      <td>Drama|Musical</td>\n",
       "      <td>6.316229</td>\n",
       "    </tr>\n",
       "    <tr>\n",
       "      <th>6</th>\n",
       "      <td>215</td>\n",
       "      <td>Before Sunrise (1995)</td>\n",
       "      <td>Drama|Romance</td>\n",
       "      <td>6.203409</td>\n",
       "    </tr>\n",
       "    <tr>\n",
       "      <th>7</th>\n",
       "      <td>2073</td>\n",
       "      <td>Fandango (1985)</td>\n",
       "      <td>Comedy</td>\n",
       "      <td>6.190802</td>\n",
       "    </tr>\n",
       "    <tr>\n",
       "      <th>8</th>\n",
       "      <td>881</td>\n",
       "      <td>First Kid (1996)</td>\n",
       "      <td>Children's|Comedy</td>\n",
       "      <td>6.095066</td>\n",
       "    </tr>\n",
       "    <tr>\n",
       "      <th>9</th>\n",
       "      <td>3132</td>\n",
       "      <td>Daddy Long Legs (1919)</td>\n",
       "      <td>Comedy</td>\n",
       "      <td>6.074839</td>\n",
       "    </tr>\n",
       "  </tbody>\n",
       "</table>\n",
       "</div>"
      ],
      "text/plain": [
       "   movie_id                                        movie_title  \\\n",
       "0      3382                             Song of Freedom (1936)   \n",
       "1      3920  Faraway, So Close (In Weiter Ferne, So Nah!) (...   \n",
       "2      2178                                      Frenzy (1972)   \n",
       "3       662                                        Fear (1996)   \n",
       "4       469                   House of the Spirits, The (1993)   \n",
       "5       199  Umbrellas of Cherbourg, The (Parapluies de Che...   \n",
       "6       215                              Before Sunrise (1995)   \n",
       "7      2073                                    Fandango (1985)   \n",
       "8       881                                   First Kid (1996)   \n",
       "9      3132                             Daddy Long Legs (1919)   \n",
       "\n",
       "               genre  predicted_rating  \n",
       "0              Drama          7.159546  \n",
       "1      Drama|Fantasy          6.931200  \n",
       "2           Thriller          6.748711  \n",
       "3           Thriller          6.609937  \n",
       "4      Drama|Romance          6.336838  \n",
       "5      Drama|Musical          6.316229  \n",
       "6      Drama|Romance          6.203409  \n",
       "7             Comedy          6.190802  \n",
       "8  Children's|Comedy          6.095066  \n",
       "9             Comedy          6.074839  "
      ]
     },
     "execution_count": 126,
     "metadata": {},
     "output_type": "execute_result"
    }
   ],
   "source": [
    "df = pd.DataFrame(top_10_idxs[0])\n",
    "df.columns = ['movie_id']\n",
    "df.movie_id = df.movie_id.map(idx2item_id)\n",
    "\n",
    "df = df.merge(movies_df)\n",
    "df['predicted_rating'] = user_items_interactions[0][top_10_idxs[0]]\n",
    "df"
   ]
  },
  {
   "cell_type": "markdown",
   "metadata": {},
   "source": [
    "## Getting Top Movies for each User from BigQuery\n",
    "\n",
    "Let's create a table containing the Top 5 movies by user."
   ]
  },
  {
   "cell_type": "code",
   "execution_count": null,
   "metadata": {},
   "outputs": [],
   "source": [
    "query = f'''SELECT\n",
    "  user_id,\n",
    "  ARRAY_AGG(STRUCT(movie_title, genre, predicted_rating)\n",
    "ORDER BY predicted_rating DESC LIMIT 5)\n",
    "FROM (\n",
    "SELECT\n",
    "  user_id,\n",
    "  item_id,\n",
    "  predicted_rating,\n",
    "  movie_title,\n",
    "  genre\n",
    "FROM\n",
    "  {MODEL_DATASET}.recommend_m2_1m\n",
    "JOIN\n",
    "  movielens.movie_titles\n",
    "ON\n",
    "  item_id = movie_id)\n",
    "GROUP BY\n",
    "  user_id\n",
    "'''\n",
    "job_config = bigquery.QueryJobConfig()\n",
    "job_config.destination = \"{PROJECT_ID}.{MODEL_DATASET}.recommend_m2_1m_top\"\n",
    "\n",
    "query_job = client.query(query, job_config)\n",
    "results = query_job.result()"
   ]
  },
  {
   "cell_type": "code",
   "execution_count": 131,
   "metadata": {},
   "outputs": [
    {
     "data": {
      "text/plain": [
       "array([{'movie_title': 'Song of Freedom (1936)', 'genre': 'Drama', 'predicted_rating': 7.1595457186221525},\n",
       "       {'movie_title': 'Faraway, So Close (In Weiter Ferne, So Nah!) (1993)', 'genre': 'Drama|Fantasy', 'predicted_rating': 6.931200454403858},\n",
       "       {'movie_title': 'Frenzy (1972)', 'genre': 'Thriller', 'predicted_rating': 6.748710552254239},\n",
       "       {'movie_title': 'Fear (1996)', 'genre': 'Thriller', 'predicted_rating': 6.609937143182611},\n",
       "       {'movie_title': 'House of the Spirits, The (1993)', 'genre': 'Drama|Romance', 'predicted_rating': 6.336837592527967}],\n",
       "      dtype=object)"
      ]
     },
     "execution_count": 131,
     "metadata": {},
     "output_type": "execute_result"
    }
   ],
   "source": [
    "items_for_user_1_df = client.query(f\"\"\"\n",
    "    SELECT * \n",
    "    FROM `{PROJECT_ID}.{MODEL_DATASET}.recommend_m2_1m_top` \n",
    "    WHERE user_id=1\n",
    "\"\"\").to_dataframe()\n",
    "\n",
    "items_for_user_1_df.f0_.loc[0]"
   ]
  }
 ],
 "metadata": {
  "kernelspec": {
   "display_name": "Python 3 (ipykernel)",
   "language": "python",
   "name": "python3"
  },
  "language_info": {
   "codemirror_mode": {
    "name": "ipython",
    "version": 3
   },
   "file_extension": ".py",
   "mimetype": "text/x-python",
   "name": "python",
   "nbconvert_exporter": "python",
   "pygments_lexer": "ipython3",
   "version": "3.9.15"
  },
  "orig_nbformat": 4
 },
 "nbformat": 4,
 "nbformat_minor": 2
}
