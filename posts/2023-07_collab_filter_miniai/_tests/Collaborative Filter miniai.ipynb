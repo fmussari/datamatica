{
 "cells": [
  {
   "cell_type": "markdown",
   "id": "bd5ddcba",
   "metadata": {},
   "source": [
    "# Collaborative Filtering using miniai"
   ]
  },
  {
   "cell_type": "markdown",
   "id": "3787939c",
   "metadata": {},
   "source": [
    "## Import Libraries"
   ]
  },
  {
   "cell_type": "code",
   "execution_count": null,
   "id": "6b717e31",
   "metadata": {},
   "outputs": [],
   "source": [
    "from miniai.datasets import DataLoaders\n",
    "from miniai.learner import MetricsCB, DeviceCB, ProgressCB, TrainLearner\n",
    "from miniai.activations import set_seed\n",
    "from miniai.sgd import BatchSchedCB, RecorderCB\n",
    "\n",
    "from torcheval.metrics import MulticlassAccuracy, Mean\n",
    "from torch.optim import AdamW, lr_scheduler\n",
    "from torch.utils.data import (\n",
    "    Dataset, DataLoader, RandomSampler, BatchSampler)\n",
    "import torch.nn as nn #Embedding, Module, MSELoss\n",
    "\n",
    "import torch.nn.functional as F"
   ]
  },
  {
   "cell_type": "code",
   "execution_count": null,
   "id": "ca830ba5",
   "metadata": {},
   "outputs": [],
   "source": [
    "import urllib.request\n",
    "import zipfile\n",
    "\n",
    "import pandas as pd\n",
    "import numpy as np\n",
    "import torch\n",
    "\n",
    "from pathlib import Path\n",
    "from functools import partial"
   ]
  },
  {
   "cell_type": "markdown",
   "id": "448d4156",
   "metadata": {},
   "source": [
    "## MovieLens 100K Dataset"
   ]
  },
  {
   "cell_type": "code",
   "execution_count": null,
   "id": "e74fff0f",
   "metadata": {},
   "outputs": [],
   "source": [
    "movielens_100K_url = 'https://files.grouplens.org/datasets/movielens/ml-100k.zip'\n",
    "\n",
    "filename = Path(movielens_100K_url).name\n",
    "zip_path = Path('.')\n",
    "extract_path = zip_path / Path(filename).stem"
   ]
  },
  {
   "cell_type": "code",
   "execution_count": null,
   "id": "c8ad324f",
   "metadata": {},
   "outputs": [
    {
     "data": {
      "text/plain": [
       "Path('.')"
      ]
     },
     "execution_count": null,
     "metadata": {},
     "output_type": "execute_result"
    }
   ],
   "source": [
    "zip_path"
   ]
  },
  {
   "cell_type": "code",
   "execution_count": null,
   "id": "c87732b0",
   "metadata": {},
   "outputs": [
    {
     "data": {
      "text/plain": [
       "True"
      ]
     },
     "execution_count": null,
     "metadata": {},
     "output_type": "execute_result"
    }
   ],
   "source": []
  },
  {
   "cell_type": "code",
   "execution_count": null,
   "id": "3e7713cd",
   "metadata": {},
   "outputs": [],
   "source": [
    "with urllib.request.urlopen(movielens_100K_url) as response:\n",
    "    with open(filename, \"wb\") as f:\n",
    "      f.write(response.read())\n",
    "    \n",
    "with zipfile.ZipFile(filename, \"r\") as zip_ref:\n",
    "    zip_ref.extractall(zip_path)"
   ]
  },
  {
   "cell_type": "code",
   "execution_count": null,
   "id": "e474d870",
   "metadata": {},
   "outputs": [
    {
     "data": {
      "text/html": [
       "<div>\n",
       "<style scoped>\n",
       "    .dataframe tbody tr th:only-of-type {\n",
       "        vertical-align: middle;\n",
       "    }\n",
       "\n",
       "    .dataframe tbody tr th {\n",
       "        vertical-align: top;\n",
       "    }\n",
       "\n",
       "    .dataframe thead th {\n",
       "        text-align: right;\n",
       "    }\n",
       "</style>\n",
       "<table border=\"1\" class=\"dataframe\">\n",
       "  <thead>\n",
       "    <tr style=\"text-align: right;\">\n",
       "      <th></th>\n",
       "      <th>user</th>\n",
       "      <th>movie</th>\n",
       "      <th>rating</th>\n",
       "      <th>title</th>\n",
       "    </tr>\n",
       "  </thead>\n",
       "  <tbody>\n",
       "    <tr>\n",
       "      <th>0</th>\n",
       "      <td>196</td>\n",
       "      <td>242</td>\n",
       "      <td>3</td>\n",
       "      <td>Kolya (1996)</td>\n",
       "    </tr>\n",
       "    <tr>\n",
       "      <th>1</th>\n",
       "      <td>63</td>\n",
       "      <td>242</td>\n",
       "      <td>3</td>\n",
       "      <td>Kolya (1996)</td>\n",
       "    </tr>\n",
       "    <tr>\n",
       "      <th>2</th>\n",
       "      <td>226</td>\n",
       "      <td>242</td>\n",
       "      <td>5</td>\n",
       "      <td>Kolya (1996)</td>\n",
       "    </tr>\n",
       "    <tr>\n",
       "      <th>3</th>\n",
       "      <td>154</td>\n",
       "      <td>242</td>\n",
       "      <td>3</td>\n",
       "      <td>Kolya (1996)</td>\n",
       "    </tr>\n",
       "    <tr>\n",
       "      <th>4</th>\n",
       "      <td>306</td>\n",
       "      <td>242</td>\n",
       "      <td>5</td>\n",
       "      <td>Kolya (1996)</td>\n",
       "    </tr>\n",
       "    <tr>\n",
       "      <th>...</th>\n",
       "      <td>...</td>\n",
       "      <td>...</td>\n",
       "      <td>...</td>\n",
       "      <td>...</td>\n",
       "    </tr>\n",
       "    <tr>\n",
       "      <th>99995</th>\n",
       "      <td>840</td>\n",
       "      <td>1674</td>\n",
       "      <td>4</td>\n",
       "      <td>Mamma Roma (1962)</td>\n",
       "    </tr>\n",
       "    <tr>\n",
       "      <th>99996</th>\n",
       "      <td>655</td>\n",
       "      <td>1640</td>\n",
       "      <td>3</td>\n",
       "      <td>Eighth Day, The (1996)</td>\n",
       "    </tr>\n",
       "    <tr>\n",
       "      <th>99997</th>\n",
       "      <td>655</td>\n",
       "      <td>1637</td>\n",
       "      <td>3</td>\n",
       "      <td>Girls Town (1996)</td>\n",
       "    </tr>\n",
       "    <tr>\n",
       "      <th>99998</th>\n",
       "      <td>655</td>\n",
       "      <td>1630</td>\n",
       "      <td>3</td>\n",
       "      <td>Silence of the Palace, The (Saimt el Qusur) (1...</td>\n",
       "    </tr>\n",
       "    <tr>\n",
       "      <th>99999</th>\n",
       "      <td>655</td>\n",
       "      <td>1641</td>\n",
       "      <td>3</td>\n",
       "      <td>Dadetown (1995)</td>\n",
       "    </tr>\n",
       "  </tbody>\n",
       "</table>\n",
       "<p>100000 rows × 4 columns</p>\n",
       "</div>"
      ],
      "text/plain": [
       "       user  movie  rating                                              title\n",
       "0       196    242       3                                       Kolya (1996)\n",
       "1        63    242       3                                       Kolya (1996)\n",
       "2       226    242       5                                       Kolya (1996)\n",
       "3       154    242       3                                       Kolya (1996)\n",
       "4       306    242       5                                       Kolya (1996)\n",
       "...     ...    ...     ...                                                ...\n",
       "99995   840   1674       4                                  Mamma Roma (1962)\n",
       "99996   655   1640       3                             Eighth Day, The (1996)\n",
       "99997   655   1637       3                                  Girls Town (1996)\n",
       "99998   655   1630       3  Silence of the Palace, The (Saimt el Qusur) (1...\n",
       "99999   655   1641       3                                    Dadetown (1995)\n",
       "\n",
       "[100000 rows x 4 columns]"
      ]
     },
     "execution_count": null,
     "metadata": {},
     "output_type": "execute_result"
    }
   ],
   "source": [
    "ratings = pd.read_csv(\n",
    "    extract_path/'u.data', delimiter='\\t', header=None,\n",
    "    usecols=(0,1,2), names=['user','movie','rating'])\n",
    "\n",
    "movies = pd.read_csv(\n",
    "    extract_path/'u.item',  delimiter='|', encoding='latin-1',\n",
    "    usecols=(0,1), names=('movie','title'), header=None)\n",
    "\n",
    "ratings = ratings.merge(movies)\n",
    "ratings"
   ]
  },
  {
   "cell_type": "code",
   "execution_count": null,
   "id": "c6fe1608",
   "metadata": {},
   "outputs": [
    {
     "name": "stdout",
     "output_type": "stream",
     "text": [
      "Number of users: 943\n",
      "Number of movies: 1682\n",
      "Number of titles: 1664\n"
     ]
    }
   ],
   "source": [
    "print(f'Number of users: {len(ratings.user.unique())}')\n",
    "print(f'Number of movies: {len(ratings.movie.unique())}')\n",
    "print(f'Number of titles: {len(ratings.title.unique())}')"
   ]
  },
  {
   "cell_type": "markdown",
   "id": "086397bb",
   "metadata": {},
   "source": [
    "## Custom Splitter\n",
    "Inspired by:  \n",
    "https://github.com/microsoft/recommenders/blob/main/recommenders/datasets/python_splitters.py\n",
    "- In \"recommenders\" library, when spliting by 'item', `python_stratified_split` puts both rows of movies with only two ratings in the training set.\n",
    "- The version I propose here puts one in the training and one in validation set."
   ]
  },
  {
   "cell_type": "code",
   "execution_count": null,
   "id": "b927e237",
   "metadata": {},
   "outputs": [],
   "source": [
    "DEFAULT_USER_COL = 'user'\n",
    "DEFAULT_ITEM_COL = 'title'\n",
    "\n",
    "def split_dataframe_by_group(\n",
    "    data:pd.DataFrame,\n",
    "    ratio:float=0.75,\n",
    "    filter_by:str=\"user\", # item or user\n",
    "    seed:int=42,\n",
    "    col_user:str=DEFAULT_USER_COL,\n",
    "    col_item:str=DEFAULT_ITEM_COL,\n",
    "    sort_column=None\n",
    "):\n",
    "    \"\"\"Return split based on 'user' or 'item' column\n",
    "    \"\"\"\n",
    "    # A few preliminary checks.\n",
    "    if not (filter_by in [\"user\", \"item\"]):\n",
    "        raise ValueError(\"filter_by should be either 'user' or 'item'.\")\n",
    "    if col_user not in data.columns:\n",
    "        raise ValueError(\"Schema of data not valid. Missing User Col\")\n",
    "    if col_item not in data.columns:\n",
    "        raise ValueError(\"Schema of data not valid. Missing Item Col\")\n",
    "\n",
    "    split_by_column = col_user if filter_by == \"user\" else col_item\n",
    "    ratio = [ratio, 1 - ratio]\n",
    "\n",
    "    df = data.copy()\n",
    "    if not sort_column:\n",
    "        np.random.seed(seed)\n",
    "        df[\"random\"] = np.random.rand(df.shape[0])\n",
    "        order_by = \"random\"\n",
    "    else:\n",
    "        order_by = sort_column\n",
    "\n",
    "    df = df.sort_values([split_by_column, order_by])\n",
    "\n",
    "    groups = df.groupby(split_by_column)\n",
    "    df[\"count\"] = groups[split_by_column].transform(\"count\")\n",
    "    df[\"rank\"] = groups.cumcount() + 1\n",
    "\n",
    "    splits = []\n",
    "    prev_threshold = None\n",
    "\n",
    "    for threshold in np.cumsum(ratio):\n",
    "        count_not_one = df['count'] != 1\n",
    "        condition = df[\"rank\"] <= threshold * df[\"count\"]\n",
    "        if prev_threshold is not None:\n",
    "            condition &= df[\"rank\"] > prev_threshold * df[\"count\"]\n",
    "\n",
    "        condition = count_not_one == condition # When 'count' equals 1, put the row in train set\n",
    "        prev_threshold = threshold\n",
    "\n",
    "        splits.append(list(df[condition].index))\n",
    "    return splits"
   ]
  },
  {
   "cell_type": "code",
   "execution_count": null,
   "id": "58dbdbb3",
   "metadata": {},
   "outputs": [],
   "source": [
    "splits = split_dataframe_by_group(\n",
    "    ratings,\n",
    "    ratio=0.8,\n",
    "    filter_by=\"item\",\n",
    "    seed=42,\n",
    "    col_user='user',\n",
    "    col_item='title'\n",
    ")"
   ]
  },
  {
   "cell_type": "code",
   "execution_count": null,
   "id": "af883624",
   "metadata": {},
   "outputs": [],
   "source": [
    "train_df = ratings.iloc[splits[0]]\n",
    "valid_df = ratings.iloc[splits[1]]"
   ]
  },
  {
   "cell_type": "code",
   "execution_count": null,
   "id": "f9b6e258",
   "metadata": {},
   "outputs": [
    {
     "name": "stdout",
     "output_type": "stream",
     "text": [
      "Number of titles with one review: 134\n",
      "Number of users in train: 943\n",
      "Number of titles in train: 1664\n",
      "Number of users in valid: 943\n",
      "Number of titles in valid: 1530\n"
     ]
    }
   ],
   "source": [
    "# number of ratings by title\n",
    "ratings['nr_title'] = ratings.groupby('title')['title'].transform('count')\n",
    "\n",
    "print(f'Number of titles with one review: {sum(ratings.nr_title==1)}')\n",
    "\n",
    "print(f'Number of users in train: {len(train_df.user.unique())}')\n",
    "print(f'Number of titles in train: {len(train_df.title.unique())}')\n",
    "\n",
    "print(f'Number of users in valid: {len(valid_df.user.unique())}')\n",
    "print(f'Number of titles in valid: {len(valid_df.title.unique())}')"
   ]
  },
  {
   "cell_type": "markdown",
   "id": "a20450b8",
   "metadata": {},
   "source": [
    "## PyTorch Dataset"
   ]
  },
  {
   "cell_type": "code",
   "execution_count": null,
   "id": "49647e36",
   "metadata": {},
   "outputs": [],
   "source": [
    "users = sorted(list(ratings[DEFAULT_USER_COL].unique()))\n",
    "titles = sorted(list(ratings[DEFAULT_ITEM_COL].unique()))\n",
    "\n",
    "uidx2user = {k:v for k,v in enumerate(users)}\n",
    "user2uidx = {k:v for v,k in uidx2user.items()}\n",
    "\n",
    "midx2title = {k:v for k,v in enumerate(titles)}\n",
    "title2midx = {k:v for v,k in midx2title.items()}"
   ]
  },
  {
   "cell_type": "code",
   "execution_count": null,
   "id": "f656a6fd",
   "metadata": {},
   "outputs": [
    {
     "data": {
      "text/plain": [
       "'2 Days in the Valley (1996)'"
      ]
     },
     "execution_count": null,
     "metadata": {},
     "output_type": "execute_result"
    }
   ],
   "source": [
    "midx2title[5]"
   ]
  },
  {
   "cell_type": "code",
   "execution_count": null,
   "id": "01827745",
   "metadata": {},
   "outputs": [
    {
     "data": {
      "text/plain": [
       "0"
      ]
     },
     "execution_count": null,
     "metadata": {},
     "output_type": "execute_result"
    }
   ],
   "source": [
    "title2midx[\"'Til There Was You (1997)\"]"
   ]
  },
  {
   "cell_type": "code",
   "execution_count": null,
   "id": "6c96ca4b",
   "metadata": {},
   "outputs": [
    {
     "data": {
      "text/plain": [
       "3"
      ]
     },
     "execution_count": null,
     "metadata": {},
     "output_type": "execute_result"
    }
   ],
   "source": [
    "ratings.iloc[0]['rating']"
   ]
  },
  {
   "cell_type": "markdown",
   "id": "e6857f5e",
   "metadata": {},
   "source": [
    "This class returns a dataset one batch at a time. The input in `__getitem__` is a list of indices and the output is a batch. This is faster thatn returning one item in each call."
   ]
  },
  {
   "cell_type": "code",
   "execution_count": null,
   "id": "38336123",
   "metadata": {},
   "outputs": [],
   "source": [
    "class CollabDataset(Dataset):\n",
    "\n",
    "    def __init__(self, df:pd.DataFrame, user_col='user', item_col='title', target='rating'):\n",
    "        self.indices = torch.tensor(df.index)\n",
    "        self.df = df[[user_col, item_col, target]]\n",
    "        self.user_col = user_col\n",
    "        self.item_col = item_col\n",
    "        self.target = target\n",
    "    \n",
    "    def __len__(self):\n",
    "        return len(self.df)\n",
    "\n",
    "    def apply_x_transforms(self):\n",
    "        users = self.df.loc[self.df_idxs][self.user_col].map(user2uidx)\n",
    "        items = self.df.loc[self.df_idxs][self.item_col].map(title2midx)\n",
    "        sample_df = pd.DataFrame(zip(users, items))\n",
    "        return torch.tensor(sample_df.values)\n",
    "\n",
    "    def apply_y_transforms(self):\n",
    "        targets = self.df.loc[self.df_idxs][self.target].values\n",
    "        return torch.tensor(targets, dtype=torch.float)\n",
    "        \n",
    "    def __getitem__(self, idx_list):\n",
    "        self.df_idxs = self.indices[idx_list]\n",
    "        x = self.apply_x_transforms()\n",
    "        y = self.apply_y_transforms()\n",
    "        return (x, y)"
   ]
  },
  {
   "cell_type": "code",
   "execution_count": null,
   "id": "7373339f",
   "metadata": {},
   "outputs": [],
   "source": [
    "train_dataset = CollabDataset(train_df)\n",
    "\n",
    "valid_dataset = CollabDataset(valid_df)"
   ]
  },
  {
   "cell_type": "code",
   "execution_count": null,
   "id": "e150a196",
   "metadata": {},
   "outputs": [
    {
     "data": {
      "text/plain": [
       "(tensor([[151,   0],\n",
       "         [531,   0],\n",
       "         [312,   3],\n",
       "         [755,   3],\n",
       "         [864,   5]]),\n",
       " tensor([4., 3., 5., 5., 1.]))"
      ]
     },
     "execution_count": null,
     "metadata": {},
     "output_type": "execute_result"
    }
   ],
   "source": [
    "train_dataset[[0, 1, 100, 101, 300]]"
   ]
  },
  {
   "cell_type": "code",
   "execution_count": null,
   "id": "0514c784",
   "metadata": {},
   "outputs": [
    {
     "data": {
      "text/plain": [
       "(tensor([[177,   0],\n",
       "         [781,   0],\n",
       "         [194,   7],\n",
       "         [801,   7],\n",
       "         [560,  24]]),\n",
       " tensor([3., 2., 5., 4., 4.]))"
      ]
     },
     "execution_count": null,
     "metadata": {},
     "output_type": "execute_result"
    }
   ],
   "source": [
    "valid_dataset[[0, 1, 100, 101, 300]]"
   ]
  },
  {
   "cell_type": "markdown",
   "id": "ccabf539",
   "metadata": {},
   "source": [
    "## PyTorch DataLoader with BatchSampler\n",
    "\n",
    "As discussed [here](https://discuss.pytorch.org/t/force-dataloader-to-fetch-batched-index-from-custom-batch-sampler/86656/2), \"`BatchSampler` will make sure to pass all batch indices to your Dataset's `__getitem__`\""
   ]
  },
  {
   "cell_type": "code",
   "execution_count": null,
   "id": "d02369ce",
   "metadata": {},
   "outputs": [],
   "source": [
    "bs = 64 * 3\n",
    "\n",
    "t_sampler = BatchSampler(\n",
    "    RandomSampler(train_dataset),\n",
    "    batch_size=bs,\n",
    "    drop_last=False)\n",
    "\n",
    "v_sampler = BatchSampler(\n",
    "    RandomSampler(valid_dataset),\n",
    "    batch_size=bs,\n",
    "    drop_last=False)"
   ]
  },
  {
   "cell_type": "code",
   "execution_count": null,
   "id": "f558d197",
   "metadata": {},
   "outputs": [],
   "source": [
    "t_dataloader = DataLoader(\n",
    "    train_dataset, sampler=t_sampler, batch_size=None, num_workers=6)\n",
    "\n",
    "v_dataloader = DataLoader(\n",
    "    valid_dataset, sampler=v_sampler, batch_size=None, num_workers=6)"
   ]
  },
  {
   "cell_type": "code",
   "execution_count": null,
   "id": "127e4157",
   "metadata": {},
   "outputs": [
    {
     "name": "stdout",
     "output_type": "stream",
     "text": [
      "CPU times: user 2.36 s, sys: 1.14 s, total: 3.5 s\n",
      "Wall time: 2.5 s\n"
     ]
    }
   ],
   "source": [
    "%%time\n",
    "for _ in t_dataloader: pass"
   ]
  },
  {
   "cell_type": "markdown",
   "id": "18ab4313",
   "metadata": {},
   "source": [
    "### miniai DataLoaders"
   ]
  },
  {
   "cell_type": "code",
   "execution_count": null,
   "id": "bc8b7dd3",
   "metadata": {},
   "outputs": [],
   "source": [
    "dls = DataLoaders(t_dataloader, v_dataloader)"
   ]
  },
  {
   "cell_type": "code",
   "execution_count": null,
   "id": "d2367b65",
   "metadata": {},
   "outputs": [],
   "source": [
    "dt = dls.train\n",
    "xb, yb = next(iter(dt))"
   ]
  },
  {
   "cell_type": "code",
   "execution_count": null,
   "id": "841875c6",
   "metadata": {},
   "outputs": [
    {
     "data": {
      "text/plain": [
       "(tensor([[ 499,  313],\n",
       "         [  63,  317],\n",
       "         [  84,  635],\n",
       "         [ 118, 1407],\n",
       "         [ 485, 1167]]),\n",
       " tensor([5., 5., 3., 5., 5.]))"
      ]
     },
     "execution_count": null,
     "metadata": {},
     "output_type": "execute_result"
    }
   ],
   "source": [
    "xb[:5,:], yb[:5]"
   ]
  },
  {
   "cell_type": "markdown",
   "id": "996867b7",
   "metadata": {},
   "source": [
    "## Model"
   ]
  },
  {
   "cell_type": "code",
   "execution_count": null,
   "id": "c9605715",
   "metadata": {},
   "outputs": [
    {
     "data": {
      "text/plain": [
       "(943, 1664)"
      ]
     },
     "execution_count": null,
     "metadata": {},
     "output_type": "execute_result"
    }
   ],
   "source": [
    "n_users = len(ratings.user.unique())\n",
    "n_title = len(ratings.title.unique())\n",
    "n_users, n_title"
   ]
  },
  {
   "cell_type": "code",
   "execution_count": null,
   "id": "966daa2a",
   "metadata": {},
   "outputs": [],
   "source": [
    "# functions from fastai\n",
    "def sigmoid_range(x, low, high):\n",
    "    \"Sigmoid function with range `(low, high)`\"\n",
    "    return torch.sigmoid(x) * (high - low) + low\n",
    "\n",
    "def trunc_normal_(x, mean=0., std=1.):\n",
    "    \"Truncated normal initialization (approximation)\"\n",
    "    # From https://discuss.pytorch.org/t/implementing-truncated-normal-initializer/4778/12\n",
    "    return x.normal_().fmod_(2).mul_(std).add_(mean)\n",
    "\n",
    "class Embedding(nn.Embedding):\n",
    "    \"Embedding layer with truncated normal initialization\"\n",
    "    def __init__(self, ni, nf, std=0.01):\n",
    "        super().__init__(ni, nf)\n",
    "        trunc_normal_(self.weight.data, std=std)"
   ]
  },
  {
   "cell_type": "code",
   "execution_count": null,
   "id": "0e8c8bce",
   "metadata": {},
   "outputs": [],
   "source": [
    "class DotProductBias(nn.Module):\n",
    "    def __init__(self, n_users, n_movies, n_factors, y_range=(0, 5.5)):\n",
    "        super().__init__()\n",
    "        self.user_factors = Embedding(n_users, n_factors)\n",
    "        self.user_bias = Embedding(n_users, 1)\n",
    "        self.movie_factors = Embedding(n_movies, n_factors)\n",
    "        self.movie_bias = Embedding(n_movies, 1)\n",
    "        self.y_range = y_range\n",
    "        \n",
    "    def forward(self, x):\n",
    "        users = self.user_factors(x[:,0])\n",
    "        movies = self.movie_factors(x[:,1])\n",
    "        res = (users * movies).sum(dim=1, keepdim=True)\n",
    "        res += self.user_bias(x[:,0]) + self.movie_bias(x[:,1])\n",
    "        return sigmoid_range(res, *self.y_range).flatten()"
   ]
  },
  {
   "cell_type": "code",
   "execution_count": null,
   "id": "c3c51e78",
   "metadata": {},
   "outputs": [],
   "source": [
    "model = DotProductBias(n_users, n_title, 50)"
   ]
  },
  {
   "cell_type": "code",
   "execution_count": null,
   "id": "6dc76523",
   "metadata": {},
   "outputs": [
    {
     "data": {
      "text/plain": [
       "tensor([2.7271, 2.7997, 2.7408, 2.7389, 2.7295], grad_fn=<SliceBackward0>)"
      ]
     },
     "execution_count": null,
     "metadata": {},
     "output_type": "execute_result"
    }
   ],
   "source": [
    "model(xb)[:5]"
   ]
  },
  {
   "cell_type": "markdown",
   "id": "3d04aeeb",
   "metadata": {},
   "source": [
    "## Miniai Training"
   ]
  },
  {
   "cell_type": "code",
   "execution_count": null,
   "id": "1701fc8d",
   "metadata": {},
   "outputs": [],
   "source": [
    "metrics = MetricsCB()\n",
    "cbs = [DeviceCB(), metrics, ProgressCB(plot=False)]"
   ]
  },
  {
   "cell_type": "code",
   "execution_count": null,
   "id": "7a4f00d9",
   "metadata": {},
   "outputs": [],
   "source": [
    "def _lr(cb): return cb.pg['lr']\n",
    "def _beta1(cb): return cb.pg['betas'][0]\n",
    "\n",
    "rec = RecorderCB(lr=_lr, mom=_beta1)"
   ]
  },
  {
   "cell_type": "code",
   "execution_count": null,
   "id": "bf8b9081",
   "metadata": {},
   "outputs": [],
   "source": [
    "set_seed(42)\n",
    "lr, epochs = 5e-3, 5"
   ]
  },
  {
   "cell_type": "code",
   "execution_count": null,
   "id": "82f2361a",
   "metadata": {},
   "outputs": [],
   "source": [
    "tmax = epochs * len(dls.train)\n",
    "sched = partial(lr_scheduler.OneCycleLR, max_lr=lr, total_steps=tmax)\n",
    "\n",
    "xtra = [BatchSchedCB(sched), rec]\n",
    "\n",
    "loss_f = nn.MSELoss()"
   ]
  },
  {
   "cell_type": "code",
   "execution_count": null,
   "id": "f252b9c3",
   "metadata": {},
   "outputs": [],
   "source": [
    "learn = TrainLearner(\n",
    "    model, dls, loss_f, lr=lr, cbs=cbs+xtra, \n",
    "    opt_func=partial(AdamW, weight_decay=0.15)\n",
    ")"
   ]
  },
  {
   "cell_type": "code",
   "execution_count": null,
   "id": "81822fbc",
   "metadata": {},
   "outputs": [
    {
     "data": {
      "text/html": [
       "\n",
       "<style>\n",
       "    /* Turns off some styling */\n",
       "    progress {\n",
       "        /* gets rid of default border in Firefox and Opera. */\n",
       "        border: none;\n",
       "        /* Needs to be in here for Safari polyfill so background images work as expected. */\n",
       "        background-size: auto;\n",
       "    }\n",
       "    .progress-bar-interrupted, .progress-bar-interrupted::-webkit-progress-bar {\n",
       "        background: #F44336;\n",
       "    }\n",
       "</style>\n"
      ],
      "text/plain": [
       "<IPython.core.display.HTML object>"
      ]
     },
     "metadata": {},
     "output_type": "display_data"
    },
    {
     "data": {
      "text/html": [
       "<table border=\"1\" class=\"dataframe\">\n",
       "  <thead>\n",
       "    <tr style=\"text-align: left;\">\n",
       "      <th>loss</th>\n",
       "      <th>epoch</th>\n",
       "      <th>train</th>\n",
       "    </tr>\n",
       "  </thead>\n",
       "  <tbody>\n",
       "    <tr>\n",
       "      <td>1.497</td>\n",
       "      <td>0</td>\n",
       "      <td>train</td>\n",
       "    </tr>\n",
       "    <tr>\n",
       "      <td>0.954</td>\n",
       "      <td>0</td>\n",
       "      <td>eval</td>\n",
       "    </tr>\n",
       "    <tr>\n",
       "      <td>0.883</td>\n",
       "      <td>1</td>\n",
       "      <td>train</td>\n",
       "    </tr>\n",
       "    <tr>\n",
       "      <td>0.849</td>\n",
       "      <td>1</td>\n",
       "      <td>eval</td>\n",
       "    </tr>\n",
       "    <tr>\n",
       "      <td>0.705</td>\n",
       "      <td>2</td>\n",
       "      <td>train</td>\n",
       "    </tr>\n",
       "    <tr>\n",
       "      <td>0.820</td>\n",
       "      <td>2</td>\n",
       "      <td>eval</td>\n",
       "    </tr>\n",
       "    <tr>\n",
       "      <td>0.544</td>\n",
       "      <td>3</td>\n",
       "      <td>train</td>\n",
       "    </tr>\n",
       "    <tr>\n",
       "      <td>0.814</td>\n",
       "      <td>3</td>\n",
       "      <td>eval</td>\n",
       "    </tr>\n",
       "    <tr>\n",
       "      <td>0.455</td>\n",
       "      <td>4</td>\n",
       "      <td>train</td>\n",
       "    </tr>\n",
       "    <tr>\n",
       "      <td>0.815</td>\n",
       "      <td>4</td>\n",
       "      <td>eval</td>\n",
       "    </tr>\n",
       "  </tbody>\n",
       "</table>"
      ],
      "text/plain": [
       "<IPython.core.display.HTML object>"
      ]
     },
     "metadata": {},
     "output_type": "display_data"
    }
   ],
   "source": [
    "learn.fit(epochs)"
   ]
  },
  {
   "cell_type": "code",
   "execution_count": null,
   "id": "d6e1b507",
   "metadata": {},
   "outputs": [
    {
     "data": {
      "image/png": "[encoded data removed]",
      "text/plain": [
       "<Figure size 432x288 with 1 Axes>"
      ]
     },
     "metadata": {
      "needs_background": "light"
     },
     "output_type": "display_data"
    },
    {
     "data": {
      "image/png": "[encoded data removed]",
      "text/plain": [
       "<Figure size 432x288 with 1 Axes>"
      ]
     },
     "metadata": {
      "needs_background": "light"
     },
     "output_type": "display_data"
    }
   ],
   "source": [
    "import matplotlib.pyplot as plt\n",
    "rec.plot()"
   ]
  },
  {
   "cell_type": "markdown",
   "id": "8e306ee6",
   "metadata": {},
   "source": [
    "## Inference"
   ]
  },
  {
   "cell_type": "markdown",
   "id": "ea510176",
   "metadata": {},
   "source": [
    "### Factors and Bias"
   ]
  },
  {
   "cell_type": "code",
   "execution_count": null,
   "id": "bc3aa627",
   "metadata": {},
   "outputs": [],
   "source": [
    "user_factors = learn.model.user_factors.weight.detach()\n",
    "user_bias = learn.model.user_bias.weight.detach().squeeze()\n",
    "movie_factors = learn.model.movie_factors.weight.detach()\n",
    "movie_bias = learn.model.movie_bias.weight.detach().squeeze()"
   ]
  },
  {
   "cell_type": "markdown",
   "id": "14ed6516",
   "metadata": {},
   "source": [
    "### Movies with lowest bias\n",
    "\n",
    "[Kaggle: Collaborative Filtering Deep Dive](https://www.kaggle.com/code/jhoward/collaborative-filtering-deep-dive#Interpreting-Embeddings-and-Biases).  \n",
    "\n",
    "This means that even when user factors match with the factors of these movies, they still tend to receive a small rating:"
   ]
  },
  {
   "cell_type": "code",
   "execution_count": null,
   "id": "d7bdf060",
   "metadata": {},
   "outputs": [
    {
     "data": {
      "text/plain": [
       "['Cable Guy, The (1996)',\n",
       " 'Children of the Corn: The Gathering (1996)',\n",
       " 'Crow: City of Angels, The (1996)',\n",
       " 'Robocop 3 (1993)',\n",
       " 'Jury Duty (1995)']"
      ]
     },
     "execution_count": null,
     "metadata": {},
     "output_type": "execute_result"
    }
   ],
   "source": [
    "lowest_movie_b = torch.argsort(movie_bias, descending=False)[:5]\n",
    "[midx2title[idx.item()] for idx in lowest_movie_b]"
   ]
  },
  {
   "cell_type": "markdown",
   "id": "16b0c174",
   "metadata": {},
   "source": [
    "### Movies with largest bias"
   ]
  },
  {
   "cell_type": "code",
   "execution_count": null,
   "id": "5ec7eacd",
   "metadata": {},
   "outputs": [
    {
     "data": {
      "text/plain": [
       "['Titanic (1997)',\n",
       " 'L.A. Confidential (1997)',\n",
       " 'Apt Pupil (1998)',\n",
       " 'As Good As It Gets (1997)',\n",
       " 'Good Will Hunting (1997)']"
      ]
     },
     "execution_count": null,
     "metadata": {},
     "output_type": "execute_result"
    }
   ],
   "source": [
    "largest_movie_b = torch.argsort(movie_bias, descending=True)[:5]\n",
    "[midx2title[idx.item()] for idx in largest_movie_b]"
   ]
  },
  {
   "cell_type": "code",
   "execution_count": null,
   "id": "2a9abc39",
   "metadata": {},
   "outputs": [],
   "source": []
  },
  {
   "cell_type": "code",
   "execution_count": null,
   "id": "d6fe8a84",
   "metadata": {},
   "outputs": [],
   "source": [
    "learn._fit??"
   ]
  },
  {
   "cell_type": "markdown",
   "id": "cadfd5fc",
   "metadata": {},
   "source": [
    "## Movielens 1M"
   ]
  },
  {
   "cell_type": "code",
   "execution_count": null,
   "id": "e3e793bf",
   "metadata": {},
   "outputs": [],
   "source": [
    "movielens_1M_url = 'http://files.grouplens.org/datasets/movielens/ml-1m.zip'\n",
    "\n",
    "filename = Path(movielens_1M_url).name\n",
    "zip_path = Path('.')\n",
    "extract_path = zip_path / Path(filename).stem"
   ]
  },
  {
   "cell_type": "code",
   "execution_count": null,
   "id": "ba0c0883",
   "metadata": {},
   "outputs": [
    {
     "data": {
      "text/plain": [
       "Path('ml-1m')"
      ]
     },
     "execution_count": null,
     "metadata": {},
     "output_type": "execute_result"
    }
   ],
   "source": [
    "extract_path"
   ]
  },
  {
   "cell_type": "code",
   "execution_count": null,
   "id": "835e5db6",
   "metadata": {},
   "outputs": [
    {
     "data": {
      "text/plain": [
       "(False, False)"
      ]
     },
     "execution_count": null,
     "metadata": {},
     "output_type": "execute_result"
    }
   ],
   "source": [
    "Path(filename).exists(), extract_path.exists()"
   ]
  },
  {
   "cell_type": "code",
   "execution_count": null,
   "id": "2e817dde",
   "metadata": {},
   "outputs": [],
   "source": [
    "if not Path(filename).exists():\n",
    "    with urllib.request.urlopen(movielens_1M_url) as response:\n",
    "        with open(filename, \"wb\") as f:\n",
    "          f.write(response.read())\n",
    "\n",
    "if not extract_path.exists():\n",
    "    with zipfile.ZipFile(filename, \"r\") as zip_ref:\n",
    "        zip_ref.extractall(zip_path)"
   ]
  },
  {
   "cell_type": "code",
   "execution_count": null,
   "id": "70247dcc",
   "metadata": {},
   "outputs": [
    {
     "data": {
      "text/html": [
       "<div>\n",
       "<style scoped>\n",
       "    .dataframe tbody tr th:only-of-type {\n",
       "        vertical-align: middle;\n",
       "    }\n",
       "\n",
       "    .dataframe tbody tr th {\n",
       "        vertical-align: top;\n",
       "    }\n",
       "\n",
       "    .dataframe thead th {\n",
       "        text-align: right;\n",
       "    }\n",
       "</style>\n",
       "<table border=\"1\" class=\"dataframe\">\n",
       "  <thead>\n",
       "    <tr style=\"text-align: right;\">\n",
       "      <th></th>\n",
       "      <th>user_id</th>\n",
       "      <th>item_id</th>\n",
       "      <th>rating</th>\n",
       "    </tr>\n",
       "  </thead>\n",
       "  <tbody>\n",
       "    <tr>\n",
       "      <th>0</th>\n",
       "      <td>1</td>\n",
       "      <td>1193</td>\n",
       "      <td>5</td>\n",
       "    </tr>\n",
       "    <tr>\n",
       "      <th>1</th>\n",
       "      <td>1</td>\n",
       "      <td>661</td>\n",
       "      <td>3</td>\n",
       "    </tr>\n",
       "    <tr>\n",
       "      <th>2</th>\n",
       "      <td>1</td>\n",
       "      <td>914</td>\n",
       "      <td>3</td>\n",
       "    </tr>\n",
       "    <tr>\n",
       "      <th>3</th>\n",
       "      <td>1</td>\n",
       "      <td>3408</td>\n",
       "      <td>4</td>\n",
       "    </tr>\n",
       "    <tr>\n",
       "      <th>4</th>\n",
       "      <td>1</td>\n",
       "      <td>2355</td>\n",
       "      <td>5</td>\n",
       "    </tr>\n",
       "    <tr>\n",
       "      <th>...</th>\n",
       "      <td>...</td>\n",
       "      <td>...</td>\n",
       "      <td>...</td>\n",
       "    </tr>\n",
       "    <tr>\n",
       "      <th>1000204</th>\n",
       "      <td>6040</td>\n",
       "      <td>1091</td>\n",
       "      <td>1</td>\n",
       "    </tr>\n",
       "    <tr>\n",
       "      <th>1000205</th>\n",
       "      <td>6040</td>\n",
       "      <td>1094</td>\n",
       "      <td>5</td>\n",
       "    </tr>\n",
       "    <tr>\n",
       "      <th>1000206</th>\n",
       "      <td>6040</td>\n",
       "      <td>562</td>\n",
       "      <td>5</td>\n",
       "    </tr>\n",
       "    <tr>\n",
       "      <th>1000207</th>\n",
       "      <td>6040</td>\n",
       "      <td>1096</td>\n",
       "      <td>4</td>\n",
       "    </tr>\n",
       "    <tr>\n",
       "      <th>1000208</th>\n",
       "      <td>6040</td>\n",
       "      <td>1097</td>\n",
       "      <td>4</td>\n",
       "    </tr>\n",
       "  </tbody>\n",
       "</table>\n",
       "<p>1000209 rows × 3 columns</p>\n",
       "</div>"
      ],
      "text/plain": [
       "         user_id  item_id  rating\n",
       "0              1     1193       5\n",
       "1              1      661       3\n",
       "2              1      914       3\n",
       "3              1     3408       4\n",
       "4              1     2355       5\n",
       "...          ...      ...     ...\n",
       "1000204     6040     1091       1\n",
       "1000205     6040     1094       5\n",
       "1000206     6040      562       5\n",
       "1000207     6040     1096       4\n",
       "1000208     6040     1097       4\n",
       "\n",
       "[1000209 rows x 3 columns]"
      ]
     },
     "execution_count": null,
     "metadata": {},
     "output_type": "execute_result"
    }
   ],
   "source": [
    "ratings_1m = pd.read_csv(extract_path/'ratings.dat', delimiter='::', header=None, engine='python',\n",
    "                        names=['user_id','item_id','rating','timestamp'])\n",
    "ratings_1m = ratings_1m[['user_id','item_id','rating']].copy()\n",
    "ratings_1m"
   ]
  },
  {
   "cell_type": "code",
   "execution_count": null,
   "id": "65598774",
   "metadata": {},
   "outputs": [
    {
     "data": {
      "text/plain": [
       "(3706, 6040)"
      ]
     },
     "execution_count": null,
     "metadata": {},
     "output_type": "execute_result"
    }
   ],
   "source": [
    "len(ratings_1m.item_id.unique()), len(ratings_1m.user_id.unique())"
   ]
  },
  {
   "cell_type": "code",
   "execution_count": null,
   "id": "2c5cb7c3",
   "metadata": {},
   "outputs": [
    {
     "data": {
      "text/html": [
       "<div>\n",
       "<style scoped>\n",
       "    .dataframe tbody tr th:only-of-type {\n",
       "        vertical-align: middle;\n",
       "    }\n",
       "\n",
       "    .dataframe tbody tr th {\n",
       "        vertical-align: top;\n",
       "    }\n",
       "\n",
       "    .dataframe thead th {\n",
       "        text-align: right;\n",
       "    }\n",
       "</style>\n",
       "<table border=\"1\" class=\"dataframe\">\n",
       "  <thead>\n",
       "    <tr style=\"text-align: right;\">\n",
       "      <th></th>\n",
       "      <th>item_id</th>\n",
       "      <th>title</th>\n",
       "    </tr>\n",
       "  </thead>\n",
       "  <tbody>\n",
       "    <tr>\n",
       "      <th>0</th>\n",
       "      <td>1</td>\n",
       "      <td>Toy Story (1995)</td>\n",
       "    </tr>\n",
       "    <tr>\n",
       "      <th>1</th>\n",
       "      <td>2</td>\n",
       "      <td>Jumanji (1995)</td>\n",
       "    </tr>\n",
       "    <tr>\n",
       "      <th>2</th>\n",
       "      <td>3</td>\n",
       "      <td>Grumpier Old Men (1995)</td>\n",
       "    </tr>\n",
       "    <tr>\n",
       "      <th>3</th>\n",
       "      <td>4</td>\n",
       "      <td>Waiting to Exhale (1995)</td>\n",
       "    </tr>\n",
       "    <tr>\n",
       "      <th>4</th>\n",
       "      <td>5</td>\n",
       "      <td>Father of the Bride Part II (1995)</td>\n",
       "    </tr>\n",
       "  </tbody>\n",
       "</table>\n",
       "</div>"
      ],
      "text/plain": [
       "   item_id                               title\n",
       "0        1                    Toy Story (1995)\n",
       "1        2                      Jumanji (1995)\n",
       "2        3             Grumpier Old Men (1995)\n",
       "3        4            Waiting to Exhale (1995)\n",
       "4        5  Father of the Bride Part II (1995)"
      ]
     },
     "execution_count": null,
     "metadata": {},
     "output_type": "execute_result"
    }
   ],
   "source": [
    "# https://stackoverflow.com/a/33819765\n",
    "\n",
    "movies_1m = pd.read_csv(\n",
    "    extract_path/'movies.dat', delimiter='::', encoding='ISO-8859-1', # encoding='latin-1',\n",
    "    usecols=(0,1), header=None, engine='python', names=('item_id','title')\n",
    ")\n",
    "movies_1m.head()"
   ]
  },
  {
   "cell_type": "code",
   "execution_count": null,
   "id": "84b51f87",
   "metadata": {},
   "outputs": [
    {
     "data": {
      "text/html": [
       "<div>\n",
       "<style scoped>\n",
       "    .dataframe tbody tr th:only-of-type {\n",
       "        vertical-align: middle;\n",
       "    }\n",
       "\n",
       "    .dataframe tbody tr th {\n",
       "        vertical-align: top;\n",
       "    }\n",
       "\n",
       "    .dataframe thead th {\n",
       "        text-align: right;\n",
       "    }\n",
       "</style>\n",
       "<table border=\"1\" class=\"dataframe\">\n",
       "  <thead>\n",
       "    <tr style=\"text-align: right;\">\n",
       "      <th></th>\n",
       "      <th>user_id</th>\n",
       "      <th>item_id</th>\n",
       "      <th>rating</th>\n",
       "      <th>title</th>\n",
       "    </tr>\n",
       "  </thead>\n",
       "  <tbody>\n",
       "    <tr>\n",
       "      <th>0</th>\n",
       "      <td>1</td>\n",
       "      <td>1193</td>\n",
       "      <td>5</td>\n",
       "      <td>One Flew Over the Cuckoo's Nest (1975)</td>\n",
       "    </tr>\n",
       "    <tr>\n",
       "      <th>1</th>\n",
       "      <td>2</td>\n",
       "      <td>1193</td>\n",
       "      <td>5</td>\n",
       "      <td>One Flew Over the Cuckoo's Nest (1975)</td>\n",
       "    </tr>\n",
       "    <tr>\n",
       "      <th>2</th>\n",
       "      <td>12</td>\n",
       "      <td>1193</td>\n",
       "      <td>4</td>\n",
       "      <td>One Flew Over the Cuckoo's Nest (1975)</td>\n",
       "    </tr>\n",
       "    <tr>\n",
       "      <th>3</th>\n",
       "      <td>15</td>\n",
       "      <td>1193</td>\n",
       "      <td>4</td>\n",
       "      <td>One Flew Over the Cuckoo's Nest (1975)</td>\n",
       "    </tr>\n",
       "    <tr>\n",
       "      <th>4</th>\n",
       "      <td>17</td>\n",
       "      <td>1193</td>\n",
       "      <td>5</td>\n",
       "      <td>One Flew Over the Cuckoo's Nest (1975)</td>\n",
       "    </tr>\n",
       "  </tbody>\n",
       "</table>\n",
       "</div>"
      ],
      "text/plain": [
       "   user_id  item_id  rating                                   title\n",
       "0        1     1193       5  One Flew Over the Cuckoo's Nest (1975)\n",
       "1        2     1193       5  One Flew Over the Cuckoo's Nest (1975)\n",
       "2       12     1193       4  One Flew Over the Cuckoo's Nest (1975)\n",
       "3       15     1193       4  One Flew Over the Cuckoo's Nest (1975)\n",
       "4       17     1193       5  One Flew Over the Cuckoo's Nest (1975)"
      ]
     },
     "execution_count": null,
     "metadata": {},
     "output_type": "execute_result"
    }
   ],
   "source": [
    "ratings_1m = ratings_1m.merge(movies_1m)\n",
    "ratings_1m.head()"
   ]
  },
  {
   "cell_type": "markdown",
   "id": "fa843df2",
   "metadata": {},
   "source": [
    "## Splits"
   ]
  },
  {
   "cell_type": "markdown",
   "id": "ed6209b3",
   "metadata": {},
   "source": [
    "### Split 1"
   ]
  },
  {
   "cell_type": "code",
   "execution_count": null,
   "id": "ea8570f3",
   "metadata": {},
   "outputs": [],
   "source": [
    "splits = split_dataframe_by_group(\n",
    "    ratings_1m, ratio=0.8,\n",
    "    filter_by=\"item\", seed=104577657,\n",
    "    col_user='user_id', col_item='title'\n",
    ")"
   ]
  },
  {
   "cell_type": "code",
   "execution_count": null,
   "id": "1b29bf9d",
   "metadata": {},
   "outputs": [],
   "source": [
    "train_df = ratings_1m.iloc[splits[0]]\n",
    "valid_df = ratings_1m.iloc[splits[1]]"
   ]
  },
  {
   "cell_type": "code",
   "execution_count": null,
   "id": "39a837c6",
   "metadata": {},
   "outputs": [
    {
     "name": "stdout",
     "output_type": "stream",
     "text": [
      "Number of titles with one review: 114\n",
      "Number of users in train: 6040\n",
      "Number of movies in train: 3706\n",
      "Number of users in valid: 6037\n",
      "Number of movies in valid: 3592\n"
     ]
    }
   ],
   "source": [
    "# number of ratings by title\n",
    "ratings_1m['nr_title'] = ratings_1m.groupby('title')['title'].transform('count')\n",
    "ratings_1m['nr_user'] = ratings_1m.groupby('user_id')['user_id'].transform('count')\n",
    "print(f'Number of titles with one review: {sum(ratings_1m.nr_title==1)}')\n",
    "\n",
    "print(f'Number of users in train: {len(train_df.user_id.unique())}')\n",
    "print(f'Number of movies in train: {len(train_df.title.unique())}')\n",
    "\n",
    "print(f'Number of users in valid: {len(valid_df.user_id.unique())}')\n",
    "print(f'Number of movies in valid: {len(valid_df.title.unique())}')"
   ]
  },
  {
   "cell_type": "code",
   "execution_count": null,
   "id": "b7e2d11a",
   "metadata": {},
   "outputs": [
    {
     "data": {
      "text/plain": [
       "[160, 298, 2490]"
      ]
     },
     "execution_count": null,
     "metadata": {},
     "output_type": "execute_result"
    }
   ],
   "source": [
    "users_not_in_valid = list(set(train_df.user_id) - set(valid_df.user_id))\n",
    "users_not_in_valid"
   ]
  },
  {
   "cell_type": "markdown",
   "id": "32b754bc",
   "metadata": {},
   "source": [
    "### Split 2"
   ]
  },
  {
   "cell_type": "code",
   "execution_count": null,
   "id": "18a15ecc",
   "metadata": {},
   "outputs": [],
   "source": [
    "resplit = split_dataframe_by_group(\n",
    "    ratings_1m[ratings_1m.user_id.isin(users_not_in_valid)], \n",
    "    ratio=0.8,\n",
    "    filter_by=\"user\", seed=104577657,\n",
    "    col_user='user_id', col_item='title',\n",
    "    sort_column='nr_title'\n",
    ")"
   ]
  },
  {
   "cell_type": "code",
   "execution_count": null,
   "id": "ba24d44c",
   "metadata": {},
   "outputs": [],
   "source": [
    "final_splits = [splits[0] + resplit[0], splits[1] + resplit[1]]"
   ]
  },
  {
   "cell_type": "code",
   "execution_count": null,
   "id": "39c15ae1",
   "metadata": {},
   "outputs": [],
   "source": [
    "train_df = ratings_1m.iloc[final_splits[0]]\n",
    "valid_df = ratings_1m.iloc[final_splits[1]]"
   ]
  },
  {
   "cell_type": "code",
   "execution_count": null,
   "id": "1ee50dbc",
   "metadata": {},
   "outputs": [
    {
     "name": "stdout",
     "output_type": "stream",
     "text": [
      "Number of titles with one review: 114\n",
      "Number of users in train: 6040\n",
      "Number of movies in train: 3706\n",
      "Number of users in valid: 6040\n",
      "Number of movies in valid: 3592\n"
     ]
    }
   ],
   "source": [
    "# number of ratings by title\n",
    "print(f'Number of titles with one review: {sum(ratings_1m.nr_title==1)}')\n",
    "\n",
    "print(f'Number of users in train: {len(train_df.user_id.unique())}')\n",
    "print(f'Number of movies in train: {len(train_df.title.unique())}')\n",
    "\n",
    "print(f'Number of users in valid: {len(valid_df.user_id.unique())}')\n",
    "print(f'Number of movies in valid: {len(valid_df.title.unique())}')"
   ]
  },
  {
   "cell_type": "code",
   "execution_count": null,
   "id": "2b1b2f83",
   "metadata": {},
   "outputs": [
    {
     "data": {
      "text/plain": [
       "(798812, 201466)"
      ]
     },
     "execution_count": null,
     "metadata": {},
     "output_type": "execute_result"
    }
   ],
   "source": [
    "len(train_df), len(valid_df)"
   ]
  },
  {
   "cell_type": "code",
   "execution_count": null,
   "id": "1ca16f3d",
   "metadata": {},
   "outputs": [],
   "source": [
    "DEFAULT_USER_COL = 'user_id'\n",
    "DEFAULT_ITEM_COL = 'title'\n",
    "\n",
    "users = sorted(list(ratings_1m[DEFAULT_USER_COL].unique()))\n",
    "titles = sorted(list(ratings_1m[DEFAULT_ITEM_COL].unique()))\n",
    "\n",
    "uidx2user = {k:v for k,v in enumerate(users)}\n",
    "user2uidx = {k:v for v,k in uidx2user.items()}\n",
    "\n",
    "midx2title = {k:v for k,v in enumerate(titles)}\n",
    "title2midx = {k:v for v,k in midx2title.items()}"
   ]
  },
  {
   "cell_type": "code",
   "execution_count": null,
   "id": "471e27c6",
   "metadata": {},
   "outputs": [],
   "source": [
    "train_dataset = CollabDataset(train_df, user_col='user_id')\n",
    "\n",
    "valid_dataset = CollabDataset(valid_df, user_col='user_id')"
   ]
  },
  {
   "cell_type": "code",
   "execution_count": null,
   "id": "e911c144",
   "metadata": {},
   "outputs": [],
   "source": [
    "bs = 64 * 3\n",
    "\n",
    "t_sampler = BatchSampler(\n",
    "    RandomSampler(train_dataset),\n",
    "    batch_size=bs,\n",
    "    drop_last=False)\n",
    "\n",
    "v_sampler = BatchSampler(\n",
    "    RandomSampler(valid_dataset),\n",
    "    batch_size=bs,\n",
    "    drop_last=False)"
   ]
  },
  {
   "cell_type": "code",
   "execution_count": null,
   "id": "ec7a44c4",
   "metadata": {},
   "outputs": [],
   "source": [
    "t_dataloader = DataLoader(\n",
    "    train_dataset, sampler=t_sampler, batch_size=None, num_workers=6)\n",
    "\n",
    "v_dataloader = DataLoader(\n",
    "    valid_dataset, sampler=v_sampler, batch_size=None, num_workers=6)"
   ]
  },
  {
   "cell_type": "code",
   "execution_count": null,
   "id": "474c414f",
   "metadata": {},
   "outputs": [
    {
     "name": "stdout",
     "output_type": "stream",
     "text": [
      "CPU times: user 16.1 s, sys: 10.9 s, total: 27 s\n",
      "Wall time: 6min 50s\n"
     ]
    }
   ],
   "source": [
    "%%time\n",
    "for _ in t_dataloader: pass"
   ]
  },
  {
   "cell_type": "code",
   "execution_count": null,
   "id": "2b90f4ec",
   "metadata": {},
   "outputs": [],
   "source": [
    "t_s = BatchSampler(RandomSampler(train_dataset), batch_size=bs, drop_last=False)"
   ]
  },
  {
   "cell_type": "code",
   "execution_count": null,
   "id": "0e2fbe24",
   "metadata": {},
   "outputs": [
    {
     "name": "stdout",
     "output_type": "stream",
     "text": [
      "CPU times: user 1min 10s, sys: 0 ns, total: 1min 10s\n",
      "Wall time: 1min 9s\n"
     ]
    }
   ],
   "source": [
    "%%time\n",
    "for indices in t_s:\n",
    "    users = ratings_1m.loc[indices]['user_id'].map(user2uidx)\n",
    "    items = ratings_1m.loc[indices]['title'].map(title2midx)\n",
    "    sample_df = pd.DataFrame(zip(users, items))\n",
    "    torch.tensor(sample_df.values)\n",
    "    targets = ratings_1m.loc[indices]['rating'].values\n",
    "    torch.tensor(targets, dtype=torch.float)"
   ]
  },
  {
   "cell_type": "code",
   "execution_count": null,
   "id": "afca4753",
   "metadata": {},
   "outputs": [],
   "source": [
    "users = ratings_1m['user_id'].map(user2uidx)"
   ]
  },
  {
   "cell_type": "code",
   "execution_count": null,
   "id": "d5059974",
   "metadata": {},
   "outputs": [],
   "source": []
  },
  {
   "cell_type": "code",
   "execution_count": null,
   "id": "bece3d14",
   "metadata": {},
   "outputs": [],
   "source": [
    "class CustomDataLoader():\n",
    "    def __init__(self, dataset, sampler):\n",
    "        self.dataset = dataset\n",
    "        self.sampler = sampler\n",
    "    \n",
    "    def __iter__(self):\n",
    "        for indices in self.sampler:\n",
    "            yield(self.dataset[indices])"
   ]
  },
  {
   "cell_type": "code",
   "execution_count": null,
   "id": "4e33aa41",
   "metadata": {},
   "outputs": [],
   "source": [
    "t_custom_dl = CustomDataLoader(train_dataset, t_sampler)"
   ]
  },
  {
   "cell_type": "code",
   "execution_count": null,
   "id": "b7ce6ab0",
   "metadata": {},
   "outputs": [
    {
     "name": "stdout",
     "output_type": "stream",
     "text": [
      "CPU times: user 30min 47s, sys: 0 ns, total: 30min 47s\n",
      "Wall time: 30min 44s\n"
     ]
    }
   ],
   "source": [
    "%%time\n",
    "for _ in t_custom_dl: pass"
   ]
  },
  {
   "cell_type": "code",
   "execution_count": null,
   "id": "abec2db9",
   "metadata": {},
   "outputs": [
    {
     "data": {
      "text/plain": [
       "<__main__.CustomDataLoader>"
      ]
     },
     "execution_count": null,
     "metadata": {},
     "output_type": "execute_result"
    }
   ],
   "source": [
    "t_custom_dl"
   ]
  },
  {
   "cell_type": "code",
   "execution_count": null,
   "id": "1d7adb68",
   "metadata": {},
   "outputs": [
    {
     "name": "stdout",
     "output_type": "stream",
     "text": [
      "CPU times: user 1.96 s, sys: 0 ns, total: 1.96 s\n",
      "Wall time: 546 ms\n"
     ]
    }
   ],
   "source": [
    "%%time\n",
    "for _ in t_s: pass"
   ]
  },
  {
   "cell_type": "code",
   "execution_count": null,
   "id": "a530ff3f",
   "metadata": {},
   "outputs": [
    {
     "name": "stdout",
     "output_type": "stream",
     "text": [
      "0\n",
      "1\n",
      "2\n",
      "3\n",
      "4\n",
      "5\n",
      "6\n",
      "7\n",
      "8\n",
      "9\n",
      "CPU times: user 5.56 s, sys: 465 ms, total: 6.02 s\n",
      "Wall time: 5.01 s\n"
     ]
    }
   ],
   "source": [
    "%%time\n",
    "i=0\n",
    "for _ in t_custom_dl: \n",
    "    print(i)\n",
    "    i+=1\n",
    "    if i==10: break"
   ]
  },
  {
   "cell_type": "code",
   "execution_count": null,
   "id": "fae53e65",
   "metadata": {},
   "outputs": [],
   "source": []
  }
 ],
 "metadata": {
  "kernelspec": {
   "display_name": "Python 3 (ipykernel)",
   "language": "python",
   "name": "python3"
  }
 },
 "nbformat": 4,
 "nbformat_minor": 5
}
