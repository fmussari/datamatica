{
 "cells": [
  {
   "cell_type": "markdown",
   "id": "50da3568",
   "metadata": {},
   "source": [
    "---\n",
    "title: Object Detection with Azure Custom Vision - Part 1\n",
    "author: \"Francisco Mussari\"\n",
    "date: 2022-10-08\n",
    "categories: [computer-vision, deeplearning, azure, custom-vision, object-detection]\n",
    "\n",
    "---\n",
    "\n",
    "Building an Object Detection with Azure Custom Vision - Part 1"
   ]
  },
  {
   "cell_type": "code",
   "execution_count": null,
   "id": "eb90b90a",
   "metadata": {},
   "outputs": [],
   "source": []
  }
 ],
 "metadata": {
  "kernelspec": {
   "display_name": "Python 3 (ipykernel)",
   "language": "python",
   "name": "python3"
  }
 },
 "nbformat": 4,
 "nbformat_minor": 5
}
