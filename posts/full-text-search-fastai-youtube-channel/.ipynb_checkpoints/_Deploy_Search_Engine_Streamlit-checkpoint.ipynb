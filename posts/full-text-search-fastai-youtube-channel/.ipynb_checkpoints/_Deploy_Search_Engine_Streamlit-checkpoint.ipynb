{
 "cells": [
  {
   "cell_type": "markdown",
   "id": "66095ca5",
   "metadata": {},
   "source": [
    "## Install Streamlit\n",
    "environment: `nbdev2`  \n",
    "```\n",
    "$ mamba install -c conda-forge streamlit\n",
    "```"
   ]
  },
  {
   "cell_type": "code",
   "execution_count": null,
   "id": "63dc1ab3",
   "metadata": {},
   "outputs": [],
   "source": [
    "#| export\n",
    "import streamlit as st\n",
    "import sqlite3\n",
    "\n",
    "import pandas as pd\n",
    "import numpy as np"
   ]
  },
  {
   "cell_type": "code",
   "execution_count": null,
   "id": "cb88976b",
   "metadata": {},
   "outputs": [],
   "source": [
    "#| hide\n",
    "import nbdev\n"
   ]
  },
  {
   "cell_type": "code",
   "execution_count": null,
   "id": "d3a76fde",
   "metadata": {},
   "outputs": [
    {
     "name": "stderr",
     "output_type": "stream",
     "text": [
      "2022-12-04 20:08:00.046 \n",
      "  \u001b[33m\u001b[1mWarning:\u001b[0m to view this Streamlit app on a browser, run it with the following\n",
      "  command:\n",
      "\n",
      "    streamlit run /home/fmussari/mambaforge/envs/nbdev2/lib/python3.10/site-packages/ipykernel_launcher.py [ARGUMENTS]\n"
     ]
    },
    {
     "name": "stdout",
     "output_type": "stream",
     "text": [
      "2.3.9\n"
     ]
    }
   ],
   "source": [
    "#| export\n",
    "IN_NOTEBOOK = False\n",
    "db_path = ''\n",
    "try: \n",
    "    print(nbdev.__version__)\n",
    "except:\n",
    "    IN_NOTEBOOK = True\n",
    "    db_path = '/mnt/m/datamatica/posts/full-text-search-fastai-youtube-channel/'\n",
    "    \n",
    "st.write(st.__version__)"
   ]
  },
  {
   "cell_type": "code",
   "execution_count": null,
   "id": "faff8c2b",
   "metadata": {},
   "outputs": [
    {
     "name": "stdout",
     "output_type": "stream",
     "text": [
      "1.15.2\n"
     ]
    }
   ],
   "source": [
    "print(st.__version__)"
   ]
  },
  {
   "cell_type": "code",
   "execution_count": null,
   "id": "c9a25c1d",
   "metadata": {},
   "outputs": [],
   "source": [
    "#| export\n",
    "db = sqlite3.connect(db_path + 'fastai_yt.db')\n",
    "cur = db.cursor()"
   ]
  },
  {
   "cell_type": "code",
   "execution_count": null,
   "id": "cc354bc9",
   "metadata": {},
   "outputs": [],
   "source": [
    "#| export\n",
    "playlist = cur.execute('SELECT playlist_id, playlist_name FROM playlist').fetchall()\n",
    "playlist = {p: n for p, n in playlist}"
   ]
  },
  {
   "cell_type": "code",
   "execution_count": null,
   "id": "a515e4e5",
   "metadata": {},
   "outputs": [
    {
     "data": {
      "text/plain": [
       "{'PLfYUBJiXbdtSgU6S_3l6pX-4hQYKNJZFU': 'fast.ai APL Study Group',\n",
       " 'PLfYUBJiXbdtSvpQjSnJJ_PmDQB_VyT5iU': 'Practical Deep Learning for Coders 2022',\n",
       " 'PLfYUBJiXbdtSLBPJ1GMx-sQWf6iNhb8mM': 'fast.ai live coding & tutorials',\n",
       " 'PLfYUBJiXbdtRL3FMB3GoWHRI8ieU6FhfM': 'Practical Deep Learning for Coders (2020)',\n",
       " 'PLfYUBJiXbdtTIdtE1U8qgyxo4Jy2Y91uj': 'Deep Learning from the Foundations',\n",
       " 'PLfYUBJiXbdtSWRCYUHh-ThVCC39bp5yiq': 'fastai v2 code walk-thrus',\n",
       " 'PLfYUBJiXbdtSIJb-Qd3pw0cqCbkGeS0xn': 'Practical Deep Learning for Coders 2019',\n",
       " 'PLfYUBJiXbdtSyktd8A_x0JNd6lxDcZE96': 'Introduction to Machine Learning for Coders',\n",
       " 'PLfYUBJiXbdtTttBGq-u2zeY1OTjs5e-Ia': 'Cutting Edge Deep Learning for Coders 2',\n",
       " 'PLfYUBJiXbdtS2UQRzyrxmyVHoGW0gmLSM': 'Practical Deep Learning For Coders 2018'}"
      ]
     },
     "execution_count": null,
     "metadata": {},
     "output_type": "execute_result"
    }
   ],
   "source": [
    "playlist"
   ]
  },
  {
   "cell_type": "code",
   "execution_count": null,
   "id": "cc410071",
   "metadata": {},
   "outputs": [
    {
     "name": "stderr",
     "output_type": "stream",
     "text": [
      "2022-12-04 20:08:00.155 Session state does not function when running a script without `streamlit run`\n"
     ]
    },
    {
     "name": "stdout",
     "output_type": "stream",
     "text": [
      "before: {}\n"
     ]
    }
   ],
   "source": [
    "#| export\n",
    "pl_sel = list(playlist.values())\n",
    "\n",
    "def on_ch_checkbox():\n",
    "    print('checkbox changed')\n",
    "    st.session_state.default = pl_sel\n",
    "       \n",
    "if 'sel_all' not in st.session_state:\n",
    "    st.session_state.disabled = True\n",
    "    st.session_state.default = pl_sel"
   ]
  },
  {
   "cell_type": "code",
   "execution_count": null,
   "id": "59488b76",
   "metadata": {},
   "outputs": [
    {
     "ename": "AttributeError",
     "evalue": "st.session_state has no attribute \"disabled\". Did you forget to initialize it? More info: https://docs.streamlit.io/library/advanced-features/session-state#initialization",
     "output_type": "error",
     "traceback": [
      "\u001b[0;31m---------------------------------------------------------------------------\u001b[0m",
      "\u001b[0;31mKeyError\u001b[0m                                  Traceback (most recent call last)",
      "File \u001b[0;32m~/mambaforge/envs/nbdev2/lib/python3.10/site-packages/streamlit/runtime/state/session_state.py:437\u001b[0m, in \u001b[0;36mSessionState.__getitem__\u001b[0;34m(self, key)\u001b[0m\n\u001b[1;32m    436\u001b[0m \u001b[38;5;28;01mtry\u001b[39;00m:\n\u001b[0;32m--> 437\u001b[0m     \u001b[38;5;28;01mreturn\u001b[39;00m \u001b[38;5;28;43mself\u001b[39;49m\u001b[38;5;241;43m.\u001b[39;49m\u001b[43m_getitem\u001b[49m\u001b[43m(\u001b[49m\u001b[43mwidget_id\u001b[49m\u001b[43m,\u001b[49m\u001b[43m \u001b[49m\u001b[43mkey\u001b[49m\u001b[43m)\u001b[49m\n\u001b[1;32m    438\u001b[0m \u001b[38;5;28;01mexcept\u001b[39;00m \u001b[38;5;167;01mKeyError\u001b[39;00m:\n",
      "File \u001b[0;32m~/mambaforge/envs/nbdev2/lib/python3.10/site-packages/streamlit/runtime/state/session_state.py:481\u001b[0m, in \u001b[0;36mSessionState._getitem\u001b[0;34m(self, widget_id, user_key)\u001b[0m\n\u001b[1;32m    480\u001b[0m \u001b[38;5;66;03m# We'll never get here\u001b[39;00m\n\u001b[0;32m--> 481\u001b[0m \u001b[38;5;28;01mraise\u001b[39;00m \u001b[38;5;167;01mKeyError\u001b[39;00m\n",
      "\u001b[0;31mKeyError\u001b[0m: ",
      "\nDuring handling of the above exception, another exception occurred:\n",
      "\u001b[0;31mKeyError\u001b[0m                                  Traceback (most recent call last)",
      "File \u001b[0;32m~/mambaforge/envs/nbdev2/lib/python3.10/site-packages/streamlit/runtime/state/session_state_proxy.py:118\u001b[0m, in \u001b[0;36mSessionStateProxy.__getattr__\u001b[0;34m(self, key)\u001b[0m\n\u001b[1;32m    117\u001b[0m \u001b[38;5;28;01mtry\u001b[39;00m:\n\u001b[0;32m--> 118\u001b[0m     \u001b[38;5;28;01mreturn\u001b[39;00m \u001b[38;5;28;43mself\u001b[39;49m\u001b[43m[\u001b[49m\u001b[43mkey\u001b[49m\u001b[43m]\u001b[49m\n\u001b[1;32m    119\u001b[0m \u001b[38;5;28;01mexcept\u001b[39;00m \u001b[38;5;167;01mKeyError\u001b[39;00m:\n",
      "File \u001b[0;32m~/mambaforge/envs/nbdev2/lib/python3.10/site-packages/streamlit/runtime/state/session_state_proxy.py:89\u001b[0m, in \u001b[0;36mSessionStateProxy.__getitem__\u001b[0;34m(self, key)\u001b[0m\n\u001b[1;32m     88\u001b[0m require_valid_user_key(key)\n\u001b[0;32m---> 89\u001b[0m \u001b[38;5;28;01mreturn\u001b[39;00m \u001b[43mget_session_state\u001b[49m\u001b[43m(\u001b[49m\u001b[43m)\u001b[49m\u001b[43m[\u001b[49m\u001b[43mkey\u001b[49m\u001b[43m]\u001b[49m\n",
      "File \u001b[0;32m~/mambaforge/envs/nbdev2/lib/python3.10/site-packages/streamlit/runtime/state/safe_session_state.py:110\u001b[0m, in \u001b[0;36mSafeSessionState.__getitem__\u001b[0;34m(self, key)\u001b[0m\n\u001b[1;32m    108\u001b[0m     \u001b[38;5;28;01mraise\u001b[39;00m \u001b[38;5;167;01mKeyError\u001b[39;00m(key)\n\u001b[0;32m--> 110\u001b[0m \u001b[38;5;28;01mreturn\u001b[39;00m \u001b[38;5;28;43mself\u001b[39;49m\u001b[38;5;241;43m.\u001b[39;49m\u001b[43m_state\u001b[49m\u001b[43m[\u001b[49m\u001b[43mkey\u001b[49m\u001b[43m]\u001b[49m\n",
      "File \u001b[0;32m~/mambaforge/envs/nbdev2/lib/python3.10/site-packages/streamlit/runtime/state/session_state.py:439\u001b[0m, in \u001b[0;36mSessionState.__getitem__\u001b[0;34m(self, key)\u001b[0m\n\u001b[1;32m    438\u001b[0m \u001b[38;5;28;01mexcept\u001b[39;00m \u001b[38;5;167;01mKeyError\u001b[39;00m:\n\u001b[0;32m--> 439\u001b[0m     \u001b[38;5;28;01mraise\u001b[39;00m \u001b[38;5;167;01mKeyError\u001b[39;00m(_missing_key_error_message(key))\n",
      "\u001b[0;31mKeyError\u001b[0m: 'st.session_state has no key \"disabled\". Did you forget to initialize it? More info: https://docs.streamlit.io/library/advanced-features/session-state#initialization'",
      "\nDuring handling of the above exception, another exception occurred:\n",
      "\u001b[0;31mAttributeError\u001b[0m                            Traceback (most recent call last)",
      "Cell \u001b[0;32mIn[9], line 15\u001b[0m\n\u001b[1;32m      4\u001b[0m pl_sel \u001b[38;5;241m=\u001b[39m \u001b[38;5;28mlist\u001b[39m(playlist\u001b[38;5;241m.\u001b[39mvalues())\n\u001b[1;32m      6\u001b[0m all_options \u001b[38;5;241m=\u001b[39m st\u001b[38;5;241m.\u001b[39mcheckbox(\n\u001b[1;32m      7\u001b[0m     \u001b[38;5;124m\"\u001b[39m\u001b[38;5;124mSelect all Playlists\u001b[39m\u001b[38;5;124m\"\u001b[39m, on_change\u001b[38;5;241m=\u001b[39mon_ch_checkbox, \n\u001b[1;32m      8\u001b[0m     key\u001b[38;5;241m=\u001b[39m\u001b[38;5;124m'\u001b[39m\u001b[38;5;124msel_all\u001b[39m\u001b[38;5;124m'\u001b[39m, value\u001b[38;5;241m=\u001b[39m\u001b[38;5;28;01mTrue\u001b[39;00m\n\u001b[1;32m      9\u001b[0m )\n\u001b[1;32m     11\u001b[0m sel_options \u001b[38;5;241m=\u001b[39m st\u001b[38;5;241m.\u001b[39mmultiselect(\n\u001b[1;32m     12\u001b[0m     \u001b[38;5;124m'\u001b[39m\u001b[38;5;124mSelect one or more Playlist(s)\u001b[39m\u001b[38;5;124m'\u001b[39m,\n\u001b[1;32m     13\u001b[0m     pl_sel,\n\u001b[1;32m     14\u001b[0m     default\u001b[38;5;241m=\u001b[39mpl_sel,\n\u001b[0;32m---> 15\u001b[0m     disabled\u001b[38;5;241m=\u001b[39m\u001b[43mst\u001b[49m\u001b[38;5;241;43m.\u001b[39;49m\u001b[43msession_state\u001b[49m\u001b[38;5;241;43m.\u001b[39;49m\u001b[43mdisabled\u001b[49m\n\u001b[1;32m     16\u001b[0m )\n\u001b[1;32m     18\u001b[0m \u001b[38;5;28;01mif\u001b[39;00m all_options:\n\u001b[1;32m     19\u001b[0m     sel_options \u001b[38;5;241m=\u001b[39m \u001b[38;5;28mlist\u001b[39m(playlist\u001b[38;5;241m.\u001b[39mvalues())\n",
      "File \u001b[0;32m~/mambaforge/envs/nbdev2/lib/python3.10/site-packages/streamlit/runtime/state/session_state_proxy.py:120\u001b[0m, in \u001b[0;36mSessionStateProxy.__getattr__\u001b[0;34m(self, key)\u001b[0m\n\u001b[1;32m    118\u001b[0m     \u001b[38;5;28;01mreturn\u001b[39;00m \u001b[38;5;28mself\u001b[39m[key]\n\u001b[1;32m    119\u001b[0m \u001b[38;5;28;01mexcept\u001b[39;00m \u001b[38;5;167;01mKeyError\u001b[39;00m:\n\u001b[0;32m--> 120\u001b[0m     \u001b[38;5;28;01mraise\u001b[39;00m \u001b[38;5;167;01mAttributeError\u001b[39;00m(_missing_attr_error_message(key))\n",
      "\u001b[0;31mAttributeError\u001b[0m: st.session_state has no attribute \"disabled\". Did you forget to initialize it? More info: https://docs.streamlit.io/library/advanced-features/session-state#initialization"
     ]
    }
   ],
   "source": [
    "#| export\n",
    "st.title('Full-Text Search fastai Youtube Playlists')\n",
    "\n",
    "all_options = st.checkbox(\n",
    "    \"Select all Playlists\", on_change=on_ch_checkbox, \n",
    "    key='sel_all', value=True\n",
    ")\n",
    "\n",
    "sel_options = st.multiselect(\n",
    "    'Select one or more Playlist(s)',\n",
    "    pl_sel,\n",
    "    default=st.session_state.default,\n",
    "    disabled=st.session_state.disabled\n",
    ")\n",
    "\n",
    "if all_options:\n",
    "    sel_options = list(playlist.values())\n",
    "\n",
    "st.write('You selected:', sel_options)"
   ]
  },
  {
   "cell_type": "code",
   "execution_count": null,
   "id": "0b450553",
   "metadata": {},
   "outputs": [],
   "source": []
  },
  {
   "cell_type": "code",
   "execution_count": null,
   "id": "097bf3c2",
   "metadata": {},
   "outputs": [],
   "source": [
    "\n",
    "enable_all = True\n",
    "enable_each = False\n",
    "\n",
    "st.write('Select one or more Playlist(s):')\n",
    "\n",
    "option_0 = st.checkbox('ALL', value=True)\n",
    "option_1 = st.checkbox(list(playlist.values())[0], value=False)\n",
    "option_2 = st.checkbox(list(playlist.values())[1], value=False)\n",
    "option_3 = st.checkbox(list(playlist.values())[2], value=False)\n",
    "option_4 = st.checkbox(list(playlist.values())[3], value=False)\n",
    "\n"
   ]
  },
  {
   "cell_type": "code",
   "execution_count": null,
   "id": "2927304f",
   "metadata": {},
   "outputs": [],
   "source": [
    "#| export\n",
    "title = st.text_input('Search Query', 'fastcore*')\n",
    "#st.write('The current movie title is', title)"
   ]
  },
  {
   "cell_type": "code",
   "execution_count": null,
   "id": "e0ba58bd",
   "metadata": {},
   "outputs": [],
   "source": [
    "#| hide\n",
    "\n",
    "from nbdev.export import nb_export\n",
    "nb_export('_Deploy_Search_Engine_Streamlit.ipynb', lib_path='.', name='app')"
   ]
  },
  {
   "cell_type": "code",
   "execution_count": null,
   "id": "5fd61cb0",
   "metadata": {},
   "outputs": [],
   "source": []
  }
 ],
 "metadata": {
  "kernelspec": {
   "display_name": "Python 3 (ipykernel)",
   "language": "python",
   "name": "python3"
  }
 },
 "nbformat": 4,
 "nbformat_minor": 5
}
